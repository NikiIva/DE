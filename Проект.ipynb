{
 "cells": [
  {
   "cell_type": "markdown",
   "id": "248853f3",
   "metadata": {},
   "source": [
    "# README\n",
    "\n",
    "Для работы необходима библиотека \"instantclient_21_3\" скачать ее можно с официального сайта Oracle (с помощью впн)\n",
    "\n",
    "Известная проблема - oracle закрывает свое соедниение очень быстро, чтобы заново открыть соединение необходимо переоткрыть соеднинения\n",
    "\n",
    "Еще проблема - очень долгое выполнение команды update например обновление одной записи для пустой таблицы терминалов занимает 79,5 ms, а поиск всех записей в терминале 79.8 ms. \n",
    "> %time v.execute(f\"select * from {TERMINALS}\")\n",
    "\n",
    "> %time v.execute(f\"\"\"update {TERMINALS} set end_dt = to_date('{transaction.trans_date}', 'YYYY.MM.DD HH24:MI:SS')\"\"\")\n",
    "\n",
    "А скорость работы поиска подозрительный действий при подборе сумм занимает с индексацией 91,3 ms без инедксации 214.\n",
    "\n",
    "Вероятнее всего это сязано с тем, что для каждого запроса происходит переоткрытие соединение с нуля. Скорость должна возрасти если как-то объеденить серии запросов в один большой запрос.\n",
    "\n",
    "В пунктах 2-4 происходит удаление сущетсвующих таблиц, заполнение новых, тестирование, удаление тестовых данных.\n",
    "Для единичной прогонки для новой таблицы необходимо выполнить пункты 5-8. В пункте 9 закрываем открытые соединения. Пункт 10 содержит замер скорости для получения подбора сумм. "
   ]
  },
  {
   "cell_type": "code",
   "execution_count": 110,
   "id": "b1d4a2ce",
   "metadata": {},
   "outputs": [
    {
     "name": "stdout",
     "output_type": "stream",
     "text": [
      "Wall time: 90.6 ms\n",
      "Wall time: 90.4 ms\n"
     ]
    }
   ],
   "source": [
    "%time v.execute(f\"select * from {TERMINALS}\")\n",
    "%time v.execute(f\"\"\"update {TERMINALS} set end_dt = to_date('{transaction.trans_date}', 'YYYY.MM.DD HH24:MI:SS')\"\"\")"
   ]
  },
  {
   "cell_type": "markdown",
   "id": "6b247d2c",
   "metadata": {},
   "source": [
    "# Начало"
   ]
  },
  {
   "cell_type": "code",
   "execution_count": 1,
   "id": "61d2df7f",
   "metadata": {},
   "outputs": [],
   "source": [
    "import cx_Oracle\n",
    "import pandas as pd"
   ]
  },
  {
   "cell_type": "code",
   "execution_count": 2,
   "id": "9c772687",
   "metadata": {},
   "outputs": [],
   "source": [
    "#у меня по такому пути находятся файлы, чтобы oracle был доступен из питона.\n",
    "cx_Oracle.init_oracle_client(lib_dir= (input(\"Введити путь до библиотеки instantclient_21_3\")))"
   ]
  },
  {
   "cell_type": "code",
   "execution_count": null,
   "id": "5b10bdc7",
   "metadata": {},
   "outputs": [],
   "source": [
    "login = (input(\"введите логин a = \"))\n",
    "password = (input(\"введите пароль = \"))"
   ]
  },
  {
   "cell_type": "code",
   "execution_count": 4,
   "id": "6bd3f39d",
   "metadata": {},
   "outputs": [
    {
     "name": "stdout",
     "output_type": "stream",
     "text": [
      "('X',)\n"
     ]
    }
   ],
   "source": [
    "conn = cx_Oracle.connect(f\"{login}/{password}@51.141.108.8:1521/dereboot\")\n",
    "c = conn.cursor()\n",
    "v = conn.cursor()\n",
    "c.execute(r'''select * from dual''')\n",
    "for row in c:\n",
    "    print(row)"
   ]
  },
  {
   "cell_type": "markdown",
   "id": "92b17afa",
   "metadata": {},
   "source": [
    "# СОЗДАЕМ ТАБЛИЦЫ"
   ]
  },
  {
   "cell_type": "markdown",
   "id": "441fa807",
   "metadata": {},
   "source": [
    "логика такая:\n",
    "\n",
    "сначала инициализируем переменные с именами таблицы\n",
    "\n",
    "потом удаляем существующие таблицы\n",
    "\n",
    "потом создаем таблицы и нужную для работы программу логику:\n",
    "\n",
    "1) создаем таблицу\n",
    "\n",
    "2) создаем класс для представления в питоне, что по сути является частью промежуточной области.\n",
    "\n",
    "3) определяем функцию, которая переводит данные из представления питона в хранилище данных\n",
    "\n",
    "4) произвожу тестирование, перед основной работой программы внесенные данные почищу"
   ]
  },
  {
   "cell_type": "code",
   "execution_count": 5,
   "id": "a097c137",
   "metadata": {},
   "outputs": [],
   "source": [
    "CLIENTS = 'clients12'\n",
    "ACCOUNTS = 'accounts21'\n",
    "CARDS = 'cards12'\n",
    "TERMINALS = 'terminals12'\n",
    "TRANSACTION = 'transactions12'\n",
    "META = 'meta12'"
   ]
  },
  {
   "cell_type": "markdown",
   "id": "a4aa9846",
   "metadata": {},
   "source": [
    "## drop tables. "
   ]
  },
  {
   "cell_type": "code",
   "execution_count": 6,
   "id": "43567c14",
   "metadata": {},
   "outputs": [],
   "source": [
    "c.execute(f'drop table {CLIENTS}')"
   ]
  },
  {
   "cell_type": "code",
   "execution_count": 7,
   "id": "388eaf09",
   "metadata": {},
   "outputs": [],
   "source": [
    "c.execute(f'drop table {ACCOUNTS}')"
   ]
  },
  {
   "cell_type": "code",
   "execution_count": 8,
   "id": "4ba8711f",
   "metadata": {},
   "outputs": [],
   "source": [
    "c.execute(f'drop table {CARDS}')"
   ]
  },
  {
   "cell_type": "code",
   "execution_count": 9,
   "id": "91732a14",
   "metadata": {},
   "outputs": [],
   "source": [
    "c.execute(f'drop table {TERMINALS}')"
   ]
  },
  {
   "cell_type": "code",
   "execution_count": 10,
   "id": "1828a225",
   "metadata": {},
   "outputs": [],
   "source": [
    "c.execute(f'drop table {TRANSACTION}')"
   ]
  },
  {
   "cell_type": "code",
   "execution_count": 11,
   "id": "a790e3e0",
   "metadata": {},
   "outputs": [],
   "source": [
    "c.execute('commit')"
   ]
  },
  {
   "cell_type": "code",
   "execution_count": 12,
   "id": "139c6842",
   "metadata": {},
   "outputs": [],
   "source": [
    "# считываем данные для проверки, потом - удалим\n",
    "data = pd.read_excel(\"passport.xlsx\")\n",
    "data.shape\n",
    "stage = data"
   ]
  },
  {
   "cell_type": "markdown",
   "id": "60842639",
   "metadata": {},
   "source": [
    "## TRANSACTION"
   ]
  },
  {
   "cell_type": "code",
   "execution_count": 13,
   "id": "7058a033",
   "metadata": {},
   "outputs": [],
   "source": [
    "#create TRANSACTION\n",
    "c.execute(f\"\"\"\n",
    "CREATE TABLE {TRANSACTION}\n",
    "    (\n",
    "     trans_id               varchar (10)        NULL,       -- 1      --int64 (8 знаков)\n",
    "     trans_date             DATE                NULL,       -- 2      --datetime64[ns] yyyy-mm-dd hh:mm:ss\n",
    "     card_num               varchar (20 BYTE)   NULL,       -- 3      --object (20 знаков, числа )\n",
    "     oper_type              varchar (40 BYTE)   NULL,       -- 14     --object максимум 11 кирилицей\n",
    "     amt                    number (9,2)        NULL,       -- 15     --float64 (2 занка после запятой)\n",
    "     oper_result            varchar (20 BYTE)   NULL,       -- 16     --object 7 знаков кирилицей\n",
    "     terminal               varchar (10 BYTE)   NULL,       -- 17     --object 8 знаков 3латиница и 5 цифр\n",
    "     start_dt               DATE                NULL,\n",
    "     end_dt                 DATE                NULL\n",
    "    )\n",
    "\"\"\")"
   ]
  },
  {
   "cell_type": "code",
   "execution_count": 14,
   "id": "dfc492ef",
   "metadata": {},
   "outputs": [],
   "source": [
    "class class_transactions:\n",
    "    def insert(self, start_dt):\n",
    "        return f\"\"\"\n",
    "insert into {TRANSACTION}(\n",
    "   trans_id\n",
    "  ,trans_date\n",
    "  ,card_num\n",
    "  ,oper_type\n",
    "  ,amt\n",
    "  ,oper_result\n",
    "  ,terminal\n",
    "  ,start_dt\n",
    ")\n",
    "values (\n",
    "   '{self.trans_id}'\n",
    "  ,to_date('{self.trans_date}', 'YYYY.MM.DD HH24:MI:SS')\n",
    "  ,'{self.card_num}'\n",
    "  ,'{self.oper_type}'\n",
    "  , {self.amt}\n",
    "  ,'{self.oper_result}'\n",
    "  ,'{self.terminal}'\n",
    "  ,to_date('{start_dt}', 'YYYY.MM.DD HH24:MI:SS')\n",
    ")\"\"\"\n",
    "    \n",
    "    def __init__(self, trans_id, trans_date, card_num, oper_type, amt, oper_result, terminal):\n",
    "        self.trans_id = trans_id\n",
    "        self.trans_date = trans_date\n",
    "        self.card_num = card_num        \n",
    "        self.oper_type = oper_type\n",
    "        self.amt = amt\n",
    "        self.oper_result = oper_result\n",
    "        self.terminal = terminal\n",
    "        \n",
    "    def __str__(self):\n",
    "        return 'trans_id=' + str(self.trans_id) + \", trans_date=\" + str(self.trans_date) + \", card_num=\" + str(self.card_num) + \", oper_type=\" + str(self.oper_type) + ', amt=' + str(self.amt) + ', oper_result=' + str(self.oper_result) + ', terminal=' + str(self.terminal)\n"
   ]
  },
  {
   "cell_type": "code",
   "execution_count": 15,
   "id": "f43fa4df",
   "metadata": {},
   "outputs": [],
   "source": [
    "def fill_transaction(new_data, index):\n",
    "    return class_transactions(new_data.iloc[index][0],new_data.iloc[index][1],new_data.iloc[index][2],\n",
    "                        new_data.iloc[index][13],new_data.iloc[index][14],new_data.iloc[index][15],new_data.iloc[index][16])"
   ]
  },
  {
   "cell_type": "code",
   "execution_count": 16,
   "id": "1ca47278",
   "metadata": {},
   "outputs": [],
   "source": [
    "q = fill_transaction(data, 0)"
   ]
  },
  {
   "cell_type": "code",
   "execution_count": 17,
   "id": "13ae88c4",
   "metadata": {},
   "outputs": [],
   "source": [
    "c.execute(q.insert(q.trans_date))"
   ]
  },
  {
   "cell_type": "code",
   "execution_count": 18,
   "id": "8b40ee9a",
   "metadata": {},
   "outputs": [
    {
     "name": "stdout",
     "output_type": "stream",
     "text": [
      "('1', datetime.datetime(2020, 5, 1, 0, 0, 29), '59649132026167121328', 'Пополнение', 31576.6, 'Отказ', 'POS43792', datetime.datetime(2020, 5, 1, 0, 0, 29), None)\n"
     ]
    }
   ],
   "source": [
    "c.execute(f\"select * from {TRANSACTION}\")\n",
    "for row in c:\n",
    "    print(row)"
   ]
  },
  {
   "cell_type": "markdown",
   "id": "ad85ebc2",
   "metadata": {},
   "source": [
    "## TERMINALS"
   ]
  },
  {
   "cell_type": "code",
   "execution_count": 19,
   "id": "7643acf2",
   "metadata": {},
   "outputs": [],
   "source": [
    "#create TERMINALS\n",
    "c.execute(f\"\"\"\n",
    "CREATE TABLE {TERMINALS}\n",
    "    (\n",
    "     terminal               varchar (10 BYTE)   NULL,       -- 17           --object 8 знаков 3латиница и 5 цифр\n",
    "     terminal_type          varchar (3 BYTE)    NULL,       -- 18           --object (3 знака латиница) POS/ATM\n",
    "     terminal_city          varchar (50 BYTE)   NULL,       -- 19           --object max 22 кирилицей\n",
    "     terminal_address       varchar (100 BYTE)  NULL,       -- 20           --object max 45 кирилицей\n",
    "     start_dt               date     NULL,\n",
    "     end_dt                 date NULL\n",
    "    )\n",
    "\"\"\")"
   ]
  },
  {
   "cell_type": "code",
   "execution_count": 20,
   "id": "88ef2357",
   "metadata": {},
   "outputs": [],
   "source": [
    "class class_terminals:\n",
    "    def insert(self, start_dt):\n",
    "        return f\"\"\"\n",
    "insert into {TERMINALS} (\n",
    "  terminal\n",
    "  ,terminal_type\n",
    "  ,terminal_city\n",
    "  ,terminal_address\n",
    "  ,start_dt\n",
    ")\n",
    "values (\n",
    "   '{self.terminal_id}'\n",
    "  ,'{self.terminal_type}'\n",
    "  ,'{self.terminal_city}'\n",
    "  ,'{self.terminal_address}'\n",
    "  ,to_date('{start_dt}', 'YYYY.MM.DD HH24:MI:SS')\n",
    ")\"\"\"\n",
    "    def __eq__(self, other):\n",
    "        return self.terminal_id == other.terminal_id and self.terminal_type == other.terminal_type and self.terminal_city == other.terminal_city and self.terminal_address == other.terminal_address\n",
    "       \n",
    "    def __init__(self, terminal_id, terminal_type, terminal_city, terminal_address):\n",
    "        self.terminal_id = terminal_id\n",
    "        self.terminal_type = terminal_type\n",
    "        self.terminal_city = terminal_city\n",
    "        self.terminal_address = terminal_address\n",
    "    def __str__(self):\n",
    "        return \"terminal_id=\" + str(self.terminal_id) + ', terminal_type=' + str(self.terminal_type) +', terminal_city='+ str(self.terminal_city) + ', terminal_address=' + str(self.terminal_address)"
   ]
  },
  {
   "cell_type": "code",
   "execution_count": 21,
   "id": "afa901ea",
   "metadata": {},
   "outputs": [],
   "source": [
    "def fill_terminal(new_data, index):\n",
    "    return class_terminals(new_data.iloc[index][16], new_data.iloc[index][17],new_data.iloc[index][18],new_data.iloc[index][19])"
   ]
  },
  {
   "cell_type": "code",
   "execution_count": 22,
   "id": "2bc9e311",
   "metadata": {},
   "outputs": [
    {
     "name": "stdout",
     "output_type": "stream",
     "text": [
      "terminal_id=POS43792, terminal_type=POS, terminal_city=Славянск-на-Кубани, terminal_address=Славянск-на-Кубани, ул. Клецкая, д. 86\n"
     ]
    }
   ],
   "source": [
    "w = fill_terminal(data, 0)\n",
    "print(w)"
   ]
  },
  {
   "cell_type": "code",
   "execution_count": 23,
   "id": "d2937e62",
   "metadata": {},
   "outputs": [],
   "source": [
    "c.execute(w.insert(q.trans_date))"
   ]
  },
  {
   "cell_type": "code",
   "execution_count": 24,
   "id": "caff6249",
   "metadata": {},
   "outputs": [
    {
     "name": "stdout",
     "output_type": "stream",
     "text": [
      "('POS43792', 'POS', 'Славянск-на-Кубани', 'Славянск-на-Кубани, ул. Клецкая, д. 86', datetime.datetime(2020, 5, 1, 0, 0, 29), None)\n"
     ]
    }
   ],
   "source": [
    "c.execute(f\"select * from {TERMINALS}\")\n",
    "for row in c:\n",
    "    print(row)"
   ]
  },
  {
   "cell_type": "markdown",
   "id": "7cc0b244",
   "metadata": {},
   "source": [
    "## CARDS"
   ]
  },
  {
   "cell_type": "code",
   "execution_count": 25,
   "id": "0e519478",
   "metadata": {},
   "outputs": [],
   "source": [
    "#create CARDS\n",
    "c.execute(f\"\"\"\n",
    "CREATE TABLE {CARDS}\n",
    "    (\n",
    "     card_num               varchar (20 BYTE)   NOT NULL,   -- 3            --object (20 знаков, числа )\n",
    "     account_num            varchar (20 BYTE)   NULL,       -- 4            --object (20 знаков, числа)\n",
    "     start_dt               DATE                NOT NULL,\n",
    "     end_dt                 DATE                NULL\n",
    "    )\n",
    "\"\"\")"
   ]
  },
  {
   "cell_type": "code",
   "execution_count": 26,
   "id": "62c72aa0",
   "metadata": {},
   "outputs": [],
   "source": [
    "class class_cards:\n",
    "    def insert(self, start_dt):\n",
    "        return f\"\"\"\n",
    "insert into {CARDS} (\n",
    "   card_num\n",
    "  ,account_num\n",
    "  ,start_dt\n",
    ")\n",
    "values (\n",
    "   '{self.card_num}'\n",
    "  ,'{self.account_num}'\n",
    "  ,to_date('{start_dt}', 'YYYY.MM.DD HH24:MI:SS')\n",
    ")\"\"\"\n",
    "    def __eq__(self, other):\n",
    "        return self.card_num == other.card_num and self.account_num == other.account_num\n",
    "    \n",
    "    def __init__(self, card_num, account_num):\n",
    "        self.card_num = card_num\n",
    "        self.account_num = account_num\n",
    "    def __str__(self):\n",
    "        return 'card_num=' + str(self.card_num) + ', account_num=' + str(self.account_num)"
   ]
  },
  {
   "cell_type": "code",
   "execution_count": 27,
   "id": "17764c7d",
   "metadata": {},
   "outputs": [],
   "source": [
    "def fill_card(new_data, index):\n",
    "    return class_cards(new_data.iloc[index][2], new_data.iloc[index][3])"
   ]
  },
  {
   "cell_type": "code",
   "execution_count": 28,
   "id": "e2a5fb63",
   "metadata": {},
   "outputs": [
    {
     "name": "stdout",
     "output_type": "stream",
     "text": [
      "card_num=59649132026167121328, account_num=40817810000001139973\n"
     ]
    }
   ],
   "source": [
    "e = fill_card(data, 0)\n",
    "print(e)"
   ]
  },
  {
   "cell_type": "code",
   "execution_count": 29,
   "id": "fc2a9a8d",
   "metadata": {},
   "outputs": [],
   "source": [
    "c.execute(e.insert(q.trans_date))"
   ]
  },
  {
   "cell_type": "code",
   "execution_count": 30,
   "id": "f94fc16a",
   "metadata": {},
   "outputs": [
    {
     "name": "stdout",
     "output_type": "stream",
     "text": [
      "('59649132026167121328', '40817810000001139973', datetime.datetime(2020, 5, 1, 0, 0, 29), None)\n"
     ]
    }
   ],
   "source": [
    "c.execute(f\"select * from {CARDS}\")\n",
    "for row in c:\n",
    "    print(row)"
   ]
  },
  {
   "cell_type": "markdown",
   "id": "844cbff8",
   "metadata": {},
   "source": [
    "## ACCOUNTS"
   ]
  },
  {
   "cell_type": "code",
   "execution_count": 31,
   "id": "d1ae28e8",
   "metadata": {},
   "outputs": [],
   "source": [
    "#create ACCOUNTS\n",
    "c.execute(f\"\"\"\n",
    "CREATE TABLE {ACCOUNTS}\n",
    "    (\n",
    "     account_num            varchar (20 BYTE)   NOT NULL,   -- 4            --object (20 знаков, числа)\n",
    "     valid_to               date                NULL,       -- 5            --date yyyy-mm-dd\n",
    "     client                 varchar (7 BYTE)    NULL,       -- 6            --object (7знаков, числа-)\n",
    "     start_dt               DATE                NOT NULL,\n",
    "     end_dt                 DATE                NULL\n",
    "    )\n",
    "\"\"\")"
   ]
  },
  {
   "cell_type": "code",
   "execution_count": 32,
   "id": "262ed4e9",
   "metadata": {},
   "outputs": [],
   "source": [
    "class class_accounts:\n",
    "    def insert(self, start_dt):\n",
    "        return f\"\"\"\n",
    "insert into {ACCOUNTS} (\n",
    "   account_num\n",
    "  ,valid_to\n",
    "  ,client \n",
    "  ,start_dt\n",
    ")\n",
    "values (\n",
    "  '{self.account_num}'\n",
    "  ,to_date('{self.valid_to}','YYYY.MM.DD HH24:MI:SS')\n",
    "  ,'{self.client}'\n",
    "  ,to_date('{start_dt}','YYYY.MM.DD HH24:MI:SS')\n",
    ")\"\"\"\n",
    "    def __eq__(self, other):\n",
    "        return self.account_num == other.account_num and self.valid_to == other.valid_to and self.client == other.client\n",
    "    \n",
    "    def __init__(self, account_num, valid_to, client):\n",
    "        self.account_num = account_num\n",
    "        self.valid_to = valid_to\n",
    "        self.client = client\n",
    "        \n",
    "    def __str__(self):\n",
    "        return 'account_num=' + str(self.account_num) + ', valid_to=' + str(self.valid_to) + ', client=' + str(self.client)\n"
   ]
  },
  {
   "cell_type": "code",
   "execution_count": 33,
   "id": "d1723f87",
   "metadata": {},
   "outputs": [],
   "source": [
    "def fill_account(new_data, index):\n",
    "    return class_accounts(new_data.iloc[index][3],new_data.iloc[index][4],new_data.iloc[index][5])"
   ]
  },
  {
   "cell_type": "code",
   "execution_count": 34,
   "id": "74075986",
   "metadata": {},
   "outputs": [
    {
     "name": "stdout",
     "output_type": "stream",
     "text": [
      "account_num=40817810000001139973, valid_to=2036-01-16 00:00:00, client=3-95179\n"
     ]
    }
   ],
   "source": [
    "r = fill_account(data, 0)\n",
    "print(r)"
   ]
  },
  {
   "cell_type": "code",
   "execution_count": 35,
   "id": "28c77c04",
   "metadata": {},
   "outputs": [],
   "source": [
    "c.execute(r.insert(q.trans_date))"
   ]
  },
  {
   "cell_type": "code",
   "execution_count": 36,
   "id": "3188f898",
   "metadata": {},
   "outputs": [
    {
     "name": "stdout",
     "output_type": "stream",
     "text": [
      "('40817810000001139973', datetime.datetime(2036, 1, 16, 0, 0), '3-95179', datetime.datetime(2020, 5, 1, 0, 0, 29), None)\n"
     ]
    }
   ],
   "source": [
    "c.execute(f\"select * from {ACCOUNTS}\")\n",
    "for row in c:\n",
    "    print(row)"
   ]
  },
  {
   "cell_type": "markdown",
   "id": "bdcfc719",
   "metadata": {},
   "source": [
    "## CLIENTS"
   ]
  },
  {
   "cell_type": "code",
   "execution_count": 37,
   "id": "cc674633",
   "metadata": {},
   "outputs": [],
   "source": [
    "#create CLIENTS\n",
    "c.execute(f\"\"\"\n",
    "CREATE TABLE {CLIENTS}\n",
    "    (\n",
    "     client_id              varchar (7 BYTE)    NOT NULL,   -- 6            --object (7знаков, числа-)\n",
    "     last_name              varchar (40 BYTE)   NULL,       -- 7            --object кирилица\n",
    "     first_name             varchar (40 BYTE)   NULL,       -- 8            --object кирилица   \n",
    "     patronymic             varchar (40 BYTE)   NULL,       -- 9            --object кирилица\n",
    "     date_of_birth          date                NULL,       -- 10           --date yyyy-mm-dd\n",
    "     passport_num           varchar (10 BYTE)   NULL,       -- 11           --int64 10 знаков\n",
    "     passport_valid_to      date                NULL,       -- 12           --date yyyy-mm-dd\n",
    "     phone                  varchar (11 BYTE)   NULL,       -- 13           --int64 11знаков\n",
    "     start_dt               date                NOT NULL,\n",
    "     end_dt                 date                NULL\n",
    "    )\n",
    "\"\"\")"
   ]
  },
  {
   "cell_type": "code",
   "execution_count": 38,
   "id": "3bdd3edb",
   "metadata": {},
   "outputs": [],
   "source": [
    "class class_clients:\n",
    "    def insert(self, start_dt):\n",
    "        return f\"\"\"\n",
    "insert into {CLIENTS} (\n",
    "  client_id\n",
    "  ,last_name\n",
    "  , first_name\n",
    "  , patronymic\n",
    "  , date_of_birth\n",
    "  , passport_num\n",
    "  , passport_valid_to\n",
    "  , phone\n",
    "  , start_dt\n",
    ")\n",
    "values (\n",
    "  '{self.client_id}'\n",
    "  , '{self.last_name}'\n",
    "  , '{self.first_name}'\n",
    "  , '{self.patrinmic}'\n",
    "  , to_date('{self.date_of_birth}','YYYY.MM.DD HH24:MI:SS')\n",
    "  , '{self.passport_num}'\n",
    "  , to_date('{self.passport_valid_to}','YYYY.MM.DD HH24:MI:SS') \n",
    "  , '{self.phone}'\n",
    "  , to_date('{start_dt}','YYYY.MM.DD HH24:MI:SS')\n",
    ")\"\"\"\n",
    "    \n",
    "    def __eq__(self, other):\n",
    "        return self.client_id == other.client_id and    self.last_name == other.last_name and     self.first_name == other.first_name and    self.patrinmic == other.patrinmic and    self.date_of_birth == other.date_of_birth and    str(self.passport_num) == str(other.passport_num) and    self.passport_valid_to == other.passport_valid_to and    str(self.phone) == str(other.phone)\n",
    "    \n",
    "    def __init__(self, client_id, last_name, first_name, patrinmic, date_of_birth, passport_num, passport_valid_to, phone):\n",
    "        self.client_id = client_id\n",
    "        self.last_name = last_name\n",
    "        self.first_name = first_name\n",
    "        self.patrinmic = patrinmic\n",
    "        self.date_of_birth = date_of_birth\n",
    "        self.passport_num = passport_num\n",
    "        self.passport_valid_to = passport_valid_to\n",
    "        self.phone = phone\n",
    "        \n",
    "    def __str__(self):\n",
    "        return 'client_id='+str(self.client_id) + ', last_name=' + str(self.last_name) + ', first_name=' + str(self.first_name)+    ', patrinmic=' + str(self.patrinmic) + ', date_of_birth=' + str(self.date_of_birth) + ', passport_num=' + str(self.passport_num)+    ', passport_valid_to=' + str(self.passport_valid_to) + ', phone=' + str(self.phone)"
   ]
  },
  {
   "cell_type": "code",
   "execution_count": 39,
   "id": "50c5bb6b",
   "metadata": {},
   "outputs": [],
   "source": [
    "def fill_client(new_data, index):\n",
    "    return class_clients(new_data.iloc[index][5],new_data.iloc[index][6],new_data.iloc[index][7],new_data.iloc[index][8],new_data.iloc[index][9],\n",
    "                  new_data.iloc[index][10],new_data.iloc[index][11],new_data.iloc[index][12])"
   ]
  },
  {
   "cell_type": "code",
   "execution_count": 40,
   "id": "706b7dc6",
   "metadata": {},
   "outputs": [
    {
     "name": "stdout",
     "output_type": "stream",
     "text": [
      "client_id=3-95179, last_name=Мисик, first_name=Сергей, patrinmic=Николаевич, date_of_birth=1938-06-25 00:00:00, passport_num=7076445954, passport_valid_to=2019-11-09 00:00:00, phone=79497481039\n"
     ]
    }
   ],
   "source": [
    "t = fill_client(data, 0)\n",
    "print(t)"
   ]
  },
  {
   "cell_type": "code",
   "execution_count": 41,
   "id": "23152fa5",
   "metadata": {},
   "outputs": [],
   "source": [
    "c.execute(t.insert(q.trans_date))"
   ]
  },
  {
   "cell_type": "code",
   "execution_count": 42,
   "id": "f9a11fd6",
   "metadata": {},
   "outputs": [
    {
     "name": "stdout",
     "output_type": "stream",
     "text": [
      "('3-95179', 'Мисик', 'Сергей', 'Николаевич', datetime.datetime(1938, 6, 25, 0, 0), '7076445954', datetime.datetime(2019, 11, 9, 0, 0), '79497481039', datetime.datetime(2020, 5, 1, 0, 0, 29), None)\n"
     ]
    }
   ],
   "source": [
    "c.execute(f\"select * from {CLIENTS}\")\n",
    "for row in c:\n",
    "    print(row)"
   ]
  },
  {
   "cell_type": "markdown",
   "id": "439912a1",
   "metadata": {},
   "source": [
    "## Создаем индексы"
   ]
  },
  {
   "cell_type": "code",
   "execution_count": 43,
   "id": "fa2238eb",
   "metadata": {},
   "outputs": [],
   "source": [
    "# create index QWE on terminals1(terminal, end_dt) - попробовать\n",
    "c.execute(f\"create index IX_{TRANSACTION}_TRANS_ID on {TRANSACTION}(trans_id)\")\n",
    "c.execute(f\"create index IX_{TERMINALS}_TERMINAL_END_DT on {TERMINALS}(terminal, end_dt)\")\n",
    "c.execute(f\"create index IX_{CARDS}_card_num_end_dt on {CARDS}(card_num, end_dt)\")\n",
    "c.execute(f\"create index IX_{ACCOUNTS}_account_num_end_dt on {ACCOUNTS}(account_num, end_dt)\")\n",
    "c.execute(f\"create index IX_{CLIENTS}_client_id_end_dt on {CLIENTS}(client_id, end_dt)\")\n",
    "c.execute('commit')"
   ]
  },
  {
   "cell_type": "markdown",
   "id": "2b0fe3b1",
   "metadata": {},
   "source": [
    "## Создаем ограничения"
   ]
  },
  {
   "cell_type": "markdown",
   "id": "eb0f0b2e",
   "metadata": {},
   "source": [
    "не могу понять, как надо делать primaryKey на transactions, чтобы можно было сослаться на него в terminals и cards.\n",
    "Есть вариант навесить его на (card_num, terminal_id, st_dt)\n",
    "В terminals добавить card_num, а в cards -  terminal_id и нормально ссылать на ключ, но какое-то решение не очень на мой взгляд"
   ]
  },
  {
   "cell_type": "markdown",
   "id": "a628e753",
   "metadata": {},
   "source": [
    "## mata-info\n",
    "\n",
    "с метой слегка другая логика - в ней я питоновское представление достаю из sql-таблицы."
   ]
  },
  {
   "cell_type": "code",
   "execution_count": 44,
   "id": "6440565d",
   "metadata": {},
   "outputs": [
    {
     "name": "stdout",
     "output_type": "stream",
     "text": [
      "('X',)\n"
     ]
    }
   ],
   "source": [
    "conn = cx_Oracle.connect(f\"{login}/{password}@51.141.108.8:1521/dereboot\")\n",
    "c = conn.cursor()\n",
    "v = conn.cursor()\n",
    "c.execute(r'''select * from dual''')\n",
    "for row in c:\n",
    "    print(row)"
   ]
  },
  {
   "cell_type": "code",
   "execution_count": 45,
   "id": "e9c98b85",
   "metadata": {},
   "outputs": [],
   "source": [
    "c.execute(f'drop table {META}')"
   ]
  },
  {
   "cell_type": "code",
   "execution_count": 46,
   "id": "f9a083c1",
   "metadata": {},
   "outputs": [],
   "source": [
    "#create meta-info\n",
    "c.execute(f\"\"\"\n",
    "CREATE TABLE {META}\n",
    "    (\n",
    "     last_update_date   DATE   NULL,       \n",
    "     passport_date      DATE   NULL,    \n",
    "     account_date       DATE   NULL,       \n",
    "     city_date          DATE   NULL, \n",
    "     sum_date           DATE   NULL,       \n",
    "     start_dt           DATE   NULL,\n",
    "     end_dt             DATE   NULL\n",
    "    )\n",
    "\"\"\")"
   ]
  },
  {
   "cell_type": "markdown",
   "id": "94f768e5",
   "metadata": {},
   "source": [
    "вношу данные в таблицу"
   ]
  },
  {
   "cell_type": "code",
   "execution_count": 47,
   "id": "d47a2824",
   "metadata": {},
   "outputs": [],
   "source": [
    "c.execute(f\"\"\"\n",
    "insert into {META} (last_update_date, passport_date, account_date, city_date, sum_date, start_dt)\n",
    "values (\n",
    "    to_date('1990.01.01 00:00:00', 'YYYY.MM.DD HH24:MI:SS'),\n",
    "    to_date('1990.01.01 00:00:00', 'YYYY.MM.DD HH24:MI:SS'),\n",
    "    to_date('1990.01.01 00:00:00', 'YYYY.MM.DD HH24:MI:SS'),\n",
    "    to_date('1990.01.01 00:00:00', 'YYYY.MM.DD HH24:MI:SS'),\n",
    "    to_date('1990.01.01 00:00:00', 'YYYY.MM.DD HH24:MI:SS'),\n",
    "    to_date('1990.01.01 00:00:00', 'YYYY.MM.DD HH24:MI:SS')\n",
    ")\n",
    "\"\"\")"
   ]
  },
  {
   "cell_type": "code",
   "execution_count": 48,
   "id": "390042a8",
   "metadata": {},
   "outputs": [],
   "source": [
    "c.execute('commit')"
   ]
  },
  {
   "cell_type": "code",
   "execution_count": 49,
   "id": "90619746",
   "metadata": {},
   "outputs": [],
   "source": [
    "class meta:\n",
    "    def __init__(self, a,b,c,d,e):\n",
    "        self.last_update_date = pd.Timestamp(a)\n",
    "        self.passport_date = pd.Timestamp(b)\n",
    "        self.account_date = pd.Timestamp(c)\n",
    "        self.city_date = pd.Timestamp(d)\n",
    "        self.sum_date = pd.Timestamp(e)"
   ]
  },
  {
   "cell_type": "code",
   "execution_count": 50,
   "id": "bc277433",
   "metadata": {},
   "outputs": [
    {
     "data": {
      "text/plain": [
       "<cx_Oracle.Cursor on <cx_Oracle.Connection to student_ivashin@51.141.108.8:1521/dereboot>>"
      ]
     },
     "execution_count": 50,
     "metadata": {},
     "output_type": "execute_result"
    }
   ],
   "source": [
    "c.execute(f\"select * from {META} where end_dt is null\")"
   ]
  },
  {
   "cell_type": "code",
   "execution_count": 51,
   "id": "c9600220",
   "metadata": {},
   "outputs": [
    {
     "name": "stdout",
     "output_type": "stream",
     "text": [
      "(datetime.datetime(1990, 1, 1, 0, 0), datetime.datetime(1990, 1, 1, 0, 0), datetime.datetime(1990, 1, 1, 0, 0), datetime.datetime(1990, 1, 1, 0, 0), datetime.datetime(1990, 1, 1, 0, 0), datetime.datetime(1990, 1, 1, 0, 0), None)\n"
     ]
    }
   ],
   "source": [
    "for row in c:\n",
    "    print(row)\n",
    "    meta_instance = meta(row[0],row[1],row[2],row[3],row[4])"
   ]
  },
  {
   "cell_type": "markdown",
   "id": "200fa93e",
   "metadata": {},
   "source": [
    "проверка"
   ]
  },
  {
   "cell_type": "code",
   "execution_count": 52,
   "id": "d67d567b",
   "metadata": {},
   "outputs": [
    {
     "data": {
      "text/plain": [
       "Timestamp('1990-01-01 00:00:00')"
      ]
     },
     "execution_count": 52,
     "metadata": {},
     "output_type": "execute_result"
    }
   ],
   "source": [
    "meta_instance.last_update_date"
   ]
  },
  {
   "cell_type": "markdown",
   "id": "4fd72b4b",
   "metadata": {},
   "source": [
    "# чищу данные после тестирования"
   ]
  },
  {
   "cell_type": "code",
   "execution_count": 53,
   "id": "49e0f68e",
   "metadata": {},
   "outputs": [],
   "source": [
    "def test_case():\n",
    "    \"\"\"Подчищаем все данные из таблица, нужно для отладки программы\"\"\"\n",
    "    c.execute(f'delete from {TERMINALS} where 1=1')\n",
    "    c.execute(f'delete from {CARDS} where 1=1')\n",
    "    c.execute(f'delete from {TRANSACTION} where 1=1')\n",
    "    c.execute(f'delete from {ACCOUNTS} where 1=1')\n",
    "    c.execute(f'delete from {CLIENTS} where 1=1')\n",
    "    c.execute(f'delete from {META} where 1=1')\n",
    "    c.execute(f\"\"\"\n",
    "    insert into {META} (last_update_date, passport_date, account_date, city_date, sum_date, start_dt)\n",
    "    values (\n",
    "        to_date('1990.01.01 00:00:00', 'YYYY.MM.DD HH24:MI:SS'),\n",
    "        to_date('1990.01.01 00:00:00', 'YYYY.MM.DD HH24:MI:SS'),\n",
    "        to_date('1990.01.01 00:00:00', 'YYYY.MM.DD HH24:MI:SS'),\n",
    "        to_date('1990.01.01 00:00:00', 'YYYY.MM.DD HH24:MI:SS'),\n",
    "        to_date('1990.01.01 00:00:00', 'YYYY.MM.DD HH24:MI:SS'),\n",
    "        to_date('1990.01.01 00:00:00', 'YYYY.MM.DD HH24:MI:SS')\n",
    "    )\n",
    "    \"\"\")\n",
    "    c.execute('commit')"
   ]
  },
  {
   "cell_type": "code",
   "execution_count": 54,
   "id": "3a962a35",
   "metadata": {},
   "outputs": [],
   "source": [
    "test_case()"
   ]
  },
  {
   "cell_type": "markdown",
   "id": "240148d8",
   "metadata": {},
   "source": [
    "# Чтение данных"
   ]
  },
  {
   "cell_type": "code",
   "execution_count": 85,
   "id": "8cbcd36d",
   "metadata": {},
   "outputs": [
    {
     "name": "stdout",
     "output_type": "stream",
     "text": [
      "введите путь к таблице pays_2.xlsx\n"
     ]
    }
   ],
   "source": [
    "data_path = (input(\"введите путь к таблице \"))"
   ]
  },
  {
   "cell_type": "code",
   "execution_count": 86,
   "id": "35aebe50",
   "metadata": {},
   "outputs": [],
   "source": [
    "data = pd.read_excel(f\"{data_path}\")\n",
    "stage = pd.DataFrame(columns = data.columns)"
   ]
  },
  {
   "cell_type": "code",
   "execution_count": 87,
   "id": "3c62186e",
   "metadata": {},
   "outputs": [],
   "source": [
    "for i in range(len(data)):\n",
    "    #считали построчно из источника данные в stage\n",
    "    if(data.loc[i].date > meta_instance.last_update_date):\n",
    "        stage.loc[i] = data.loc[i]"
   ]
  },
  {
   "cell_type": "markdown",
   "id": "49af2bfa",
   "metadata": {},
   "source": [
    "# Основная работа"
   ]
  },
  {
   "cell_type": "code",
   "execution_count": 88,
   "id": "81d6a115",
   "metadata": {},
   "outputs": [
    {
     "name": "stdout",
     "output_type": "stream",
     "text": [
      "('X',)\n"
     ]
    }
   ],
   "source": [
    "conn = cx_Oracle.connect(f\"{login}/{password}@51.141.108.8:1521/dereboot\")\n",
    "c = conn.cursor()\n",
    "v = conn.cursor()\n",
    "c.execute(r'''select * from dual''')\n",
    "for row in c:\n",
    "    print(row)"
   ]
  },
  {
   "cell_type": "code",
   "execution_count": 89,
   "id": "7c73ffa7",
   "metadata": {},
   "outputs": [
    {
     "name": "stdout",
     "output_type": "stream",
     "text": [
      "trans_id=33, trans_date=2020-05-02 00:05:00, card_num=42810999157069197448, oper_type=Оплата, amt=1, oper_result=Успешно, terminal=POS64475\n",
      "повторная карта 42810999157069197448\n",
      "trans_id=36, trans_date=2020-05-02 00:05:00, card_num=43440125275047901246, oper_type=Оплата, amt=10, oper_result=Отказ, terminal=POS20393\n",
      "повторная карта 43440125275047901246\n",
      "trans_id=37, trans_date=2020-05-02 00:10:00, card_num=43440125275047901246, oper_type=Оплата, amt=1, oper_result=Успешно, terminal=POS20393\n",
      "повторная карта 43440125275047901246\n",
      "trans_id=38, trans_date=2020-05-02 00:00:00, card_num=56394328398014656631, oper_type=Пополнение, amt=1000, oper_result=Отказ, terminal=ATM45335\n",
      "trans_id=39, trans_date=2020-05-02 00:05:00, card_num=56394328398014656631, oper_type=Пополнение, amt=100, oper_result=Отказ, terminal=ATM45335\n",
      "повторная карта 56394328398014656631\n",
      "trans_id=40, trans_date=2020-05-02 00:10:00, card_num=56394328398014656631, oper_type=Пополнение, amt=10, oper_result=Отказ, terminal=ATM45335\n",
      "повторная карта 56394328398014656631\n",
      "trans_id=41, trans_date=2020-05-02 00:15:00, card_num=56394328398014656631, oper_type=Пополнение, amt=1, oper_result=Успешно, terminal=ATM45335\n",
      "повторная карта 56394328398014656631\n"
     ]
    }
   ],
   "source": [
    "counter = 0\n",
    "for i in range(len(stage)):\n",
    "    # вероятнее всего надо сделать проверку, что stage.date > meta.date\n",
    "    \n",
    "    #вносим транзакцию\n",
    "    transaction = fill_transaction(stage, i)\n",
    "    print(transaction)\n",
    "    #если дата транакции <= даты обновления мета-информации, то такую траназкцию пропускаем\n",
    "    if (transaction.trans_date <= meta_instance.last_update_date):\n",
    "        continue\n",
    "    c.execute(transaction.insert(transaction.trans_date))\n",
    "    \n",
    "    \n",
    "#   вносим терминал\n",
    "    terminal = fill_terminal(stage, i)\n",
    "    c.execute(f\"select count(*) from {TERMINALS} where terminal='{terminal.terminal_id}'\")\n",
    "    for row in c:\n",
    "        counter = row[0]\n",
    "        \n",
    "    if (counter == 0):\n",
    "        c.execute(terminal.insert(transaction.trans_date))\n",
    "    else :\n",
    "        c.execute(f\"select * from {TERMINALS} WHERE terminal='{terminal.terminal_id}' and end_dt is null\")\n",
    "        #тут будет одна сктрока - для которой отсутвует end_dt\n",
    "        for row in c:\n",
    "#             print(row)\n",
    "            \n",
    "            terminal_from_sql = class_terminals(row[0], row[1], row[2], row[3])\n",
    "            if(terminal_from_sql != terminal):\n",
    "                print(\"not equal\")\n",
    "                v.execute(f\"\"\"update {TERMINALS} set end_dt = to_date('{transaction.trans_date}', 'YYYY.MM.DD HH24:MI:SS') \n",
    "                          where terminal='{terminal.terminal_id}' and end_dt is null\"\"\")\n",
    "                v.execute(terminal.insert(transaction.trans_date))\n",
    "            \n",
    "    #вносим карты\n",
    "    card = fill_card(stage, i)\n",
    "    c.execute(f\"select count(*) from {CARDS} where card_num='{card.card_num}'\")\n",
    "    for row in c:\n",
    "        counter = row[0]\n",
    "    #сделал аналогично транзакциям\n",
    "    if (counter == 0):\n",
    "        c.execute(card.insert(transaction.trans_date))\n",
    "    else :\n",
    "        print(f\"повторная карта {card.card_num}\")\n",
    "        c.execute(f\"select * from {CARDS} WHERE card_num='{card.card_num}' AND end_dt is null\")\n",
    "        for row in c:\n",
    "            card_from_sql = class_cards(row[0], row[1])\n",
    "            if(card_from_sql != card):\n",
    "                v.execute(f\"\"\"update {CARDS} set end_dt = to_date('{transaction.trans_date}', 'YYYY.MM.DD HH24:MI:SS') \n",
    "                          where card_num='{card.card_num}' and end_dt is null\"\"\")\n",
    "                v.execute(card.insert(transaction.trans_date))\n",
    "        \n",
    "    #вносим аккаунты\n",
    "    account = fill_account(stage, i)\n",
    "    c.execute(f\"select count(*) from {ACCOUNTS} where account_num='{account.account_num}'\")\n",
    "    for row in c:\n",
    "        counter = row[0]\n",
    "    if (counter == 0):\n",
    "        c.execute(account.insert(transaction.trans_date))\n",
    "    else :\n",
    "        c.execute(f\"select * from {ACCOUNTS} WHERE account_num='{account.account_num}' AND end_dt is null\")\n",
    "#         #тут будет одна сктрока - для которой отсутвует end_dt\n",
    "        for row in c:\n",
    "            account_from_sql = class_accounts(row[0], row[1], row[2])\n",
    "            if(account_from_sql != account):\n",
    "#                 print(account.account_num)\n",
    "                v.execute(f\"\"\"update {ACCOUNTS} set end_dt = to_date('{transaction.trans_date}', 'YYYY.MM.DD HH24:MI:SS') \n",
    "                          where account_num='{account.account_num}' and end_dt is null\"\"\")\n",
    "                v.execute(account.insert(transaction.trans_date))\n",
    "\n",
    "    #вносим клиентов\n",
    "    client = fill_client(stage, i)\n",
    "    c.execute(f\"select count(*) from {CLIENTS} where client_id='{client.client_id}'\")\n",
    "    for row in c:\n",
    "        counter = row[0]\n",
    "    if (counter == 0):\n",
    "        c.execute(client.insert(transaction.trans_date))\n",
    "    else:\n",
    "        c.execute(f\"select * from {CLIENTS} WHERE client_id='{client.client_id}' AND end_dt is null\")\n",
    "        for row in c:\n",
    "            client_from_sql = class_clients(row[0],row[1],row[2],row[3],row[4],row[5],row[6],row[7])\n",
    "            if(client_from_sql != client):\n",
    "                v.execute(f\"\"\"update {CLIENTS} set end_dt = to_date('{transaction.trans_date}', 'YYYY.MM.DD HH24:MI:SS') \n",
    "                          where client_id='{client.client_id}' and end_dt is null\"\"\")\n",
    "                v.execute(client.insert(transaction.trans_date))\n",
    "                \n",
    "    c.execute(\"commit\")\n",
    "    v.execute('commit')"
   ]
  },
  {
   "cell_type": "code",
   "execution_count": 90,
   "id": "7742c5c9",
   "metadata": {},
   "outputs": [],
   "source": [
    "meta_instance.last_update_date = stage['date'].max()"
   ]
  },
  {
   "cell_type": "markdown",
   "id": "9eec29a7",
   "metadata": {},
   "source": [
    "# Построение отчета"
   ]
  },
  {
   "cell_type": "markdown",
   "id": "6f89040d",
   "metadata": {},
   "source": [
    "## определяем вспомагательные функции\n",
    "\n",
    "Логика следующая:\n",
    "1) определяем две функции для корректной состыковки таблиц на основе start_dt и end_dt\n",
    "2) определяем функцию, которая красиво будет переписывать строку из sql-запросов в .txt файл"
   ]
  },
  {
   "cell_type": "code",
   "execution_count": 91,
   "id": "58030cd2",
   "metadata": {},
   "outputs": [],
   "source": [
    "def getter_cards_accounts_clients():\n",
    "    '''\n",
    "возвращает условие для корректного джоина\n",
    "    '''\n",
    "    return f\"\"\"\n",
    "{TRANSACTION}.trans_date >= {CARDS}.start_dt and {TRANSACTION}.trans_date < coalesce({CARDS}.end_dt,to_date('9999:12:12', 'YYYY:MM:DD')) \n",
    "and\n",
    "{TRANSACTION}.trans_date >= {ACCOUNTS}.start_dt and {TRANSACTION}.trans_date < coalesce({ACCOUNTS}.end_dt,to_date('9999:12:12', 'YYYY:MM:DD')) \n",
    "and\n",
    "{TRANSACTION}.trans_date >= {CLIENTS}.start_dt and {TRANSACTION}.trans_date < coalesce({CLIENTS}.end_dt,to_date('9999:12:12', 'YYYY:MM:DD'))     \n",
    "    \"\"\""
   ]
  },
  {
   "cell_type": "code",
   "execution_count": 92,
   "id": "194c5f0e",
   "metadata": {},
   "outputs": [],
   "source": [
    "def getter_cards_accounts_clients_terminals():\n",
    "    '''\n",
    "возвращает условие для корректного джоина\n",
    "    '''\n",
    "    return f\"\"\"\n",
    "{TRANSACTION}.trans_date >= {CARDS}.start_dt and {TRANSACTION}.trans_date < coalesce({CARDS}.end_dt,to_date('9999:12:12', 'YYYY:MM:DD')) \n",
    "and\n",
    "{TRANSACTION}.trans_date >= {ACCOUNTS}.start_dt and {TRANSACTION}.trans_date < coalesce({ACCOUNTS}.end_dt,to_date('9999:12:12', 'YYYY:MM:DD')) \n",
    "and\n",
    "{TRANSACTION}.trans_date >= {CLIENTS}.start_dt and {TRANSACTION}.trans_date < coalesce({CLIENTS}.end_dt,to_date('9999:12:12', 'YYYY:MM:DD'))  \n",
    "and\n",
    "{TRANSACTION}.trans_date >= {TERMINALS}.start_dt and {TRANSACTION}.trans_date < coalesce({TERMINALS}.end_dt,to_date('9999:12:12', 'YYYY:MM:DD'))     \n",
    "    \"\"\""
   ]
  },
  {
   "cell_type": "code",
   "execution_count": 93,
   "id": "26577b8f",
   "metadata": {},
   "outputs": [],
   "source": [
    "def row_to_fraud_str(row):\n",
    "    \"\"\"преобразуем полученную строку в строку для отчета\"\"\"\n",
    "    return (f\"дата транзакции '{row[0]}'\" +\n",
    "            f\", номер паспорта клиента '{row[1]}'\" +\n",
    "            f\", ФИО клиента '{row[2]} {row[3]} {row[4]}'\" +\n",
    "            f\", номер телефона '{row[5]}'\" +\n",
    "            f\", описание типа предпалагаемого мошеничества '{row[6]}'\" +\n",
    "            f\", время построения отчета '{row[7]}'\" +\n",
    "            \"\\n\")"
   ]
  },
  {
   "cell_type": "code",
   "execution_count": 94,
   "id": "f7d96064",
   "metadata": {},
   "outputs": [],
   "source": [
    "f = open('text.txt', 'a')"
   ]
  },
  {
   "cell_type": "markdown",
   "id": "574ed1c4",
   "metadata": {},
   "source": [
    "## Выполняем поиск нарушений\n",
    "\n",
    "Логика следующая:\n",
    "1) выполняем select-запрос, который находит все нарушения по типу\n",
    "\n",
    "2) записываем полученные результаты в .txt файл и выводим в output (для наглядности)\n",
    "\n",
    "3) обновляем мета-информацию:\n",
    "\n",
    "Для нарушений по паспорту и договору meta информация содержит максимальную дату из stage.\n",
    "\n",
    "Для разных городов и подбора сумм логика обновления соответсвующей meta-информации немножного другая. Тк нам необходимо учитывать для функции LAG данные с прошлого дня. Поэтому в meta информацию мы кладем 23:40 или 23:00. Старые данные не будут учитываться дважды, тк в конечном select мы делаем условие вывода данные только с новой даты с помощью функции get_date(meta_insatnce.last_update_date) - она вернет полночь наступившей даты, тк мета информация уже была обновлена."
   ]
  },
  {
   "cell_type": "markdown",
   "id": "45a69e3e",
   "metadata": {},
   "source": [
    "### просроченный паспорт"
   ]
  },
  {
   "cell_type": "code",
   "execution_count": 95,
   "id": "7864fcb4",
   "metadata": {},
   "outputs": [
    {
     "data": {
      "text/plain": [
       "<cx_Oracle.Cursor on <cx_Oracle.Connection to student_ivashin@51.141.108.8:1521/dereboot>>"
      ]
     },
     "execution_count": 95,
     "metadata": {},
     "output_type": "execute_result"
    }
   ],
   "source": [
    "c.execute(f\"\"\"\n",
    "select \n",
    "    fraud_dt\n",
    "    , passport\n",
    "    , last_name\n",
    "    , first_name\n",
    "    , patronymic\n",
    "    , phone\n",
    "    , fraud_type\n",
    "    , report_dt\n",
    "from (\n",
    "    select \n",
    "        trans_date as fraud_dt,\n",
    "        passport_num as passport,\n",
    "        last_name,\n",
    "        first_name,\n",
    "        patronymic,\n",
    "        phone,\n",
    "        'passport is outdated' as fraud_type,\n",
    "        sysdate as report_dt,\n",
    "        trans_date \n",
    "        , passport_valid_to\n",
    "        , passport_valid_to - trans_date\n",
    "        , case \n",
    "            when passport_valid_to + INTERVAL '1' DAY - trans_date > 0 then 0 --добавляем 1 день к дате паспорта\n",
    "            else 1\n",
    "        end as flag\n",
    "    from {TRANSACTION}\n",
    "        left join {CARDS} on {TRANSACTION}.card_num = {CARDS}.card_num\n",
    "        left join {ACCOUNTS} on {CARDS}.account_num = {ACCOUNTS}.account_num\n",
    "        left join {CLIENTS} on  {ACCOUNTS}.client = {CLIENTS}.client_id\n",
    "    where trans_date > to_date('{meta_instance.passport_date}', 'YYYY.MM.DD HH24:MI:SS') \n",
    "    and {getter_cards_accounts_clients()}\n",
    ")\n",
    "where flag = 1\n",
    "\"\"\")"
   ]
  },
  {
   "cell_type": "code",
   "execution_count": 96,
   "id": "581042b4",
   "metadata": {},
   "outputs": [],
   "source": [
    "for row in c:\n",
    "    f.write(row_to_fraud_str(row))\n",
    "    print(row)\n",
    "f.flush()"
   ]
  },
  {
   "cell_type": "code",
   "execution_count": 97,
   "id": "6fda0fac",
   "metadata": {},
   "outputs": [
    {
     "data": {
      "text/plain": [
       "Timestamp('2020-05-02 00:15:00')"
      ]
     },
     "execution_count": 97,
     "metadata": {},
     "output_type": "execute_result"
    }
   ],
   "source": [
    "#обновляем информацию меты. В качестве максимальной даты берем время самого последнего запроса из stage.\n",
    "meta_instance.passport_date = meta_instance.last_update_date\n",
    "meta_instance.passport_date"
   ]
  },
  {
   "cell_type": "markdown",
   "id": "efe2f3b4",
   "metadata": {},
   "source": [
    "### просроченный договор"
   ]
  },
  {
   "cell_type": "code",
   "execution_count": 98,
   "id": "847a5c29",
   "metadata": {},
   "outputs": [
    {
     "data": {
      "text/plain": [
       "<cx_Oracle.Cursor on <cx_Oracle.Connection to student_ivashin@51.141.108.8:1521/dereboot>>"
      ]
     },
     "execution_count": 98,
     "metadata": {},
     "output_type": "execute_result"
    }
   ],
   "source": [
    "c.execute(f\"\"\"\n",
    "select \n",
    "    fraud_dt\n",
    "    , passport\n",
    "    , last_name\n",
    "    , first_name\n",
    "    , patronymic\n",
    "    , phone\n",
    "    , fraud_type\n",
    "    , report_dt\n",
    "from (\n",
    "    select \n",
    "        trans_date as fraud_dt,\n",
    "        passport_num as passport,\n",
    "        last_name,\n",
    "        first_name,\n",
    "        patronymic,\n",
    "        phone,\n",
    "        'account is outdated' as fraud_type,\n",
    "        sysdate as report_dt,\n",
    "        trans_date \n",
    "        , passport_valid_to\n",
    "        , valid_to - trans_date\n",
    "        , case \n",
    "            when valid_to + INTERVAL '1' DAY - trans_date > 0 then 0\n",
    "            else 1\n",
    "        end as flag\n",
    "    from {TRANSACTION}\n",
    "    left join {CARDS} on {TRANSACTION}.card_num = {CARDS}.card_num\n",
    "    left join {ACCOUNTS} on {CARDS}.account_num = {ACCOUNTS}.account_num\n",
    "    left join {CLIENTS} on  {ACCOUNTS}.client = {CLIENTS}.client_id\n",
    "    where trans_date > to_date('{meta_instance.account_date}', 'YYYY.MM.DD HH24:MI:SS') \n",
    "    and {getter_cards_accounts_clients()}\n",
    ")\n",
    "where flag = 1\n",
    "\"\"\")"
   ]
  },
  {
   "cell_type": "code",
   "execution_count": 99,
   "id": "d585e006",
   "metadata": {},
   "outputs": [
    {
     "name": "stdout",
     "output_type": "stream",
     "text": [
      "2020-05-01 23:55:00\n"
     ]
    }
   ],
   "source": [
    "print(f\"{meta_instance.account_date}\")"
   ]
  },
  {
   "cell_type": "code",
   "execution_count": 100,
   "id": "ea8e4eed",
   "metadata": {},
   "outputs": [],
   "source": [
    "for row in c:\n",
    "    f.write(row_to_fraud_str(row))\n",
    "    print(row)\n",
    "f.flush()"
   ]
  },
  {
   "cell_type": "code",
   "execution_count": 101,
   "id": "bea5da04",
   "metadata": {},
   "outputs": [
    {
     "data": {
      "text/plain": [
       "Timestamp('2020-05-02 00:15:00')"
      ]
     },
     "execution_count": 101,
     "metadata": {},
     "output_type": "execute_result"
    }
   ],
   "source": [
    "#обновляем информацию меты\n",
    "meta_instance.account_date = meta_instance.last_update_date\n",
    "meta_instance.account_date"
   ]
  },
  {
   "cell_type": "markdown",
   "id": "1f122b65",
   "metadata": {},
   "source": [
    "### Разные города"
   ]
  },
  {
   "cell_type": "code",
   "execution_count": 102,
   "id": "911af69c",
   "metadata": {},
   "outputs": [],
   "source": [
    "def get_date(q):\n",
    "    \"\"\"получаем полночь переданной даты\"\"\"\n",
    "    return str(q.year) + '.' + str(q.month) + '.' + str(q.day) + ' 00:00:00'"
   ]
  },
  {
   "cell_type": "code",
   "execution_count": 103,
   "id": "b5ea67ff",
   "metadata": {},
   "outputs": [
    {
     "data": {
      "text/plain": [
       "<cx_Oracle.Cursor on <cx_Oracle.Connection to student_ivashin@51.141.108.8:1521/dereboot>>"
      ]
     },
     "execution_count": 103,
     "metadata": {},
     "output_type": "execute_result"
    }
   ],
   "source": [
    "c.execute(f\"\"\"\n",
    "select \n",
    "    fraud_dt,\n",
    "    passport,\n",
    "    last_name,\n",
    "    first_name,\n",
    "    patronymic,\n",
    "    phone,\n",
    "    'city ?' as fraud_type,\n",
    "    sysdate as report_dt\n",
    "from \n",
    "(    \n",
    "    select \n",
    "            t.* \n",
    "    from \n",
    "    (\n",
    "        select \n",
    "            trans_id,\n",
    "            trans_date\n",
    "            , {ACCOUNTS}.client as client\n",
    "            , to_char (trans_date, 'YYYY.MM.DD HH24:MI:SS') as dt\n",
    "            , to_char (LAG (trans_date , 1 , to_date('1900.01.01 10:10:10', 'YYYY.MM.DD HH24:MI:SS')) OVER (PARTITION by client order by trans_date), 'YYYY.MM.DD HH24:MI:SS')  as lag_dt\n",
    "            , round((trans_date - LAG (trans_date , 1 , to_date('1900.01.01 10:10:10', 'YYYY.MM.DD HH24:MI:SS')) OVER (PARTITION by client order by trans_date) ) * 24 * 60, 2) as diff --разница в минутах\n",
    "            , terminal_city\n",
    "            , LAG (terminal_city, 1, null) OVER (PARTITION by client order by trans_date) as city2\n",
    "            , trans_date as fraud_dt\n",
    "            , passport_num as passport\n",
    "            , last_name\n",
    "            , first_name\n",
    "            , patronymic\n",
    "            , phone\n",
    "        from {TRANSACTION}\n",
    "            left join {CARDS} on {TRANSACTION}.card_num = {CARDS}.card_num\n",
    "            left join {ACCOUNTS} on {CARDS}.account_num = {ACCOUNTS}.account_num\n",
    "            left join {CLIENTS} on  {ACCOUNTS}.client = {CLIENTS}.client_id\n",
    "            left join {TERMINALS} on {TERMINALS}.terminal = {TRANSACTION}.terminal\n",
    "        where trans_date > to_date('{meta_instance.city_date}', 'YYYY.MM.DD HH24:MI:SS')\n",
    "        and {getter_cards_accounts_clients_terminals()}\n",
    "        order by client_id, trans_date\n",
    "    ) t\n",
    "    where diff <= 60 and terminal_city != city2 and trans_date > to_date('{get_date(meta_instance.last_update_date)}', 'YYYY.MM.DD HH24:MI:SS')\n",
    ") ret\"\"\")"
   ]
  },
  {
   "cell_type": "code",
   "execution_count": 104,
   "id": "703e82ce",
   "metadata": {},
   "outputs": [],
   "source": [
    "def date_minus_hour(q):\n",
    "    \"\"\"Получаем датадайм для даты и времени 23:00:00\"\"\"\n",
    "    return str(q.year) + '.' + str(q.month) + '.' + str(q.day) + ' 23:00:00'"
   ]
  },
  {
   "cell_type": "code",
   "execution_count": 105,
   "id": "237545db",
   "metadata": {},
   "outputs": [
    {
     "name": "stdout",
     "output_type": "stream",
     "text": [
      "0\n"
     ]
    }
   ],
   "source": [
    "i = 0\n",
    "for row in c:\n",
    "    i = i + 1\n",
    "    f.write(row_to_fraud_str(row))\n",
    "    print(row)\n",
    "f.flush()\n",
    "print(i)"
   ]
  },
  {
   "cell_type": "code",
   "execution_count": 106,
   "id": "044c0b58",
   "metadata": {},
   "outputs": [],
   "source": [
    "#обновляем мета-информацию. В качестве максимальной даты берем время самого последнего запроса из stage.\n",
    "c.execute(f'select max(trans_date) from {TRANSACTION}')\n",
    "#снова та же проблема, не знаю как указать ронво 1 строку, поэтому делаю так\n",
    "for row in c:\n",
    "    meta_instance.city_date = date_minus_hour(row[0])"
   ]
  },
  {
   "cell_type": "markdown",
   "id": "18ca93f4",
   "metadata": {},
   "source": [
    "### Попытка подбора сумм"
   ]
  },
  {
   "cell_type": "code",
   "execution_count": 107,
   "id": "f9c043e5",
   "metadata": {},
   "outputs": [
    {
     "data": {
      "text/plain": [
       "<cx_Oracle.Cursor on <cx_Oracle.Connection to student_ivashin@51.141.108.8:1521/dereboot>>"
      ]
     },
     "execution_count": 107,
     "metadata": {},
     "output_type": "execute_result"
    }
   ],
   "source": [
    "c.execute(f\"\"\"\n",
    "select \n",
    "    trans_date as fraud_dt,\n",
    "    passport,\n",
    "    last_name,\n",
    "    first_name,\n",
    "    patronymic,\n",
    "    phone,\n",
    "    'summ ?' as fraud_type,\n",
    "    sysdate as report_dt\n",
    "from (\n",
    "    select \n",
    "        trans_date,\n",
    "        oper_result,\n",
    "        trans_id,\n",
    "        clt,\n",
    "        amt1,\n",
    "        amt2,\n",
    "        amt3,\n",
    "        amt4,\n",
    "        to_char(dt1, 'YYYY.MM.DD HH24:MI:SS') dt1,\n",
    "        to_char(dt2, 'YYYY.MM.DD HH24:MI:SS') dt2,\n",
    "        to_char(dt3, 'YYYY.MM.DD HH24:MI:SS') dt3,\n",
    "        to_char(dt3, 'YYYY.MM.DD HH24:MI:SS') dt4,\n",
    "        round((dt1 - dt4) * 24 * 60, 2) diff_min,\n",
    "        passport,\n",
    "        last_name,\n",
    "        first_name,\n",
    "        patronymic,\n",
    "        phone\n",
    "    from(\n",
    "        select \n",
    "            trans_date,\n",
    "            trans_id,\n",
    "            client_id as clt,\n",
    "            oper_result,\n",
    "            amt as amt1,\n",
    "            LAG(AMT, 1, null) OVER (PARTITION by client order by trans_date) as amt2,\n",
    "            LAG(AMT, 2, null) OVER (PARTITION by client order by trans_date) as amt3,\n",
    "            LAG(AMT, 3, null) OVER (PARTITION by client order by trans_date) as amt4,\n",
    "            trans_date as dt1,\n",
    "            LAG(trans_date, 1, null) OVER (PARTITION by client order by trans_date) as dt2,\n",
    "            LAG(trans_date, 2, null) OVER (PARTITION by client order by trans_date) as dt3,\n",
    "            LAG(trans_date, 3, null) OVER (PARTITION by client order by trans_date) as dt4,\n",
    "            client_id,\n",
    "            passport_num as passport,\n",
    "            last_name,\n",
    "            first_name,\n",
    "            patronymic,\n",
    "            phone\n",
    "        from \n",
    "        (\n",
    "            select \n",
    "                *\n",
    "            from {TRANSACTION}\n",
    "                left join {CARDS} on {TRANSACTION}.card_num = {CARDS}.card_num\n",
    "                left join {ACCOUNTS} on {CARDS}.account_num = {ACCOUNTS}.account_num\n",
    "                left join {CLIENTS} on {ACCOUNTS}.client = {CLIENTS}.client_id\n",
    "                left join {TERMINALS} on {TERMINALS}.terminal = {TRANSACTION}.terminal\n",
    "                where trans_date > to_date('{meta_instance.sum_date}', 'YYYY.MM.DD HH24:MI:SS')\n",
    "                and {getter_cards_accounts_clients_terminals()}\n",
    "            order by client_id, trans_date\n",
    "        ) t\n",
    "    ) tmp\n",
    ") res\n",
    "where diff_min <= 20 and amt1 < amt2 and amt2 < amt3 and amt3 < amt4 and oper_result='Успешно' and trans_date > to_date('{get_date(meta_instance.last_update_date)}', 'YYYY.MM.DD HH24:MI:SS')\n",
    "\"\"\")"
   ]
  },
  {
   "cell_type": "code",
   "execution_count": 108,
   "id": "a7767b30",
   "metadata": {},
   "outputs": [],
   "source": [
    "def date_minus_20_minutes(q):\n",
    "    \"\"\"Получаем датадайм для даты и времени 23:40:00\"\"\"\n",
    "    return str(q.year) + '.' + str(q.month) + '.' + str(q.day) + ' 23:40:00'"
   ]
  },
  {
   "cell_type": "code",
   "execution_count": 109,
   "id": "8e42c236",
   "metadata": {},
   "outputs": [
    {
     "name": "stdout",
     "output_type": "stream",
     "text": [
      "(datetime.datetime(2020, 5, 2, 0, 15), '1298690726', 'Омелюшкин', 'Василий', 'Иванович', '79736583722', 'summ ?', datetime.datetime(2022, 5, 10, 11, 10, 20))\n",
      "(datetime.datetime(2020, 5, 2, 0, 10), '7173036990', 'Поджарый', 'Роман', 'Александрович', '79343500689', 'summ ?', datetime.datetime(2022, 5, 10, 11, 10, 20))\n",
      "(datetime.datetime(2020, 5, 2, 0, 5), '3602724796', 'Сноркин', 'Николай', 'Антонович', '79890926038', 'summ ?', datetime.datetime(2022, 5, 10, 11, 10, 20))\n",
      "3\n"
     ]
    }
   ],
   "source": [
    "i = 0\n",
    "for row in c:\n",
    "    i = i + 1\n",
    "    f.write(row_to_fraud_str(row))\n",
    "    print(row)\n",
    "f.flush()\n",
    "print(i)"
   ]
  },
  {
   "cell_type": "code",
   "execution_count": 81,
   "id": "176b3e12",
   "metadata": {},
   "outputs": [],
   "source": [
    "#обновляем мета-информацию\n",
    "c.execute(f'select max(trans_date) from {TRANSACTION}')\n",
    "#снова та же проблема, не знаю как указать ронво 1 строку, поэтому делаю так\n",
    "for row in c:\n",
    "    meta_instance.sum_date = date_minus_20_minutes(row[0])"
   ]
  },
  {
   "cell_type": "markdown",
   "id": "30a3b67f",
   "metadata": {},
   "source": [
    "# Вносим мету в бд"
   ]
  },
  {
   "cell_type": "code",
   "execution_count": 82,
   "id": "0a17e6b1",
   "metadata": {},
   "outputs": [],
   "source": [
    "c.execute(f\"\"\"update {META} set end_dt = to_date('{meta_instance.last_update_date}', 'YYYY.MM.DD HH24:MI:SS') \n",
    "                          where  end_dt is null\"\"\")"
   ]
  },
  {
   "cell_type": "code",
   "execution_count": 83,
   "id": "b9a2c8a2",
   "metadata": {},
   "outputs": [],
   "source": [
    "c.execute(f\"\"\"\n",
    "insert into {META} (last_update_date, passport_date, account_date, city_date, sum_date, start_dt)\n",
    "values (\n",
    "    to_date('{meta_instance.last_update_date}', 'YYYY.MM.DD HH24:MI:SS'),\n",
    "    to_date('{meta_instance.passport_date}', 'YYYY.MM.DD HH24:MI:SS'),\n",
    "    to_date('{meta_instance.account_date}', 'YYYY.MM.DD HH24:MI:SS'),\n",
    "    to_date('{meta_instance.city_date}', 'YYYY.MM.DD HH24:MI:SS'),\n",
    "    to_date('{meta_instance.sum_date}', 'YYYY.MM.DD HH24:MI:SS'),\n",
    "    to_date('{meta_instance.last_update_date}', 'YYYY.MM.DD HH24:MI:SS')\n",
    ")\n",
    "\"\"\")"
   ]
  },
  {
   "cell_type": "code",
   "execution_count": 84,
   "id": "a6b62c31",
   "metadata": {},
   "outputs": [],
   "source": [
    "c.execute('commit')"
   ]
  },
  {
   "cell_type": "markdown",
   "id": "67a0024c",
   "metadata": {},
   "source": [
    "# Конец\n",
    "Закрываем все соединения"
   ]
  },
  {
   "cell_type": "code",
   "execution_count": 356,
   "id": "80ee8252",
   "metadata": {},
   "outputs": [],
   "source": [
    "f.close()\n",
    "c.close()\n",
    "v.close()"
   ]
  },
  {
   "cell_type": "markdown",
   "id": "2a231def",
   "metadata": {},
   "source": [
    "# замер скорости для подбора сумм"
   ]
  },
  {
   "cell_type": "markdown",
   "id": "c5e43ebd",
   "metadata": {},
   "source": [
    "Я проводил замер скорости сразу для трех дней. Этого можно добиться если после основной работы алгоритма обновить мета-информацию, затем закрыть соединения (для чистоты эксперимента) и переоткрыть его заново."
   ]
  },
  {
   "cell_type": "code",
   "execution_count": 352,
   "id": "c434a666",
   "metadata": {},
   "outputs": [
    {
     "name": "stdout",
     "output_type": "stream",
     "text": [
      "('X',)\n"
     ]
    }
   ],
   "source": [
    "conn = cx_Oracle.connect(f\"{login}/{password}@51.141.108.8:1521/dereboot\")\n",
    "c = conn.cursor()\n",
    "v = conn.cursor()\n",
    "c.execute(r'''select * from dual''')\n",
    "for row in c:\n",
    "    print(row)"
   ]
  },
  {
   "cell_type": "code",
   "execution_count": 353,
   "id": "b75e09cb",
   "metadata": {},
   "outputs": [],
   "source": [
    "def qwe():\n",
    "    c.execute(f\"\"\"\n",
    "    select \n",
    "        fraud_dt,\n",
    "        passport,\n",
    "        last_name,\n",
    "        first_name,\n",
    "        patronymic,\n",
    "        phone,\n",
    "        'city ?' as fraud_type,\n",
    "        sysdate as report_dt\n",
    "    from \n",
    "    (    \n",
    "        select \n",
    "                t.* \n",
    "        from \n",
    "        (\n",
    "            select \n",
    "                trans_id,\n",
    "                trans_date\n",
    "                , {ACCOUNTS}.client as client\n",
    "                , to_char (trans_date, 'YYYY.MM.DD HH24:MI:SS') as dt\n",
    "                , to_char (LAG (trans_date , 1 , to_date('1900.01.01 10:10:10', 'YYYY.MM.DD HH24:MI:SS')) OVER (PARTITION by client order by trans_date), 'YYYY.MM.DD HH24:MI:SS')  as lag_dt\n",
    "                , round((trans_date - LAG (trans_date , 1 , to_date('1900.01.01 10:10:10', 'YYYY.MM.DD HH24:MI:SS')) OVER (PARTITION by client order by trans_date) ) * 24 * 60, 2) as diff --разница в минутах\n",
    "                , terminal_city\n",
    "                , LAG (terminal_city, 1, null) OVER (PARTITION by client order by trans_date) as city2\n",
    "                , trans_date as fraud_dt\n",
    "                , passport_num as passport\n",
    "                , last_name\n",
    "                , first_name\n",
    "                , patronymic\n",
    "                , phone\n",
    "            from {TRANSACTION}\n",
    "                left join {CARDS} on {TRANSACTION}.card_num = {CARDS}.card_num\n",
    "                left join {ACCOUNTS} on {CARDS}.account_num = {ACCOUNTS}.account_num\n",
    "                left join {CLIENTS} on  {ACCOUNTS}.client = {CLIENTS}.client_id\n",
    "                left join {TERMINALS} on {TERMINALS}.terminal = {TRANSACTION}.terminal\n",
    "            where trans_date > to_date('{meta_instance.city_date}', 'YYYY.MM.DD HH24:MI:SS')\n",
    "            and {getter_cards_accounts_clients_terminals()}\n",
    "            order by client_id, trans_date\n",
    "        ) t\n",
    "        where diff <= 60 and terminal_city != city2 and trans_date > to_date('{get_date(meta_instance.last_update_date)}', 'YYYY.MM.DD HH24:MI:SS')\n",
    "    ) ret\"\"\")"
   ]
  },
  {
   "cell_type": "code",
   "execution_count": 354,
   "id": "a1a15ae2",
   "metadata": {},
   "outputs": [
    {
     "name": "stdout",
     "output_type": "stream",
     "text": [
      "Wall time: 91.3 ms\n"
     ]
    }
   ],
   "source": [
    "%time qwe()"
   ]
  }
 ],
 "metadata": {
  "kernelspec": {
   "display_name": "Python 3 (ipykernel)",
   "language": "python",
   "name": "python3"
  },
  "language_info": {
   "codemirror_mode": {
    "name": "ipython",
    "version": 3
   },
   "file_extension": ".py",
   "mimetype": "text/x-python",
   "name": "python",
   "nbconvert_exporter": "python",
   "pygments_lexer": "ipython3",
   "version": "3.9.7"
  },
  "toc": {
   "base_numbering": 1,
   "nav_menu": {},
   "number_sections": true,
   "sideBar": true,
   "skip_h1_title": false,
   "title_cell": "Table of Contents",
   "title_sidebar": "Contents",
   "toc_cell": false,
   "toc_position": {
    "height": "calc(100% - 180px)",
    "left": "10px",
    "top": "150px",
    "width": "253.991px"
   },
   "toc_section_display": true,
   "toc_window_display": true
  },
  "varInspector": {
   "cols": {
    "lenName": 16,
    "lenType": 16,
    "lenVar": 40
   },
   "kernels_config": {
    "python": {
     "delete_cmd_postfix": "",
     "delete_cmd_prefix": "del ",
     "library": "var_list.py",
     "varRefreshCmd": "print(var_dic_list())"
    },
    "r": {
     "delete_cmd_postfix": ") ",
     "delete_cmd_prefix": "rm(",
     "library": "var_list.r",
     "varRefreshCmd": "cat(var_dic_list()) "
    }
   },
   "position": {
    "height": "420.812px",
    "left": "1547.94px",
    "right": "20px",
    "top": "121.953px",
    "width": "350px"
   },
   "types_to_exclude": [
    "module",
    "function",
    "builtin_function_or_method",
    "instance",
    "_Feature"
   ],
   "window_display": false
  }
 },
 "nbformat": 4,
 "nbformat_minor": 5
}
