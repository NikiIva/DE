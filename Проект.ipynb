{
 "cells": [
  {
   "cell_type": "markdown",
   "source": [
    "# README\n",
    "\n",
    "В пунктах 2-4 происходит удаление сущетсвующих таблиц, заполнение новых, тестирование, удаление тестовых данных.\n",
    "Для единичной прогонки для новой таблицы необходимо выполнить пункты 5-8. В пункте 9 закрываем открытые соединения. Пункт 10 содержит замер скорости для получения подбора сумм."
   ],
   "metadata": {
    "collapsed": false,
    "pycharm": {
     "name": "#%% md\n"
    }
   }
  },
  {
   "cell_type": "markdown",
   "id": "6b247d2c",
   "metadata": {
    "pycharm": {
     "name": "#%% md\n"
    }
   },
   "source": [
    "# Начало"
   ]
  },
  {
   "cell_type": "code",
   "execution_count": 1,
   "id": "61d2df7f",
   "metadata": {
    "pycharm": {
     "name": "#%%\n"
    }
   },
   "outputs": [],
   "source": [
    "import sqlite3\n",
    "import pandas as pd"
   ]
  },
  {
   "cell_type": "code",
   "execution_count": 2,
   "id": "6bd3f39d",
   "metadata": {
    "pycharm": {
     "name": "#%%\n"
    }
   },
   "outputs": [],
   "source": [
    "conn = sqlite3.connect(':memory:')\n",
    "c = conn.cursor()\n",
    "v = conn.cursor()"
   ]
  },
  {
   "cell_type": "code",
   "execution_count": 3,
   "outputs": [
    {
     "data": {
      "text/plain": "  'OK'\n0   OK",
      "text/html": "<div>\n<style scoped>\n    .dataframe tbody tr th:only-of-type {\n        vertical-align: middle;\n    }\n\n    .dataframe tbody tr th {\n        vertical-align: top;\n    }\n\n    .dataframe thead th {\n        text-align: right;\n    }\n</style>\n<table border=\"1\" class=\"dataframe\">\n  <thead>\n    <tr style=\"text-align: right;\">\n      <th></th>\n      <th>'OK'</th>\n    </tr>\n  </thead>\n  <tbody>\n    <tr>\n      <th>0</th>\n      <td>OK</td>\n    </tr>\n  </tbody>\n</table>\n</div>"
     },
     "execution_count": 3,
     "metadata": {},
     "output_type": "execute_result"
    }
   ],
   "source": [
    "pd.read_sql_query(\"SELECT 'OK'\", conn)"
   ],
   "metadata": {
    "collapsed": false,
    "pycharm": {
     "name": "#%%\n"
    }
   }
  },
  {
   "cell_type": "markdown",
   "id": "92b17afa",
   "metadata": {
    "pycharm": {
     "name": "#%% md\n"
    }
   },
   "source": [
    "# СОЗДАЕМ ТАБЛИЦЫ"
   ]
  },
  {
   "cell_type": "markdown",
   "id": "441fa807",
   "metadata": {
    "pycharm": {
     "name": "#%% md\n"
    }
   },
   "source": [
    "логика такая:\n",
    "\n",
    "сначала инициализируем переменные с именами таблицы\n",
    "\n",
    "потом удаляем существующие таблицы\n",
    "\n",
    "потом создаем таблицы и нужную для работы программу логику:\n",
    "\n",
    "1) создаем таблицу\n",
    "\n",
    "2) создаем класс для представления в питоне, что по сути является частью промежуточной области.\n",
    "\n",
    "3) определяем функцию, которая переводит данные из представления питона в хранилище данных\n",
    "\n",
    "4) произвожу тестирование, перед основной работой программы внесенные данные почищу"
   ]
  },
  {
   "cell_type": "code",
   "execution_count": 4,
   "id": "a097c137",
   "metadata": {
    "pycharm": {
     "name": "#%%\n"
    }
   },
   "outputs": [],
   "source": [
    "CLIENTS = 'clients'\n",
    "ACCOUNTS = 'accounts'\n",
    "CARDS = 'cards'\n",
    "TERMINALS = 'terminals'\n",
    "TRANSACTION = 'transactions'\n",
    "META = 'meta'"
   ]
  },
  {
   "cell_type": "markdown",
   "id": "a4aa9846",
   "metadata": {
    "pycharm": {
     "name": "#%% md\n"
    }
   },
   "source": [
    "## drop tables."
   ]
  },
  {
   "cell_type": "code",
   "execution_count": 5,
   "outputs": [],
   "source": [
    "# c.execute(f'drop table {CLIENTS}')"
   ],
   "metadata": {
    "collapsed": false,
    "pycharm": {
     "name": "#%%\n"
    }
   }
  },
  {
   "cell_type": "code",
   "execution_count": 6,
   "outputs": [],
   "source": [
    "# c.execute(f'drop table {ACCOUNTS}')"
   ],
   "metadata": {
    "collapsed": false,
    "pycharm": {
     "name": "#%%\n"
    }
   }
  },
  {
   "cell_type": "code",
   "execution_count": 7,
   "outputs": [],
   "source": [
    "# c.execute(f'drop table {CARDS}')"
   ],
   "metadata": {
    "collapsed": false,
    "pycharm": {
     "name": "#%%\n"
    }
   }
  },
  {
   "cell_type": "code",
   "execution_count": 8,
   "id": "91732a14",
   "metadata": {
    "pycharm": {
     "name": "#%%\n"
    }
   },
   "outputs": [],
   "source": [
    "# c.execute(f'drop table {TERMINALS}')"
   ]
  },
  {
   "cell_type": "code",
   "execution_count": 9,
   "id": "1828a225",
   "metadata": {
    "pycharm": {
     "name": "#%%\n"
    }
   },
   "outputs": [],
   "source": [
    "# c.execute(f'drop table {TRANSACTION}')"
   ]
  },
  {
   "cell_type": "code",
   "execution_count": 10,
   "id": "a790e3e0",
   "metadata": {
    "pycharm": {
     "name": "#%%\n"
    }
   },
   "outputs": [],
   "source": [
    "# c.execute('commit')"
   ]
  },
  {
   "cell_type": "code",
   "execution_count": 11,
   "outputs": [],
   "source": [
    "# считываем данные для проверки, потом - удалим\n",
    "data = pd.read_excel(\"passport.xlsx\")\n",
    "data.shape\n",
    "stage = data"
   ],
   "metadata": {
    "collapsed": false,
    "pycharm": {
     "name": "#%%\n"
    }
   }
  },
  {
   "cell_type": "markdown",
   "id": "60842639",
   "metadata": {
    "pycharm": {
     "name": "#%% md\n"
    }
   },
   "source": [
    "## TRANSACTION"
   ]
  },
  {
   "cell_type": "code",
   "execution_count": 12,
   "id": "7058a033",
   "metadata": {
    "pycharm": {
     "name": "#%%\n"
    }
   },
   "outputs": [
    {
     "data": {
      "text/plain": "<sqlite3.Cursor at 0x240ba15eb20>"
     },
     "execution_count": 12,
     "metadata": {},
     "output_type": "execute_result"
    }
   ],
   "source": [
    "#create TRANSACTION\n",
    "c.execute(f\"\"\"\n",
    "CREATE TABLE {TRANSACTION}\n",
    "    (\n",
    "     trans_id               varchar (20)        NULL,               -- 1      --int64 (8 знаков)\n",
    "     trans_date             DATE                NULL,       -- 2      --datetime64[ns] yyyy-mm-dd hh:mm:ss\n",
    "     card_num               varchar (20)        NULL,       -- 3      --object (20 знаков, числа )\n",
    "     oper_type              varchar (40)        NULL,       -- 14     --object максимум 11 кирилицей\n",
    "     amt                    number (9,2)        NULL,       -- 15     --float64 (2 занка после запятой)\n",
    "     oper_result            varchar (20)        NULL,       -- 16     --object 7 знаков кирилицей\n",
    "     terminal               varchar (10)        NULL,       -- 17     --object 8 знаков 3латиница и 5 цифр\n",
    "     start_dt               DATE                NULL,\n",
    "     end_dt                 DATE                NULL\n",
    "    )\n",
    "\"\"\")"
   ]
  },
  {
   "cell_type": "code",
   "execution_count": 13,
   "id": "dfc492ef",
   "metadata": {
    "pycharm": {
     "name": "#%%\n"
    }
   },
   "outputs": [],
   "source": [
    "class class_transactions:\n",
    "    def insert(self, start_dt):\n",
    "        return f\"\"\"\n",
    "insert into {TRANSACTION}(\n",
    "   trans_id\n",
    "  ,trans_date\n",
    "  ,card_num\n",
    "  ,oper_type\n",
    "  ,amt\n",
    "  ,oper_result\n",
    "  ,terminal\n",
    "  ,start_dt\n",
    ")\n",
    "values (\n",
    "   '{self.trans_id}'\n",
    "  , strftime('%Y-%m-%d %H:%M:%S', '{self.trans_date}')\n",
    "  ,'{self.card_num}'\n",
    "  ,'{self.oper_type}'\n",
    "  , {self.amt}\n",
    "  ,'{self.oper_result}'\n",
    "  ,'{self.terminal}'\n",
    "  , strftime('%Y-%m-%d %H:%M:%S', '{start_dt}')\n",
    ")\"\"\"\n",
    "    \n",
    "    def __init__(self, trans_id, trans_date, card_num, oper_type, amt, oper_result, terminal):\n",
    "        self.trans_id = trans_id\n",
    "        self.trans_date = trans_date\n",
    "        self.card_num = card_num        \n",
    "        self.oper_type = oper_type\n",
    "        self.amt = amt\n",
    "        self.oper_result = oper_result\n",
    "        self.terminal = terminal\n",
    "        \n",
    "    def __str__(self):\n",
    "        return 'trans_id=' + str(self.trans_id) + \", trans_date=\" + str(self.trans_date) + \", card_num=\" + str(self.card_num) + \", oper_type=\" + str(self.oper_type) + ', amt=' + str(self.amt) + ', oper_result=' + str(self.oper_result) + ', terminal=' + str(self.terminal)\n"
   ]
  },
  {
   "cell_type": "code",
   "execution_count": 14,
   "id": "f43fa4df",
   "metadata": {
    "pycharm": {
     "name": "#%%\n"
    }
   },
   "outputs": [],
   "source": [
    "def fill_transaction(new_data, index):\n",
    "    return class_transactions(new_data.iloc[index][0],new_data.iloc[index][1],new_data.iloc[index][2],\n",
    "                        new_data.iloc[index][13],new_data.iloc[index][14],new_data.iloc[index][15],new_data.iloc[index][16])"
   ]
  },
  {
   "cell_type": "code",
   "execution_count": 15,
   "outputs": [
    {
     "data": {
      "text/plain": "Timestamp('2020-05-01 00:00:29')"
     },
     "execution_count": 15,
     "metadata": {},
     "output_type": "execute_result"
    }
   ],
   "source": [
    "data.iloc[0]['date']"
   ],
   "metadata": {
    "collapsed": false,
    "pycharm": {
     "name": "#%%\n"
    }
   }
  },
  {
   "cell_type": "code",
   "execution_count": 16,
   "id": "1ca47278",
   "metadata": {
    "pycharm": {
     "name": "#%%\n"
    }
   },
   "outputs": [],
   "source": [
    "q = fill_transaction(data, 0)"
   ]
  },
  {
   "cell_type": "code",
   "execution_count": 17,
   "outputs": [
    {
     "data": {
      "text/plain": "'trans_id=1, trans_date=2020-05-01 00:00:29, card_num=59649132026167121328, oper_type=Пополнение, amt=31576.6, oper_result=Отказ, terminal=POS43792'"
     },
     "execution_count": 17,
     "metadata": {},
     "output_type": "execute_result"
    }
   ],
   "source": [
    "q.__str__()"
   ],
   "metadata": {
    "collapsed": false,
    "pycharm": {
     "name": "#%%\n"
    }
   }
  },
  {
   "cell_type": "code",
   "execution_count": 18,
   "id": "13ae88c4",
   "metadata": {
    "pycharm": {
     "name": "#%%\n"
    }
   },
   "outputs": [
    {
     "data": {
      "text/plain": "<sqlite3.Cursor at 0x240ba15eb20>"
     },
     "execution_count": 18,
     "metadata": {},
     "output_type": "execute_result"
    }
   ],
   "source": [
    "c.execute(q.insert(q.trans_date))"
   ]
  },
  {
   "cell_type": "code",
   "execution_count": 19,
   "outputs": [
    {
     "data": {
      "text/plain": "  trans_id           trans_date              card_num   oper_type      amt  \\\n0        1  2020-05-01 00:00:29  59649132026167121328  Пополнение  31576.6   \n\n  oper_result  terminal             start_dt end_dt  \n0       Отказ  POS43792  2020-05-01 00:00:29   None  ",
      "text/html": "<div>\n<style scoped>\n    .dataframe tbody tr th:only-of-type {\n        vertical-align: middle;\n    }\n\n    .dataframe tbody tr th {\n        vertical-align: top;\n    }\n\n    .dataframe thead th {\n        text-align: right;\n    }\n</style>\n<table border=\"1\" class=\"dataframe\">\n  <thead>\n    <tr style=\"text-align: right;\">\n      <th></th>\n      <th>trans_id</th>\n      <th>trans_date</th>\n      <th>card_num</th>\n      <th>oper_type</th>\n      <th>amt</th>\n      <th>oper_result</th>\n      <th>terminal</th>\n      <th>start_dt</th>\n      <th>end_dt</th>\n    </tr>\n  </thead>\n  <tbody>\n    <tr>\n      <th>0</th>\n      <td>1</td>\n      <td>2020-05-01 00:00:29</td>\n      <td>59649132026167121328</td>\n      <td>Пополнение</td>\n      <td>31576.6</td>\n      <td>Отказ</td>\n      <td>POS43792</td>\n      <td>2020-05-01 00:00:29</td>\n      <td>None</td>\n    </tr>\n  </tbody>\n</table>\n</div>"
     },
     "execution_count": 19,
     "metadata": {},
     "output_type": "execute_result"
    }
   ],
   "source": [
    "pd.read_sql_query(f\"select * from {TRANSACTION}\", conn)"
   ],
   "metadata": {
    "collapsed": false,
    "pycharm": {
     "name": "#%%\n"
    }
   }
  },
  {
   "cell_type": "markdown",
   "id": "ad85ebc2",
   "metadata": {
    "pycharm": {
     "name": "#%% md\n"
    }
   },
   "source": [
    "## TERMINALS"
   ]
  },
  {
   "cell_type": "code",
   "execution_count": 20,
   "id": "7643acf2",
   "metadata": {
    "pycharm": {
     "name": "#%%\n"
    }
   },
   "outputs": [
    {
     "data": {
      "text/plain": "<sqlite3.Cursor at 0x240ba15eb20>"
     },
     "execution_count": 20,
     "metadata": {},
     "output_type": "execute_result"
    }
   ],
   "source": [
    "#create TERMINALS\n",
    "c.execute(f\"\"\"\n",
    "CREATE TABLE {TERMINALS}\n",
    "    (\n",
    "     terminal               varchar (10 )   NULL,       -- 17           --object 8 знаков 3латиница и 5 цифр\n",
    "     terminal_type          varchar (3 )    NULL,       -- 18           --object (3 знака латиница) POS/ATM\n",
    "     terminal_city          varchar (50 )   NULL,       -- 19           --object max 22 кирилицей\n",
    "     terminal_address       varchar (100 )  NULL,       -- 20           --object max 45 кирилицей\n",
    "     start_dt               date            NULL,\n",
    "     end_dt                 date            NULL\n",
    "    )\n",
    "\"\"\")"
   ]
  },
  {
   "cell_type": "code",
   "execution_count": 21,
   "id": "88ef2357",
   "metadata": {
    "pycharm": {
     "name": "#%%\n"
    }
   },
   "outputs": [],
   "source": [
    "class class_terminals:\n",
    "    def insert(self, start_dt):\n",
    "        return f\"\"\"\n",
    "insert into {TERMINALS} (\n",
    "  terminal\n",
    "  ,terminal_type\n",
    "  ,terminal_city\n",
    "  ,terminal_address\n",
    "  ,start_dt\n",
    ")\n",
    "values (\n",
    "   '{self.terminal_id}'\n",
    "  ,'{self.terminal_type}'\n",
    "  ,'{self.terminal_city}'\n",
    "  ,'{self.terminal_address}'\n",
    "  ,strftime('%Y-%m-%d %H:%M:%S', '{start_dt}')\n",
    ")\"\"\"\n",
    "    def __eq__(self, other):\n",
    "        return self.terminal_id == other.terminal_id and self.terminal_type == other.terminal_type and self.terminal_city == other.terminal_city and self.terminal_address == other.terminal_address\n",
    "       \n",
    "    def __init__(self, terminal_id, terminal_type, terminal_city, terminal_address):\n",
    "        self.terminal_id = terminal_id\n",
    "        self.terminal_type = terminal_type\n",
    "        self.terminal_city = terminal_city\n",
    "        self.terminal_address = terminal_address\n",
    "    def __str__(self):\n",
    "        return \"terminal_id=\" + str(self.terminal_id) + ', terminal_type=' + str(self.terminal_type) +', terminal_city='+ str(self.terminal_city) + ', terminal_address=' + str(self.terminal_address)"
   ]
  },
  {
   "cell_type": "code",
   "execution_count": 22,
   "id": "afa901ea",
   "metadata": {
    "pycharm": {
     "name": "#%%\n"
    }
   },
   "outputs": [],
   "source": [
    "def fill_terminal(new_data, index):\n",
    "    return class_terminals(new_data.iloc[index][16], new_data.iloc[index][17],new_data.iloc[index][18],new_data.iloc[index][19])"
   ]
  },
  {
   "cell_type": "code",
   "execution_count": 23,
   "id": "2bc9e311",
   "metadata": {
    "pycharm": {
     "name": "#%%\n"
    }
   },
   "outputs": [
    {
     "name": "stdout",
     "output_type": "stream",
     "text": [
      "terminal_id=POS43792, terminal_type=POS, terminal_city=Славянск-на-Кубани, terminal_address=Славянск-на-Кубани, ул. Клецкая, д. 86\n"
     ]
    }
   ],
   "source": [
    "w = fill_terminal(data, 0)\n",
    "print(w)"
   ]
  },
  {
   "cell_type": "code",
   "execution_count": 24,
   "id": "d2937e62",
   "metadata": {
    "pycharm": {
     "name": "#%%\n"
    }
   },
   "outputs": [
    {
     "data": {
      "text/plain": "<sqlite3.Cursor at 0x240ba15eb20>"
     },
     "execution_count": 24,
     "metadata": {},
     "output_type": "execute_result"
    }
   ],
   "source": [
    "c.execute(w.insert(q.trans_date))"
   ]
  },
  {
   "cell_type": "code",
   "execution_count": 25,
   "id": "caff6249",
   "metadata": {
    "pycharm": {
     "name": "#%%\n"
    }
   },
   "outputs": [
    {
     "data": {
      "text/plain": "   terminal terminal_type       terminal_city  \\\n0  POS43792           POS  Славянск-на-Кубани   \n\n                         terminal_address             start_dt end_dt  \n0  Славянск-на-Кубани, ул. Клецкая, д. 86  2020-05-01 00:00:29   None  ",
      "text/html": "<div>\n<style scoped>\n    .dataframe tbody tr th:only-of-type {\n        vertical-align: middle;\n    }\n\n    .dataframe tbody tr th {\n        vertical-align: top;\n    }\n\n    .dataframe thead th {\n        text-align: right;\n    }\n</style>\n<table border=\"1\" class=\"dataframe\">\n  <thead>\n    <tr style=\"text-align: right;\">\n      <th></th>\n      <th>terminal</th>\n      <th>terminal_type</th>\n      <th>terminal_city</th>\n      <th>terminal_address</th>\n      <th>start_dt</th>\n      <th>end_dt</th>\n    </tr>\n  </thead>\n  <tbody>\n    <tr>\n      <th>0</th>\n      <td>POS43792</td>\n      <td>POS</td>\n      <td>Славянск-на-Кубани</td>\n      <td>Славянск-на-Кубани, ул. Клецкая, д. 86</td>\n      <td>2020-05-01 00:00:29</td>\n      <td>None</td>\n    </tr>\n  </tbody>\n</table>\n</div>"
     },
     "execution_count": 25,
     "metadata": {},
     "output_type": "execute_result"
    }
   ],
   "source": [
    "pd.read_sql_query(f\"select * from {TERMINALS}\", conn)"
   ]
  },
  {
   "cell_type": "markdown",
   "id": "7cc0b244",
   "metadata": {
    "pycharm": {
     "name": "#%% md\n"
    }
   },
   "source": [
    "## CARDS"
   ]
  },
  {
   "cell_type": "code",
   "execution_count": 26,
   "id": "0e519478",
   "metadata": {
    "pycharm": {
     "name": "#%%\n"
    }
   },
   "outputs": [
    {
     "data": {
      "text/plain": "<sqlite3.Cursor at 0x240ba15eb20>"
     },
     "execution_count": 26,
     "metadata": {},
     "output_type": "execute_result"
    }
   ],
   "source": [
    "#create CARDS\n",
    "c.execute(f\"\"\"\n",
    "CREATE TABLE {CARDS}\n",
    "    (\n",
    "     card_num               varchar (20 )       NOT NULL,   -- 3            --object (20 знаков, числа )\n",
    "     account_num            varchar (20 )       NULL,       -- 4            --object (20 знаков, числа)\n",
    "     start_dt               DATE                NOT NULL,\n",
    "     end_dt                 DATE                NULL\n",
    "    )\n",
    "\"\"\")"
   ]
  },
  {
   "cell_type": "code",
   "execution_count": 27,
   "id": "62c72aa0",
   "metadata": {
    "pycharm": {
     "name": "#%%\n"
    }
   },
   "outputs": [],
   "source": [
    "class class_cards:\n",
    "    def insert(self, start_dt):\n",
    "        return f\"\"\"\n",
    "insert into {CARDS} (\n",
    "   card_num\n",
    "  ,account_num\n",
    "  ,start_dt\n",
    ")\n",
    "values (\n",
    "   '{self.card_num}'\n",
    "  ,'{self.account_num}'\n",
    "  ,strftime('%Y-%m-%d %H:%M:%S', '{start_dt}')\n",
    ")\"\"\"\n",
    "    def __eq__(self, other):\n",
    "        return self.card_num == other.card_num and self.account_num == other.account_num\n",
    "    \n",
    "    def __init__(self, card_num, account_num):\n",
    "        self.card_num = card_num\n",
    "        self.account_num = account_num\n",
    "    def __str__(self):\n",
    "        return 'card_num=' + str(self.card_num) + ', account_num=' + str(self.account_num)"
   ]
  },
  {
   "cell_type": "code",
   "execution_count": 28,
   "id": "17764c7d",
   "metadata": {
    "pycharm": {
     "name": "#%%\n"
    }
   },
   "outputs": [],
   "source": [
    "def fill_card(new_data, index):\n",
    "    return class_cards(new_data.iloc[index][2], new_data.iloc[index][3])"
   ]
  },
  {
   "cell_type": "code",
   "execution_count": 29,
   "id": "e2a5fb63",
   "metadata": {
    "pycharm": {
     "name": "#%%\n"
    }
   },
   "outputs": [
    {
     "name": "stdout",
     "output_type": "stream",
     "text": [
      "card_num=59649132026167121328, account_num=40817810000001139973\n"
     ]
    }
   ],
   "source": [
    "e = fill_card(data, 0)\n",
    "print(e)"
   ]
  },
  {
   "cell_type": "code",
   "execution_count": 30,
   "id": "fc2a9a8d",
   "metadata": {
    "pycharm": {
     "name": "#%%\n"
    }
   },
   "outputs": [
    {
     "data": {
      "text/plain": "<sqlite3.Cursor at 0x240ba15eb20>"
     },
     "execution_count": 30,
     "metadata": {},
     "output_type": "execute_result"
    }
   ],
   "source": [
    "c.execute(e.insert(q.trans_date))"
   ]
  },
  {
   "cell_type": "code",
   "execution_count": 31,
   "id": "f94fc16a",
   "metadata": {
    "pycharm": {
     "name": "#%%\n"
    }
   },
   "outputs": [
    {
     "data": {
      "text/plain": "               card_num           account_num             start_dt end_dt\n0  59649132026167121328  40817810000001139973  2020-05-01 00:00:29   None",
      "text/html": "<div>\n<style scoped>\n    .dataframe tbody tr th:only-of-type {\n        vertical-align: middle;\n    }\n\n    .dataframe tbody tr th {\n        vertical-align: top;\n    }\n\n    .dataframe thead th {\n        text-align: right;\n    }\n</style>\n<table border=\"1\" class=\"dataframe\">\n  <thead>\n    <tr style=\"text-align: right;\">\n      <th></th>\n      <th>card_num</th>\n      <th>account_num</th>\n      <th>start_dt</th>\n      <th>end_dt</th>\n    </tr>\n  </thead>\n  <tbody>\n    <tr>\n      <th>0</th>\n      <td>59649132026167121328</td>\n      <td>40817810000001139973</td>\n      <td>2020-05-01 00:00:29</td>\n      <td>None</td>\n    </tr>\n  </tbody>\n</table>\n</div>"
     },
     "execution_count": 31,
     "metadata": {},
     "output_type": "execute_result"
    }
   ],
   "source": [
    "pd.read_sql_query(f\"select * from {CARDS}\", conn)"
   ]
  },
  {
   "cell_type": "markdown",
   "id": "844cbff8",
   "metadata": {
    "pycharm": {
     "name": "#%% md\n"
    }
   },
   "source": [
    "## ACCOUNTS"
   ]
  },
  {
   "cell_type": "code",
   "execution_count": 32,
   "id": "d1ae28e8",
   "metadata": {
    "pycharm": {
     "name": "#%%\n"
    }
   },
   "outputs": [
    {
     "data": {
      "text/plain": "<sqlite3.Cursor at 0x240ba15eb20>"
     },
     "execution_count": 32,
     "metadata": {},
     "output_type": "execute_result"
    }
   ],
   "source": [
    "#create ACCOUNTS\n",
    "c.execute(f\"\"\"\n",
    "CREATE TABLE {ACCOUNTS}\n",
    "    (\n",
    "     account_num            varchar (20 )       NOT NULL,   -- 4            --object (20 знаков, числа)\n",
    "     valid_to               date                NULL,       -- 5            --date yyyy-mm-dd\n",
    "     client                 varchar (7 )        NULL,       -- 6            --object (7знаков, числа-)\n",
    "     start_dt               DATE                NOT NULL,\n",
    "     end_dt                 DATE                NULL\n",
    "    )\n",
    "\"\"\")"
   ]
  },
  {
   "cell_type": "code",
   "execution_count": 33,
   "id": "262ed4e9",
   "metadata": {
    "pycharm": {
     "name": "#%%\n"
    }
   },
   "outputs": [],
   "source": [
    "class class_accounts:\n",
    "    def insert(self, start_dt):\n",
    "        return f\"\"\"\n",
    "insert into {ACCOUNTS} (\n",
    "   account_num\n",
    "  ,valid_to\n",
    "  ,client \n",
    "  ,start_dt\n",
    ")\n",
    "values (\n",
    "  '{self.account_num}'\n",
    "  ,strftime('%Y-%m-%d %H:%M:%S', '{self.valid_to}')\n",
    "  ,'{self.client}'\n",
    "  ,strftime('%Y-%m-%d %H:%M:%S', '{start_dt}')\n",
    ")\"\"\"\n",
    "    def __eq__(self, other):\n",
    "        return self.account_num == other.account_num and self.valid_to == other.valid_to and self.client == other.client\n",
    "    \n",
    "    def __init__(self, account_num, valid_to, client):\n",
    "        self.account_num = account_num\n",
    "        self.valid_to = valid_to\n",
    "        self.client = client\n",
    "        \n",
    "    def __str__(self):\n",
    "        return 'account_num=' + str(self.account_num) + ', valid_to=' + str(self.valid_to) + ', client=' + str(self.client)\n"
   ]
  },
  {
   "cell_type": "code",
   "execution_count": 34,
   "id": "d1723f87",
   "metadata": {
    "pycharm": {
     "name": "#%%\n"
    }
   },
   "outputs": [],
   "source": [
    "def fill_account(new_data, index):\n",
    "    return class_accounts(new_data.iloc[index][3],new_data.iloc[index][4],new_data.iloc[index][5])"
   ]
  },
  {
   "cell_type": "code",
   "execution_count": 35,
   "id": "74075986",
   "metadata": {
    "pycharm": {
     "name": "#%%\n"
    }
   },
   "outputs": [
    {
     "name": "stdout",
     "output_type": "stream",
     "text": [
      "account_num=40817810000001139973, valid_to=2036-01-16 00:00:00, client=3-95179\n"
     ]
    }
   ],
   "source": [
    "r = fill_account(data, 0)\n",
    "print(r)"
   ]
  },
  {
   "cell_type": "code",
   "execution_count": 36,
   "id": "28c77c04",
   "metadata": {
    "pycharm": {
     "name": "#%%\n"
    }
   },
   "outputs": [
    {
     "data": {
      "text/plain": "<sqlite3.Cursor at 0x240ba15eb20>"
     },
     "execution_count": 36,
     "metadata": {},
     "output_type": "execute_result"
    }
   ],
   "source": [
    "c.execute(r.insert(q.trans_date))"
   ]
  },
  {
   "cell_type": "code",
   "execution_count": 37,
   "id": "3188f898",
   "metadata": {
    "pycharm": {
     "name": "#%%\n"
    }
   },
   "outputs": [
    {
     "data": {
      "text/plain": "            account_num             valid_to   client             start_dt  \\\n0  40817810000001139973  2036-01-16 00:00:00  3-95179  2020-05-01 00:00:29   \n\n  end_dt  \n0   None  ",
      "text/html": "<div>\n<style scoped>\n    .dataframe tbody tr th:only-of-type {\n        vertical-align: middle;\n    }\n\n    .dataframe tbody tr th {\n        vertical-align: top;\n    }\n\n    .dataframe thead th {\n        text-align: right;\n    }\n</style>\n<table border=\"1\" class=\"dataframe\">\n  <thead>\n    <tr style=\"text-align: right;\">\n      <th></th>\n      <th>account_num</th>\n      <th>valid_to</th>\n      <th>client</th>\n      <th>start_dt</th>\n      <th>end_dt</th>\n    </tr>\n  </thead>\n  <tbody>\n    <tr>\n      <th>0</th>\n      <td>40817810000001139973</td>\n      <td>2036-01-16 00:00:00</td>\n      <td>3-95179</td>\n      <td>2020-05-01 00:00:29</td>\n      <td>None</td>\n    </tr>\n  </tbody>\n</table>\n</div>"
     },
     "execution_count": 37,
     "metadata": {},
     "output_type": "execute_result"
    }
   ],
   "source": [
    "pd.read_sql_query(f\"select * from {ACCOUNTS}\", conn)"
   ]
  },
  {
   "cell_type": "markdown",
   "id": "bdcfc719",
   "metadata": {
    "pycharm": {
     "name": "#%% md\n"
    }
   },
   "source": [
    "## CLIENTS"
   ]
  },
  {
   "cell_type": "code",
   "execution_count": 38,
   "id": "cc674633",
   "metadata": {
    "pycharm": {
     "name": "#%%\n"
    }
   },
   "outputs": [
    {
     "data": {
      "text/plain": "<sqlite3.Cursor at 0x240ba15eb20>"
     },
     "execution_count": 38,
     "metadata": {},
     "output_type": "execute_result"
    }
   ],
   "source": [
    "#create CLIENTS\n",
    "c.execute(f\"\"\"\n",
    "CREATE TABLE {CLIENTS}\n",
    "    (\n",
    "     client_id              varchar (7 )        NOT NULL,   -- 6            --object (7знаков, числа-)\n",
    "     last_name              varchar (40 )       NULL,       -- 7            --object кирилица\n",
    "     first_name             varchar (40 )       NULL,       -- 8            --object кирилица\n",
    "     patronymic             varchar (40 )       NULL,       -- 9            --object кирилица\n",
    "     date_of_birth          date                NULL,       -- 10           --date yyyy-mm-dd\n",
    "     passport_num           varchar (10 )       NULL,       -- 11           --int64 10 знаков\n",
    "     passport_valid_to      date                NULL,       -- 12           --date yyyy-mm-dd\n",
    "     phone                  varchar (11 )       NULL,       -- 13           --int64 11знаков\n",
    "     start_dt               date                NOT NULL,\n",
    "     end_dt                 date                NULL\n",
    "    )\n",
    "\"\"\")"
   ]
  },
  {
   "cell_type": "code",
   "execution_count": 39,
   "id": "3bdd3edb",
   "metadata": {
    "pycharm": {
     "name": "#%%\n"
    }
   },
   "outputs": [],
   "source": [
    "class class_clients:\n",
    "    def insert(self, start_dt):\n",
    "        return f\"\"\"\n",
    "insert into {CLIENTS} (\n",
    "  client_id\n",
    "  ,last_name\n",
    "  , first_name\n",
    "  , patronymic\n",
    "  , date_of_birth\n",
    "  , passport_num\n",
    "  , passport_valid_to\n",
    "  , phone\n",
    "  , start_dt\n",
    ")\n",
    "values (\n",
    "  '{self.client_id}'\n",
    "  , '{self.last_name}'\n",
    "  , '{self.first_name}'\n",
    "  , '{self.patrinmic}'\n",
    "  , strftime('%Y-%m-%d %H:%M:%S', '{self.date_of_birth}')\n",
    "  , '{self.passport_num}'\n",
    "  , strftime('%Y-%m-%d %H:%M:%S', '{self.passport_valid_to}')\n",
    "  , '{self.phone}'\n",
    "  , strftime('%Y-%m-%d %H:%M:%S', '{start_dt}')\n",
    ")\"\"\"\n",
    "    \n",
    "    def __eq__(self, other):\n",
    "        return self.client_id == other.client_id and    self.last_name == other.last_name and     self.first_name == other.first_name and    self.patrinmic == other.patrinmic and    self.date_of_birth == other.date_of_birth and    str(self.passport_num) == str(other.passport_num) and    self.passport_valid_to == other.passport_valid_to and    str(self.phone) == str(other.phone)\n",
    "    \n",
    "    def __init__(self, client_id, last_name, first_name, patrinmic, date_of_birth, passport_num, passport_valid_to, phone):\n",
    "        self.client_id = client_id\n",
    "        self.last_name = last_name\n",
    "        self.first_name = first_name\n",
    "        self.patrinmic = patrinmic\n",
    "        self.date_of_birth = date_of_birth\n",
    "        self.passport_num = passport_num\n",
    "        self.passport_valid_to = passport_valid_to\n",
    "        self.phone = phone\n",
    "        \n",
    "    def __str__(self):\n",
    "        return 'client_id='+str(self.client_id) + ', last_name=' + str(self.last_name) + ', first_name=' + str(self.first_name)+    ', patrinmic=' + str(self.patrinmic) + ', date_of_birth=' + str(self.date_of_birth) + ', passport_num=' + str(self.passport_num)+    ', passport_valid_to=' + str(self.passport_valid_to) + ', phone=' + str(self.phone)"
   ]
  },
  {
   "cell_type": "code",
   "execution_count": 40,
   "id": "50c5bb6b",
   "metadata": {
    "pycharm": {
     "name": "#%%\n"
    }
   },
   "outputs": [],
   "source": [
    "def fill_client(new_data, index):\n",
    "    return class_clients(new_data.iloc[index][5],new_data.iloc[index][6],new_data.iloc[index][7],new_data.iloc[index][8],new_data.iloc[index][9],\n",
    "                  new_data.iloc[index][10],new_data.iloc[index][11],new_data.iloc[index][12])"
   ]
  },
  {
   "cell_type": "code",
   "execution_count": 41,
   "id": "706b7dc6",
   "metadata": {
    "pycharm": {
     "name": "#%%\n"
    }
   },
   "outputs": [
    {
     "name": "stdout",
     "output_type": "stream",
     "text": [
      "client_id=3-95179, last_name=Мисик, first_name=Сергей, patrinmic=Николаевич, date_of_birth=1938-06-25 00:00:00, passport_num=7076445954, passport_valid_to=2019-11-09 00:00:00, phone=79497481039\n"
     ]
    }
   ],
   "source": [
    "t = fill_client(data, 0)\n",
    "print(t)"
   ]
  },
  {
   "cell_type": "code",
   "execution_count": 42,
   "id": "23152fa5",
   "metadata": {
    "pycharm": {
     "name": "#%%\n"
    }
   },
   "outputs": [
    {
     "data": {
      "text/plain": "<sqlite3.Cursor at 0x240ba15eb20>"
     },
     "execution_count": 42,
     "metadata": {},
     "output_type": "execute_result"
    }
   ],
   "source": [
    "c.execute(t.insert(q.trans_date))"
   ]
  },
  {
   "cell_type": "code",
   "execution_count": 43,
   "id": "f9a11fd6",
   "metadata": {
    "pycharm": {
     "name": "#%%\n"
    }
   },
   "outputs": [
    {
     "data": {
      "text/plain": "  client_id last_name first_name  patronymic        date_of_birth  \\\n0   3-95179     Мисик     Сергей  Николаевич  1938-06-25 00:00:00   \n\n  passport_num    passport_valid_to        phone             start_dt end_dt  \n0   7076445954  2019-11-09 00:00:00  79497481039  2020-05-01 00:00:29   None  ",
      "text/html": "<div>\n<style scoped>\n    .dataframe tbody tr th:only-of-type {\n        vertical-align: middle;\n    }\n\n    .dataframe tbody tr th {\n        vertical-align: top;\n    }\n\n    .dataframe thead th {\n        text-align: right;\n    }\n</style>\n<table border=\"1\" class=\"dataframe\">\n  <thead>\n    <tr style=\"text-align: right;\">\n      <th></th>\n      <th>client_id</th>\n      <th>last_name</th>\n      <th>first_name</th>\n      <th>patronymic</th>\n      <th>date_of_birth</th>\n      <th>passport_num</th>\n      <th>passport_valid_to</th>\n      <th>phone</th>\n      <th>start_dt</th>\n      <th>end_dt</th>\n    </tr>\n  </thead>\n  <tbody>\n    <tr>\n      <th>0</th>\n      <td>3-95179</td>\n      <td>Мисик</td>\n      <td>Сергей</td>\n      <td>Николаевич</td>\n      <td>1938-06-25 00:00:00</td>\n      <td>7076445954</td>\n      <td>2019-11-09 00:00:00</td>\n      <td>79497481039</td>\n      <td>2020-05-01 00:00:29</td>\n      <td>None</td>\n    </tr>\n  </tbody>\n</table>\n</div>"
     },
     "execution_count": 43,
     "metadata": {},
     "output_type": "execute_result"
    }
   ],
   "source": [
    "pd.read_sql_query(f\"select * from {CLIENTS}\", conn)"
   ]
  },
  {
   "cell_type": "markdown",
   "id": "439912a1",
   "metadata": {
    "pycharm": {
     "name": "#%% md\n"
    }
   },
   "source": [
    "## Создаем индексы"
   ]
  },
  {
   "cell_type": "code",
   "execution_count": 44,
   "id": "fa2238eb",
   "metadata": {
    "pycharm": {
     "name": "#%%\n"
    }
   },
   "outputs": [
    {
     "data": {
      "text/plain": "<sqlite3.Cursor at 0x240ba15eb20>"
     },
     "execution_count": 44,
     "metadata": {},
     "output_type": "execute_result"
    }
   ],
   "source": [
    "c.execute(f\"create index IX_{TRANSACTION}_TRANS_ID on {TRANSACTION}(trans_id)\")\n",
    "c.execute(f\"create index IX_{TERMINALS}_TERMINAL_END_DT on {TERMINALS}(terminal, end_dt)\")\n",
    "c.execute(f\"create index IX_{CARDS}_card_num_end_dt on {CARDS}(card_num, end_dt)\")\n",
    "c.execute(f\"create index IX_{ACCOUNTS}_account_num_end_dt on {ACCOUNTS}(account_num, end_dt)\")\n",
    "c.execute(f\"create index IX_{CLIENTS}_client_id_end_dt on {CLIENTS}(client_id, end_dt)\")\n",
    "c.execute('commit')"
   ]
  },
  {
   "cell_type": "markdown",
   "id": "2b0fe3b1",
   "metadata": {
    "pycharm": {
     "name": "#%% md\n"
    }
   },
   "source": [
    "## Создаем ограничения"
   ]
  },
  {
   "cell_type": "markdown",
   "id": "eb0f0b2e",
   "metadata": {
    "pycharm": {
     "name": "#%% md\n"
    }
   },
   "source": [
    "не могу понять, как надо делать primaryKey на transactions, чтобы можно было сослаться на него в terminals и cards.\n",
    "Есть вариант навесить его на (card_num, terminal_id, st_dt)\n",
    "В terminals добавить card_num, а в cards -  terminal_id и нормально ссылать на ключ, но какое-то решение не очень на мой взгляд"
   ]
  },
  {
   "cell_type": "markdown",
   "id": "a628e753",
   "metadata": {
    "pycharm": {
     "name": "#%% md\n"
    }
   },
   "source": [
    "## mata-info\n",
    "\n",
    "с метой слегка другая логика - в ней я питоновское представление достаю из sql-таблицы."
   ]
  },
  {
   "cell_type": "code",
   "execution_count": 45,
   "id": "6440565d",
   "metadata": {
    "pycharm": {
     "name": "#%%\n"
    }
   },
   "outputs": [
    {
     "name": "stdout",
     "output_type": "stream",
     "text": [
      "('OK',)\n"
     ]
    }
   ],
   "source": [
    "c = conn.cursor()\n",
    "v = conn.cursor()\n",
    "c.execute(r\"\"\"select 'OK'\"\"\")\n",
    "for row in c:\n",
    "    print(row)"
   ]
  },
  {
   "cell_type": "code",
   "execution_count": 46,
   "id": "e9c98b85",
   "metadata": {
    "pycharm": {
     "name": "#%%\n"
    }
   },
   "outputs": [],
   "source": [
    "# c.execute(f'drop table {META}')"
   ]
  },
  {
   "cell_type": "code",
   "execution_count": 47,
   "id": "f9a083c1",
   "metadata": {
    "pycharm": {
     "name": "#%%\n"
    }
   },
   "outputs": [
    {
     "data": {
      "text/plain": "<sqlite3.Cursor at 0x240ba720500>"
     },
     "execution_count": 47,
     "metadata": {},
     "output_type": "execute_result"
    }
   ],
   "source": [
    "#create meta-info\n",
    "c.execute(f\"\"\"\n",
    "CREATE TABLE {META}\n",
    "    (\n",
    "     last_update_date   DATE   NULL,       \n",
    "     passport_date      DATE   NULL,    \n",
    "     account_date       DATE   NULL,       \n",
    "     city_date          DATE   NULL, \n",
    "     sum_date           DATE   NULL,       \n",
    "     start_dt           DATE   NULL,\n",
    "     end_dt             DATE   NULL\n",
    "    )\n",
    "\"\"\")"
   ]
  },
  {
   "cell_type": "markdown",
   "id": "94f768e5",
   "metadata": {
    "pycharm": {
     "name": "#%% md\n"
    }
   },
   "source": [
    "вношу данные в таблицу"
   ]
  },
  {
   "cell_type": "code",
   "execution_count": 48,
   "id": "d47a2824",
   "metadata": {
    "pycharm": {
     "name": "#%%\n"
    }
   },
   "outputs": [
    {
     "data": {
      "text/plain": "<sqlite3.Cursor at 0x240ba720500>"
     },
     "execution_count": 48,
     "metadata": {},
     "output_type": "execute_result"
    }
   ],
   "source": [
    "c.execute(f\"\"\"\n",
    "insert into {META} (last_update_date, passport_date, account_date, city_date, sum_date, start_dt)\n",
    "values (\n",
    "    strftime('%Y-%m-%d %H:%M:%S', '1990-01-01 00:00:00'),\n",
    "    strftime('%Y-%m-%d %H:%M:%S', '1990-01-01 00:00:00'),\n",
    "    strftime('%Y-%m-%d %H:%M:%S', '1990-01-01 00:00:00'),\n",
    "    strftime('%Y-%m-%d %H:%M:%S', '1990-01-01 00:00:00'),\n",
    "    strftime('%Y-%m-%d %H:%M:%S', '1990-01-01 00:00:00'),\n",
    "    strftime('%Y-%m-%d %H:%M:%S', '1990-01-01 00:00:00')\n",
    ")\n",
    "\"\"\")"
   ]
  },
  {
   "cell_type": "code",
   "execution_count": 49,
   "id": "390042a8",
   "metadata": {
    "pycharm": {
     "name": "#%%\n"
    }
   },
   "outputs": [
    {
     "data": {
      "text/plain": "<sqlite3.Cursor at 0x240ba720500>"
     },
     "execution_count": 49,
     "metadata": {},
     "output_type": "execute_result"
    }
   ],
   "source": [
    "c.execute('commit')"
   ]
  },
  {
   "cell_type": "code",
   "execution_count": 50,
   "id": "90619746",
   "metadata": {
    "pycharm": {
     "name": "#%%\n"
    }
   },
   "outputs": [],
   "source": [
    "class meta:\n",
    "    def __init__(self, a,b,c,d,e):\n",
    "        self.last_update_date = pd.Timestamp(a)\n",
    "        self.passport_date = pd.Timestamp(b)\n",
    "        self.account_date = pd.Timestamp(c)\n",
    "        self.city_date = pd.Timestamp(d)\n",
    "        self.sum_date = pd.Timestamp(e)"
   ]
  },
  {
   "cell_type": "code",
   "execution_count": 51,
   "id": "bc277433",
   "metadata": {
    "pycharm": {
     "name": "#%%\n"
    }
   },
   "outputs": [
    {
     "data": {
      "text/plain": "<sqlite3.Cursor at 0x240ba720500>"
     },
     "execution_count": 51,
     "metadata": {},
     "output_type": "execute_result"
    }
   ],
   "source": [
    "c.execute(f\"select * from {META} where end_dt is null\")"
   ]
  },
  {
   "cell_type": "code",
   "execution_count": 52,
   "id": "c9600220",
   "metadata": {
    "pycharm": {
     "name": "#%%\n"
    }
   },
   "outputs": [
    {
     "name": "stdout",
     "output_type": "stream",
     "text": [
      "('1990-01-01 00:00:00', '1990-01-01 00:00:00', '1990-01-01 00:00:00', '1990-01-01 00:00:00', '1990-01-01 00:00:00', '1990-01-01 00:00:00', None)\n"
     ]
    }
   ],
   "source": [
    "for row in c:\n",
    "    print(row)\n",
    "    meta_instance = meta(row[0],row[1],row[2],row[3],row[4])"
   ]
  },
  {
   "cell_type": "markdown",
   "id": "200fa93e",
   "metadata": {
    "pycharm": {
     "name": "#%% md\n"
    }
   },
   "source": [
    "проверка"
   ]
  },
  {
   "cell_type": "code",
   "execution_count": 53,
   "id": "d67d567b",
   "metadata": {
    "pycharm": {
     "name": "#%%\n"
    }
   },
   "outputs": [
    {
     "data": {
      "text/plain": "Timestamp('1990-01-01 00:00:00')"
     },
     "execution_count": 53,
     "metadata": {},
     "output_type": "execute_result"
    }
   ],
   "source": [
    "meta_instance.last_update_date"
   ]
  },
  {
   "cell_type": "markdown",
   "id": "4fd72b4b",
   "metadata": {
    "pycharm": {
     "name": "#%% md\n"
    }
   },
   "source": [
    "# чищу данные после тестирования"
   ]
  },
  {
   "cell_type": "code",
   "execution_count": 54,
   "id": "49e0f68e",
   "metadata": {
    "pycharm": {
     "name": "#%%\n"
    }
   },
   "outputs": [],
   "source": [
    "def test_case():\n",
    "    \"\"\"Подчищаем все данные из таблица, нужно для отладки программы\"\"\"\n",
    "    c.execute(f'delete from {TERMINALS} where 1=1')\n",
    "    c.execute(f'delete from {CARDS} where 1=1')\n",
    "    c.execute(f'delete from {TRANSACTION} where 1=1')\n",
    "    c.execute(f'delete from {ACCOUNTS} where 1=1')\n",
    "    c.execute(f'delete from {CLIENTS} where 1=1')\n",
    "    c.execute(f'delete from {META} where 1=1')\n",
    "    c.execute(f\"\"\"\n",
    "    insert into {META} (last_update_date, passport_date, account_date, city_date, sum_date, start_dt)\n",
    "    values (\n",
    "        strftime('%Y-%m-%d %H:%M:%S', '1990-01-01 00:00:00'),\n",
    "        strftime('%Y-%m-%d %H:%M:%S', '1990-01-01 00:00:00'),\n",
    "        strftime('%Y-%m-%d %H:%M:%S', '1990-01-01 00:00:00'),\n",
    "        strftime('%Y-%m-%d %H:%M:%S', '1990-01-01 00:00:00'),\n",
    "        strftime('%Y-%m-%d %H:%M:%S', '1990-01-01 00:00:00'),\n",
    "        strftime('%Y-%m-%d %H:%M:%S', '1990-01-01 00:00:00')\n",
    "    )\n",
    "    \"\"\")\n",
    "    c.execute('commit')"
   ]
  },
  {
   "cell_type": "code",
   "execution_count": 55,
   "id": "3a962a35",
   "metadata": {
    "pycharm": {
     "name": "#%%\n"
    }
   },
   "outputs": [],
   "source": [
    "test_case()"
   ]
  },
  {
   "cell_type": "markdown",
   "id": "240148d8",
   "metadata": {
    "pycharm": {
     "name": "#%% md\n"
    }
   },
   "source": [
    "# Чтение данных"
   ]
  },
  {
   "cell_type": "code",
   "execution_count": 56,
   "id": "8cbcd36d",
   "metadata": {
    "pycharm": {
     "name": "#%%\n"
    }
   },
   "outputs": [],
   "source": [
    "data_path = 'transactions_01052020.xlsx'"
   ]
  },
  {
   "cell_type": "code",
   "execution_count": 57,
   "id": "35aebe50",
   "metadata": {
    "pycharm": {
     "name": "#%%\n"
    }
   },
   "outputs": [],
   "source": [
    "import datetime\n",
    "data = pd.read_excel(f\"{data_path}\")\n",
    "data['date'] = data['date'].apply(lambda x: datetime.datetime.strptime(str(x).replace('.','-'), '%Y-%m-%d %H:%M:%S'))\n",
    "data['account_valid_to'] = data['account_valid_to'].apply(lambda x: str(x).replace('.','-'))\n",
    "data['date_of_birth'] = data['date_of_birth'].apply(lambda x: str(x).replace('.','-'))\n",
    "data['passport_valid_to'] = data['passport_valid_to'].apply(lambda x: str(x).replace('.','-'))\n",
    "stage = pd.DataFrame(columns = data.columns)"
   ]
  },
  {
   "cell_type": "code",
   "execution_count": 58,
   "id": "3c62186e",
   "metadata": {
    "pycharm": {
     "name": "#%%\n"
    }
   },
   "outputs": [],
   "source": [
    "for i in range(len(data)):\n",
    "    #считали построчно из источника данные в stage\n",
    "    if(data.loc[i].date > meta_instance.last_update_date):\n",
    "        stage.loc[i] = data.loc[i]"
   ]
  },
  {
   "cell_type": "markdown",
   "id": "49af2bfa",
   "metadata": {
    "pycharm": {
     "name": "#%% md\n"
    }
   },
   "source": [
    "# Основная работа"
   ]
  },
  {
   "cell_type": "code",
   "execution_count": 59,
   "id": "81d6a115",
   "metadata": {
    "pycharm": {
     "name": "#%%\n"
    }
   },
   "outputs": [
    {
     "name": "stdout",
     "output_type": "stream",
     "text": [
      "('OK',)\n"
     ]
    }
   ],
   "source": [
    "c = conn.cursor()\n",
    "v = conn.cursor()\n",
    "c.execute(r\"\"\"select 'OK'\"\"\")\n",
    "for row in c:\n",
    "    print(row)"
   ]
  },
  {
   "cell_type": "code",
   "execution_count": 60,
   "id": "7c73ffa7",
   "metadata": {
    "pycharm": {
     "name": "#%%\n"
    }
   },
   "outputs": [
    {
     "name": "stdout",
     "output_type": "stream",
     "text": [
      "trans_id=459270924, trans_date=2020-05-01 00:00:29, card_num=59649132026167121328, oper_type=Пополнение, amt=31576.6, oper_result=Отказ, terminal=POS43792\n",
      "trans_id=459270943, trans_date=2020-05-01 00:02:46, card_num=54236863445669263724, oper_type=Пополнение, amt=60041.1, oper_result=Отказ, terminal=POS75616\n",
      "trans_id=459270968, trans_date=2020-05-01 00:05:14, card_num=45930894029725313464, oper_type=Снятие, amt=18474.46, oper_result=Успешно, terminal=POS28311\n",
      "trans_id=459271057, trans_date=2020-05-01 00:07:05, card_num=47550893546403715714, oper_type=Пополнение, amt=915.26, oper_result=Успешно, terminal=ATM39555\n",
      "trans_id=459271064, trans_date=2020-05-01 00:08:27, card_num=53036257457049008830, oper_type=Оплата, amt=75843.91, oper_result=Отказ, terminal=ATM16730\n",
      "trans_id=459271161, trans_date=2020-05-01 00:09:16, card_num=42810999157069197448, oper_type=Оплата, amt=52415.15, oper_result=Успешно, terminal=POS64475\n",
      "trans_id=459271162, trans_date=2020-05-01 00:09:59, card_num=45080063716602427656, oper_type=Снятие, amt=39265.25, oper_result=Успешно, terminal=POS64475\n",
      "trans_id=459271163, trans_date=2020-05-01 00:11:37, card_num=59545483119724056521, oper_type=Снятие, amt=17880.89, oper_result=Отказ, terminal=ATM90761\n",
      "trans_id=459271164, trans_date=2020-05-01 00:13:49, card_num=42388100783866617513, oper_type=Снятие, amt=46074.67, oper_result=Отказ, terminal=POS45875\n",
      "trans_id=459271165, trans_date=2020-05-01 00:14:48, card_num=43440125275047901246, oper_type=Оплата, amt=41054.44, oper_result=Успешно, terminal=POS20393\n",
      "trans_id=459271166, trans_date=2020-05-01 00:16:25, card_num=52317510986521537890, oper_type=Оплата, amt=1095.4, oper_result=Успешно, terminal=ATM62930\n",
      "trans_id=459271167, trans_date=2020-05-01 00:18:25, card_num=56394328398014656631, oper_type=Пополнение, amt=13616.55, oper_result=Отказ, terminal=ATM45335\n",
      "trans_id=459271168, trans_date=2020-05-01 00:20:37, card_num=43514186975323219477, oper_type=Снятие, amt=22745.46, oper_result=Успешно, terminal=ATM56696\n",
      "trans_id=459271169, trans_date=2020-05-01 00:23:32, card_num=56665734966107085947, oper_type=Снятие, amt=15679.36, oper_result=Успешно, terminal=ATM92212\n",
      "trans_id=459271170, trans_date=2020-05-01 00:26:31, card_num=57121786578007111832, oper_type=Пополнение, amt=19101.1, oper_result=Успешно, terminal=ATM92212\n",
      "trans_id=459271171, trans_date=2020-05-01 00:27:59, card_num=55480487279868092723, oper_type=Снятие, amt=87857.49, oper_result=Успешно, terminal=POS85234\n",
      "trans_id=459271172, trans_date=2020-05-01 00:30:54, card_num=53171088948191955942, oper_type=Оплата, amt=5962.42, oper_result=Успешно, terminal=POS26573\n",
      "trans_id=459271173, trans_date=2020-05-01 00:33:07, card_num=55147785547450460523, oper_type=Снятие, amt=59388.98, oper_result=Успешно, terminal=ATM75799\n",
      "trans_id=459271174, trans_date=2020-05-01 00:34:24, card_num=41440646687592011030, oper_type=Пополнение, amt=37135.66, oper_result=Успешно, terminal=ATM80373\n",
      "trans_id=459271175, trans_date=2020-05-01 00:36:39, card_num=48103247549683555712, oper_type=Оплата, amt=85980.34, oper_result=Успешно, terminal=POS13190\n",
      "trans_id=459271176, trans_date=2020-05-01 00:37:41, card_num=42553576192264999451, oper_type=Пополнение, amt=88162.38, oper_result=Успешно, terminal=POS43792\n",
      "trans_id=459271177, trans_date=2020-05-01 00:40:32, card_num=46172960411502917231, oper_type=Снятие, amt=4088.31, oper_result=Отказ, terminal=ATM39718\n",
      "trans_id=459271178, trans_date=2020-05-01 00:42:39, card_num=42103212265809496538, oper_type=Пополнение, amt=24086.57, oper_result=Успешно, terminal=POS91355\n",
      "trans_id=459271179, trans_date=2020-05-01 00:44:04, card_num=57672841162792563506, oper_type=Оплата, amt=48603.16, oper_result=Успешно, terminal=ATM98530\n",
      "trans_id=459271180, trans_date=2020-05-01 00:45:10, card_num=45353299442712684167, oper_type=Оплата, amt=81345.39, oper_result=Успешно, terminal=ATM93692\n",
      "trans_id=459271181, trans_date=2020-05-01 00:46:00, card_num=58518661459256185895, oper_type=Пополнение, amt=86398.06, oper_result=Успешно, terminal=ATM39718\n",
      "trans_id=459271182, trans_date=2020-05-01 00:48:24, card_num=59962556349532609376, oper_type=Снятие, amt=98212.44, oper_result=Успешно, terminal=ATM54985\n",
      "trans_id=459271183, trans_date=2020-05-01 00:49:24, card_num=54919450721588417375, oper_type=Пополнение, amt=41126.11, oper_result=Успешно, terminal=POS85234\n",
      "trans_id=459271184, trans_date=2020-05-01 00:51:17, card_num=56068967008400842346, oper_type=Пополнение, amt=66686.15, oper_result=Успешно, terminal=POS93205\n",
      "trans_id=459271185, trans_date=2020-05-01 00:53:52, card_num=56884487034246408696, oper_type=Снятие, amt=1037.14, oper_result=Успешно, terminal=POS66216\n",
      "trans_id=459271186, trans_date=2020-05-01 00:54:43, card_num=42678739682610094308, oper_type=Оплата, amt=67330.72, oper_result=Успешно, terminal=POS23811\n",
      "trans_id=459271187, trans_date=2020-05-01 00:57:01, card_num=57918658477233995086, oper_type=Оплата, amt=81106.15, oper_result=Успешно, terminal=ATM82416\n",
      "trans_id=459271188, trans_date=2020-05-01 00:59:54, card_num=51252741912437407092, oper_type=Пополнение, amt=92787.13, oper_result=Успешно, terminal=POS45875\n",
      "trans_id=459271189, trans_date=2020-05-01 01:00:52, card_num=49778609412356069284, oper_type=Пополнение, amt=81535.35, oper_result=Успешно, terminal=ATM95603\n",
      "trans_id=459271190, trans_date=2020-05-01 01:01:22, card_num=44868349466429160571, oper_type=Пополнение, amt=64181.39, oper_result=Отказ, terminal=POS45875\n",
      "trans_id=459271191, trans_date=2020-05-01 01:03:44, card_num=48871075701716442139, oper_type=Пополнение, amt=64327.15, oper_result=Успешно, terminal=ATM69445\n",
      "trans_id=459271192, trans_date=2020-05-01 01:06:20, card_num=56487805695203067663, oper_type=Пополнение, amt=62864.9, oper_result=Отказ, terminal=POS91355\n",
      "trans_id=459271193, trans_date=2020-05-01 01:08:18, card_num=42188382754734017790, oper_type=Оплата, amt=82779.21, oper_result=Успешно, terminal=ATM47348\n",
      "trans_id=459271194, trans_date=2020-05-01 01:10:03, card_num=42838246512906966897, oper_type=Пополнение, amt=17845.77, oper_result=Успешно, terminal=ATM89221\n",
      "trans_id=459271195, trans_date=2020-05-01 01:11:05, card_num=53628495953781632327, oper_type=Пополнение, amt=89336.4, oper_result=Отказ, terminal=ATM95603\n",
      "trans_id=459271196, trans_date=2020-05-01 01:12:02, card_num=51096339952507568552, oper_type=Оплата, amt=87856.1, oper_result=Успешно, terminal=POS89498\n",
      "trans_id=459271197, trans_date=2020-05-01 01:13:04, card_num=57510458898586742759, oper_type=Пополнение, amt=68293.17, oper_result=Успешно, terminal=POS76241\n",
      "trans_id=459271198, trans_date=2020-05-01 01:14:54, card_num=46844254817126649872, oper_type=Пополнение, amt=70804.45, oper_result=Отказ, terminal=POS94350\n",
      "trans_id=459271199, trans_date=2020-05-01 01:16:34, card_num=46809845844169019422, oper_type=Оплата, amt=90446.04, oper_result=Отказ, terminal=ATM82015\n",
      "trans_id=459271200, trans_date=2020-05-01 01:18:30, card_num=57264663569236864179, oper_type=Снятие, amt=43781.32, oper_result=Успешно, terminal=POS76281\n",
      "trans_id=459271201, trans_date=2020-05-01 01:19:11, card_num=44726108214002784155, oper_type=Пополнение, amt=29160.81, oper_result=Отказ, terminal=ATM88065\n",
      "trans_id=459271202, trans_date=2020-05-01 01:21:29, card_num=58729233686587872758, oper_type=Снятие, amt=90337.6, oper_result=Успешно, terminal=ATM93692\n",
      "trans_id=459271203, trans_date=2020-05-01 01:23:23, card_num=52158503149271501314, oper_type=Снятие, amt=93432.28, oper_result=Отказ, terminal=POS75616\n",
      "trans_id=459271204, trans_date=2020-05-01 01:25:41, card_num=51286261936710322884, oper_type=Оплата, amt=56244.42, oper_result=Успешно, terminal=POS60036\n",
      "trans_id=459271205, trans_date=2020-05-01 01:26:39, card_num=46264415796443557020, oper_type=Снятие, amt=72419.43, oper_result=Успешно, terminal=ATM89221\n",
      "trans_id=459271206, trans_date=2020-05-01 01:27:35, card_num=54898777116337991968, oper_type=Снятие, amt=91748.87, oper_result=Успешно, terminal=POS59542\n",
      "trans_id=459271207, trans_date=2020-05-01 01:30:27, card_num=45580758876637858132, oper_type=Оплата, amt=17377.73, oper_result=Успешно, terminal=POS25442\n",
      "trans_id=459271208, trans_date=2020-05-01 01:32:15, card_num=57321501318281202578, oper_type=Оплата, amt=56917.61, oper_result=Успешно, terminal=ATM41209\n",
      "trans_id=459271209, trans_date=2020-05-01 01:35:08, card_num=52125954473679089975, oper_type=Оплата, amt=94101.11, oper_result=Успешно, terminal=ATM62930\n",
      "trans_id=459271210, trans_date=2020-05-01 01:37:14, card_num=44316223479554645420, oper_type=Оплата, amt=33508.36, oper_result=Успешно, terminal=ATM56696\n",
      "trans_id=459271211, trans_date=2020-05-01 01:39:23, card_num=44123785227335055098, oper_type=Пополнение, amt=94053.55, oper_result=Отказ, terminal=POS55335\n",
      "trans_id=459271212, trans_date=2020-05-01 01:42:21, card_num=57190469235058523090, oper_type=Снятие, amt=66018.99, oper_result=Отказ, terminal=POS13643\n",
      "trans_id=459271213, trans_date=2020-05-01 01:43:01, card_num=43831567888477655321, oper_type=Оплата, amt=53580.03, oper_result=Отказ, terminal=ATM47348\n",
      "trans_id=459271214, trans_date=2020-05-01 01:45:14, card_num=54853271034568043412, oper_type=Оплата, amt=88485.74, oper_result=Успешно, terminal=POS73362\n",
      "trans_id=459271215, trans_date=2020-05-01 01:47:49, card_num=52653068543917009521, oper_type=Снятие, amt=49401.88, oper_result=Успешно, terminal=POS65199\n",
      "trans_id=459271216, trans_date=2020-05-01 01:50:25, card_num=43994804859459785752, oper_type=Снятие, amt=38526.91, oper_result=Успешно, terminal=ATM69537\n",
      "trans_id=459271217, trans_date=2020-05-01 01:51:34, card_num=55289746045272121845, oper_type=Пополнение, amt=83234.47, oper_result=Успешно, terminal=POS33945\n",
      "trans_id=459271218, trans_date=2020-05-01 01:53:19, card_num=59932671953015112698, oper_type=Пополнение, amt=8260.88, oper_result=Успешно, terminal=POS59542\n",
      "trans_id=459271219, trans_date=2020-05-01 01:55:29, card_num=41063886493390263403, oper_type=Оплата, amt=11416.52, oper_result=Отказ, terminal=ATM50766\n",
      "trans_id=459271220, trans_date=2020-05-01 01:57:38, card_num=43256173341861186637, oper_type=Оплата, amt=57730.43, oper_result=Успешно, terminal=POS20393\n",
      "trans_id=459271221, trans_date=2020-05-01 01:59:06, card_num=45536232075531072377, oper_type=Пополнение, amt=36468.78, oper_result=Успешно, terminal=POS23811\n",
      "trans_id=459271222, trans_date=2020-05-01 02:00:50, card_num=52447376321057995579, oper_type=Пополнение, amt=79477.66, oper_result=Отказ, terminal=POS60036\n",
      "trans_id=459271223, trans_date=2020-05-01 02:03:12, card_num=58922826476988396890, oper_type=Оплата, amt=40316.44, oper_result=Успешно, terminal=POS53745\n",
      "trans_id=459271224, trans_date=2020-05-01 02:05:59, card_num=47709686347314217906, oper_type=Пополнение, amt=93036.95, oper_result=Успешно, terminal=POS91355\n",
      "trans_id=459271225, trans_date=2020-05-01 02:07:27, card_num=57264663569236864179, oper_type=Снятие, amt=76539.93, oper_result=Успешно, terminal=POS66772\n",
      "повторная карта 57264663569236864179\n",
      "trans_id=459271226, trans_date=2020-05-01 02:09:49, card_num=54673492235700790374, oper_type=Снятие, amt=70151.11, oper_result=Отказ, terminal=POS85234\n",
      "trans_id=459271227, trans_date=2020-05-01 02:11:46, card_num=59106590242765400848, oper_type=Пополнение, amt=57308.68, oper_result=Отказ, terminal=POS60036\n",
      "trans_id=459271228, trans_date=2020-05-01 02:12:23, card_num=44069817264830401335, oper_type=Снятие, amt=19366.51, oper_result=Успешно, terminal=POS41732\n",
      "trans_id=459271229, trans_date=2020-05-01 02:14:06, card_num=42347383336469513843, oper_type=Пополнение, amt=24979.03, oper_result=Успешно, terminal=ATM21750\n",
      "trans_id=459271230, trans_date=2020-05-01 02:16:36, card_num=52069543005371412558, oper_type=Оплата, amt=43154.53, oper_result=Отказ, terminal=POS64475\n",
      "trans_id=459271231, trans_date=2020-05-01 02:17:36, card_num=45350005633559747889, oper_type=Оплата, amt=9908.01, oper_result=Отказ, terminal=POS82543\n",
      "trans_id=459271232, trans_date=2020-05-01 02:20:07, card_num=44171613894505013147, oper_type=Пополнение, amt=84872.8, oper_result=Успешно, terminal=ATM80373\n",
      "trans_id=459271233, trans_date=2020-05-01 02:22:28, card_num=44532906995818604333, oper_type=Оплата, amt=79798.98, oper_result=Отказ, terminal=ATM63726\n",
      "trans_id=459271234, trans_date=2020-05-01 02:25:26, card_num=47880931179823215061, oper_type=Пополнение, amt=88066.05, oper_result=Отказ, terminal=ATM17215\n",
      "trans_id=459271235, trans_date=2020-05-01 02:26:33, card_num=56644998556968383542, oper_type=Снятие, amt=60117.4, oper_result=Отказ, terminal=ATM39718\n",
      "trans_id=459271236, trans_date=2020-05-01 02:28:30, card_num=42978440873132791854, oper_type=Оплата, amt=28672.19, oper_result=Отказ, terminal=POS66772\n",
      "trans_id=459271237, trans_date=2020-05-01 02:29:11, card_num=53188272019071722274, oper_type=Снятие, amt=14811.69, oper_result=Отказ, terminal=POS64475\n",
      "trans_id=459271238, trans_date=2020-05-01 02:32:08, card_num=43023783331966372985, oper_type=Оплата, amt=99217.36, oper_result=Успешно, terminal=ATM62930\n",
      "trans_id=459271239, trans_date=2020-05-01 02:33:14, card_num=54244077557858904411, oper_type=Снятие, amt=17442.79, oper_result=Отказ, terminal=POS70407\n",
      "trans_id=459271240, trans_date=2020-05-01 02:34:21, card_num=48696145363022512681, oper_type=Снятие, amt=14377.4, oper_result=Успешно, terminal=POS85298\n",
      "trans_id=459271241, trans_date=2020-05-01 02:36:39, card_num=53819041037302193113, oper_type=Оплата, amt=23677.48, oper_result=Успешно, terminal=ATM88406\n",
      "trans_id=459271242, trans_date=2020-05-01 02:38:12, card_num=49811761251221749882, oper_type=Снятие, amt=98895.2, oper_result=Отказ, terminal=ATM92212\n",
      "trans_id=459271243, trans_date=2020-05-01 02:39:31, card_num=48673205542106751174, oper_type=Снятие, amt=72897.55, oper_result=Успешно, terminal=POS71096\n",
      "trans_id=459271244, trans_date=2020-05-01 02:40:55, card_num=48026686954470995317, oper_type=Пополнение, amt=92243.61, oper_result=Успешно, terminal=POS60871\n",
      "trans_id=459271245, trans_date=2020-05-01 02:43:32, card_num=56684928304637568715, oper_type=Оплата, amt=58294.12, oper_result=Успешно, terminal=ATM29484\n",
      "trans_id=459271246, trans_date=2020-05-01 02:45:05, card_num=58207735999402169118, oper_type=Снятие, amt=88509.79, oper_result=Отказ, terminal=POS94907\n",
      "trans_id=459271247, trans_date=2020-05-01 02:47:03, card_num=56276869634322037621, oper_type=Оплата, amt=11451.72, oper_result=Успешно, terminal=ATM91784\n",
      "trans_id=459271248, trans_date=2020-05-01 02:47:34, card_num=54315912585015718278, oper_type=Снятие, amt=9287.96, oper_result=Успешно, terminal=ATM93692\n",
      "trans_id=459271249, trans_date=2020-05-01 02:48:52, card_num=48460283946239436061, oper_type=Пополнение, amt=47354.27, oper_result=Успешно, terminal=POS27110\n",
      "trans_id=459271250, trans_date=2020-05-01 02:51:36, card_num=43136912079211328636, oper_type=Оплата, amt=66025.62, oper_result=Успешно, terminal=ATM27913\n",
      "trans_id=459271251, trans_date=2020-05-01 02:53:48, card_num=44607168929416855230, oper_type=Оплата, amt=79105.07, oper_result=Успешно, terminal=ATM17215\n",
      "trans_id=459271252, trans_date=2020-05-01 02:54:49, card_num=55360563734388914790, oper_type=Оплата, amt=53362.93, oper_result=Успешно, terminal=POS89498\n",
      "trans_id=459271253, trans_date=2020-05-01 02:57:36, card_num=59239386691198496562, oper_type=Оплата, amt=41916.36, oper_result=Успешно, terminal=POS20393\n",
      "trans_id=459271254, trans_date=2020-05-01 02:58:29, card_num=59847905244462178219, oper_type=Пополнение, amt=34259.93, oper_result=Успешно, terminal=POS26573\n",
      "trans_id=459271255, trans_date=2020-05-01 03:01:00, card_num=59167007867209519080, oper_type=Оплата, amt=41409.17, oper_result=Успешно, terminal=POS57136\n",
      "trans_id=459271256, trans_date=2020-05-01 03:01:33, card_num=41440646687592011030, oper_type=Пополнение, amt=66562.21, oper_result=Успешно, terminal=POS55762\n",
      "повторная карта 41440646687592011030\n",
      "trans_id=459271257, trans_date=2020-05-01 03:02:58, card_num=44967850316174724193, oper_type=Снятие, amt=71481.19, oper_result=Отказ, terminal=POS64475\n",
      "trans_id=459271258, trans_date=2020-05-01 03:05:14, card_num=55425899015452603952, oper_type=Оплата, amt=90309.57, oper_result=Успешно, terminal=ATM94002\n",
      "trans_id=459271259, trans_date=2020-05-01 03:06:34, card_num=56965152614841696354, oper_type=Снятие, amt=90073.15, oper_result=Отказ, terminal=POS93826\n",
      "trans_id=459271260, trans_date=2020-05-01 03:08:40, card_num=42922182199073815988, oper_type=Снятие, amt=43203.05, oper_result=Отказ, terminal=POS16910\n",
      "trans_id=459271261, trans_date=2020-05-01 03:09:28, card_num=45490309855662781207, oper_type=Оплата, amt=97847.34, oper_result=Успешно, terminal=POS76241\n",
      "trans_id=459271262, trans_date=2020-05-01 03:10:59, card_num=46774069456627108808, oper_type=Снятие, amt=6293.99, oper_result=Успешно, terminal=POS16910\n",
      "trans_id=459271263, trans_date=2020-05-01 03:12:32, card_num=56891171151796341905, oper_type=Пополнение, amt=10769.21, oper_result=Успешно, terminal=POS91355\n",
      "trans_id=459271264, trans_date=2020-05-01 03:14:09, card_num=52758471193080937427, oper_type=Снятие, amt=73622.66, oper_result=Отказ, terminal=ATM95603\n",
      "trans_id=459271265, trans_date=2020-05-01 03:16:16, card_num=54828984825849593915, oper_type=Пополнение, amt=43549.32, oper_result=Отказ, terminal=POS31141\n",
      "trans_id=459271266, trans_date=2020-05-01 03:18:22, card_num=52771433011474122524, oper_type=Пополнение, amt=5522.41, oper_result=Успешно, terminal=POS70407\n",
      "trans_id=459271267, trans_date=2020-05-01 03:19:31, card_num=44907257662599719047, oper_type=Снятие, amt=78387.25, oper_result=Успешно, terminal=POS70407\n",
      "trans_id=459271268, trans_date=2020-05-01 03:20:26, card_num=56513672832632505630, oper_type=Снятие, amt=44900.95, oper_result=Успешно, terminal=POS82543\n",
      "trans_id=459271269, trans_date=2020-05-01 03:21:14, card_num=54922643148985513437, oper_type=Оплата, amt=88925.23, oper_result=Успешно, terminal=POS16910\n",
      "trans_id=459271270, trans_date=2020-05-01 03:22:20, card_num=58476382069029266010, oper_type=Снятие, amt=505.87, oper_result=Отказ, terminal=POS94350\n",
      "trans_id=459271271, trans_date=2020-05-01 03:24:38, card_num=42921254189605739441, oper_type=Оплата, amt=976.98, oper_result=Отказ, terminal=ATM16730\n",
      "trans_id=459271272, trans_date=2020-05-01 03:26:00, card_num=55055386061347959155, oper_type=Пополнение, amt=11416.34, oper_result=Отказ, terminal=ATM91784\n",
      "trans_id=459271273, trans_date=2020-05-01 03:28:44, card_num=57951994584395947926, oper_type=Пополнение, amt=83160.98, oper_result=Успешно, terminal=ATM94002\n",
      "trans_id=459271274, trans_date=2020-05-01 03:30:07, card_num=57881064439940937817, oper_type=Оплата, amt=33642.43, oper_result=Отказ, terminal=ATM93692\n",
      "trans_id=459271275, trans_date=2020-05-01 03:32:26, card_num=52732809218719015320, oper_type=Оплата, amt=55877.07, oper_result=Отказ, terminal=POS73362\n",
      "trans_id=459271276, trans_date=2020-05-01 03:33:49, card_num=52365537226718800367, oper_type=Снятие, amt=98428.66, oper_result=Успешно, terminal=ATM91784\n",
      "trans_id=459271277, trans_date=2020-05-01 03:34:23, card_num=58795066085234174485, oper_type=Оплата, amt=98451.8, oper_result=Отказ, terminal=POS93205\n",
      "trans_id=459271278, trans_date=2020-05-01 03:35:59, card_num=56590767063521118989, oper_type=Оплата, amt=72609.73, oper_result=Отказ, terminal=POS57136\n",
      "trans_id=459271279, trans_date=2020-05-01 03:38:35, card_num=53501048863881936335, oper_type=Снятие, amt=73320.91, oper_result=Успешно, terminal=ATM40216\n",
      "trans_id=459271280, trans_date=2020-05-01 03:41:06, card_num=47412345533510136524, oper_type=Пополнение, amt=86935.99, oper_result=Успешно, terminal=ATM48088\n",
      "trans_id=459271281, trans_date=2020-05-01 03:43:29, card_num=59475461911069013841, oper_type=Снятие, amt=44205.77, oper_result=Успешно, terminal=ATM92212\n",
      "trans_id=459271282, trans_date=2020-05-01 03:44:16, card_num=45712258064493587919, oper_type=Оплата, amt=69987.1, oper_result=Успешно, terminal=ATM82416\n",
      "trans_id=459271283, trans_date=2020-05-01 03:45:31, card_num=59538051059776166676, oper_type=Пополнение, amt=27621.4, oper_result=Успешно, terminal=ATM48311\n",
      "trans_id=459271284, trans_date=2020-05-01 03:47:58, card_num=48988809527119922625, oper_type=Пополнение, amt=72909.18, oper_result=Успешно, terminal=ATM82416\n",
      "trans_id=459271285, trans_date=2020-05-01 03:49:55, card_num=56565232545697865594, oper_type=Пополнение, amt=70469.12, oper_result=Успешно, terminal=POS66216\n",
      "trans_id=459271286, trans_date=2020-05-01 03:51:32, card_num=57693087636441642889, oper_type=Оплата, amt=2658.76, oper_result=Успешно, terminal=POS55762\n",
      "trans_id=459271287, trans_date=2020-05-01 03:53:59, card_num=49948799363749190508, oper_type=Оплата, amt=58640.71, oper_result=Отказ, terminal=ATM56696\n",
      "trans_id=459271288, trans_date=2020-05-01 03:56:21, card_num=57343747251880666100, oper_type=Оплата, amt=55382.92, oper_result=Успешно, terminal=POS20393\n",
      "trans_id=459271289, trans_date=2020-05-01 03:57:20, card_num=44868468521994778096, oper_type=Снятие, amt=96628.32, oper_result=Отказ, terminal=ATM17215\n",
      "trans_id=459271290, trans_date=2020-05-01 03:59:33, card_num=57762896807815036433, oper_type=Снятие, amt=52417.18, oper_result=Отказ, terminal=POS98042\n",
      "trans_id=459271291, trans_date=2020-05-01 04:02:23, card_num=45218968559809961854, oper_type=Снятие, amt=85260.54, oper_result=Успешно, terminal=ATM98530\n",
      "trans_id=459271292, trans_date=2020-05-01 04:03:36, card_num=49816337037183305743, oper_type=Снятие, amt=53401.24, oper_result=Отказ, terminal=ATM92212\n",
      "trans_id=459271293, trans_date=2020-05-01 04:06:18, card_num=57181299334510036965, oper_type=Оплата, amt=34298.94, oper_result=Успешно, terminal=POS66062\n",
      "trans_id=459271294, trans_date=2020-05-01 04:07:27, card_num=42873951908260870356, oper_type=Пополнение, amt=70612.75, oper_result=Успешно, terminal=ATM16730\n",
      "trans_id=459271295, trans_date=2020-05-01 04:08:44, card_num=41512543527879535436, oper_type=Пополнение, amt=6142.41, oper_result=Успешно, terminal=POS75616\n",
      "trans_id=459271296, trans_date=2020-05-01 04:11:28, card_num=55660068048133717097, oper_type=Снятие, amt=22439.83, oper_result=Успешно, terminal=POS60871\n",
      "trans_id=459271297, trans_date=2020-05-01 04:13:58, card_num=42779341746783593676, oper_type=Пополнение, amt=37825.5, oper_result=Отказ, terminal=POS98042\n",
      "trans_id=459271298, trans_date=2020-05-01 04:16:33, card_num=41857654862989828131, oper_type=Пополнение, amt=84870.5, oper_result=Отказ, terminal=ATM61912\n",
      "trans_id=459271299, trans_date=2020-05-01 04:17:22, card_num=48155736244249141958, oper_type=Оплата, amt=35609.49, oper_result=Отказ, terminal=ATM80373\n",
      "trans_id=459271300, trans_date=2020-05-01 04:18:00, card_num=59934722013062207858, oper_type=Пополнение, amt=57552.44, oper_result=Отказ, terminal=ATM69537\n",
      "trans_id=459271301, trans_date=2020-05-01 04:19:39, card_num=55572485629764594606, oper_type=Оплата, amt=10863.39, oper_result=Отказ, terminal=POS45568\n",
      "trans_id=459271302, trans_date=2020-05-01 04:20:32, card_num=47817097656066354835, oper_type=Снятие, amt=79138.4, oper_result=Успешно, terminal=POS20393\n",
      "trans_id=459271303, trans_date=2020-05-01 04:21:32, card_num=52623815766889613245, oper_type=Оплата, amt=54094.35, oper_result=Успешно, terminal=POS82543\n",
      "trans_id=459271304, trans_date=2020-05-01 04:23:36, card_num=56071984022724319270, oper_type=Пополнение, amt=73128.67, oper_result=Успешно, terminal=ATM40216\n",
      "trans_id=459271305, trans_date=2020-05-01 04:25:15, card_num=47613764946886760260, oper_type=Оплата, amt=84036.78, oper_result=Успешно, terminal=POS66772\n",
      "trans_id=459271306, trans_date=2020-05-01 04:27:15, card_num=51640039284990936654, oper_type=Оплата, amt=86273.95, oper_result=Успешно, terminal=POS31141\n",
      "trans_id=459271307, trans_date=2020-05-01 04:28:15, card_num=44661874296057920193, oper_type=Оплата, amt=21228.74, oper_result=Отказ, terminal=ATM41209\n",
      "trans_id=459271308, trans_date=2020-05-01 04:29:49, card_num=53336667837501095099, oper_type=Оплата, amt=53203.4, oper_result=Отказ, terminal=POS81772\n",
      "trans_id=459271309, trans_date=2020-05-01 04:30:34, card_num=43728005875872826550, oper_type=Пополнение, amt=76492.99, oper_result=Отказ, terminal=POS94350\n",
      "trans_id=459271310, trans_date=2020-05-01 04:33:18, card_num=45610282216522741463, oper_type=Оплата, amt=16471.86, oper_result=Успешно, terminal=ATM27913\n",
      "trans_id=459271311, trans_date=2020-05-01 04:35:40, card_num=55003910554758485568, oper_type=Оплата, amt=9582.76, oper_result=Успешно, terminal=ATM39555\n",
      "trans_id=459271312, trans_date=2020-05-01 04:36:43, card_num=56509747028425152175, oper_type=Оплата, amt=97748.73, oper_result=Отказ, terminal=ATM90761\n",
      "trans_id=459271313, trans_date=2020-05-01 04:39:00, card_num=47666228854695971714, oper_type=Оплата, amt=1978.81, oper_result=Успешно, terminal=POS20393\n",
      "trans_id=459271314, trans_date=2020-05-01 04:41:47, card_num=47954798321874145410, oper_type=Пополнение, amt=58383.88, oper_result=Отказ, terminal=POS65199\n",
      "trans_id=459271315, trans_date=2020-05-01 04:42:33, card_num=42580816225883196851, oper_type=Пополнение, amt=57067.96, oper_result=Успешно, terminal=ATM63726\n",
      "trans_id=459271316, trans_date=2020-05-01 04:43:45, card_num=45339649911993157362, oper_type=Снятие, amt=4159.68, oper_result=Успешно, terminal=ATM21750\n",
      "trans_id=459271317, trans_date=2020-05-01 04:45:19, card_num=58881361191101532791, oper_type=Пополнение, amt=73552.98, oper_result=Отказ, terminal=POS60036\n",
      "trans_id=459271318, trans_date=2020-05-01 04:47:47, card_num=47654746041302463812, oper_type=Снятие, amt=1741.77, oper_result=Успешно, terminal=POS20630\n",
      "trans_id=459271319, trans_date=2020-05-01 04:49:06, card_num=46077586547661260081, oper_type=Оплата, amt=42481.78, oper_result=Успешно, terminal=POS75616\n",
      "trans_id=459271320, trans_date=2020-05-01 04:51:45, card_num=43289812407170908086, oper_type=Оплата, amt=26703.57, oper_result=Успешно, terminal=POS23811\n",
      "trans_id=459271321, trans_date=2020-05-01 04:54:37, card_num=51445740233981239757, oper_type=Снятие, amt=27342.52, oper_result=Успешно, terminal=POS94350\n",
      "trans_id=459271322, trans_date=2020-05-01 04:57:31, card_num=51428227161531093024, oper_type=Снятие, amt=59408.14, oper_result=Успешно, terminal=POS71096\n",
      "trans_id=459271323, trans_date=2020-05-01 05:00:09, card_num=59311887106361363284, oper_type=Пополнение, amt=78811.33, oper_result=Успешно, terminal=ATM69537\n",
      "trans_id=459271324, trans_date=2020-05-01 05:02:17, card_num=44758521848053617690, oper_type=Снятие, amt=7060.66, oper_result=Успешно, terminal=ATM17215\n",
      "trans_id=459271325, trans_date=2020-05-01 05:03:11, card_num=42208842374995446550, oper_type=Оплата, amt=65017.5, oper_result=Успешно, terminal=POS94350\n",
      "trans_id=459271326, trans_date=2020-05-01 05:05:31, card_num=42913674638297160853, oper_type=Пополнение, amt=23592.93, oper_result=Отказ, terminal=POS75616\n",
      "trans_id=459271327, trans_date=2020-05-01 05:06:23, card_num=54985950745784366891, oper_type=Пополнение, amt=9289.24, oper_result=Успешно, terminal=POS31141\n",
      "trans_id=459271328, trans_date=2020-05-01 05:07:59, card_num=42361470039204755223, oper_type=Пополнение, amt=1470.2, oper_result=Успешно, terminal=ATM98530\n",
      "trans_id=459271329, trans_date=2020-05-01 05:08:43, card_num=51060526802515666533, oper_type=Оплата, amt=85684.92, oper_result=Отказ, terminal=POS85298\n",
      "trans_id=459271330, trans_date=2020-05-01 05:10:50, card_num=42740903789297875478, oper_type=Пополнение, amt=29781.39, oper_result=Успешно, terminal=ATM94006\n",
      "trans_id=459271331, trans_date=2020-05-01 05:12:04, card_num=52360202885289440312, oper_type=Снятие, amt=78403.76, oper_result=Успешно, terminal=POS31141\n",
      "trans_id=459271332, trans_date=2020-05-01 05:13:41, card_num=48582545265424635118, oper_type=Снятие, amt=81643.12, oper_result=Отказ, terminal=POS55335\n",
      "trans_id=459271333, trans_date=2020-05-01 05:16:14, card_num=56498653488543054180, oper_type=Пополнение, amt=44576.5, oper_result=Успешно, terminal=POS27110\n",
      "trans_id=459271334, trans_date=2020-05-01 05:18:57, card_num=53324414553122333305, oper_type=Пополнение, amt=17079.25, oper_result=Успешно, terminal=POS27110\n",
      "trans_id=459271335, trans_date=2020-05-01 05:21:31, card_num=49381177703426315088, oper_type=Пополнение, amt=55049.56, oper_result=Успешно, terminal=POS11310\n",
      "trans_id=459271336, trans_date=2020-05-01 05:23:17, card_num=44730955301744326313, oper_type=Оплата, amt=18703.77, oper_result=Успешно, terminal=POS55762\n",
      "trans_id=459271337, trans_date=2020-05-01 05:26:09, card_num=49987379053495874982, oper_type=Снятие, amt=87099.9, oper_result=Успешно, terminal=ATM90761\n",
      "trans_id=459271338, trans_date=2020-05-01 05:27:17, card_num=54346422257114864067, oper_type=Оплата, amt=27760.12, oper_result=Успешно, terminal=ATM94006\n",
      "trans_id=459271339, trans_date=2020-05-01 05:28:05, card_num=47161061662625674027, oper_type=Оплата, amt=90715.12, oper_result=Отказ, terminal=ATM42463\n",
      "trans_id=459271340, trans_date=2020-05-01 05:30:59, card_num=48748927364069959675, oper_type=Снятие, amt=35174.18, oper_result=Успешно, terminal=POS67659\n",
      "trans_id=459271341, trans_date=2020-05-01 05:32:25, card_num=45390721983037835158, oper_type=Оплата, amt=90360.49, oper_result=Успешно, terminal=ATM82015\n",
      "trans_id=459271342, trans_date=2020-05-01 05:35:11, card_num=59983023737500262321, oper_type=Оплата, amt=77211.95, oper_result=Отказ, terminal=POS23811\n",
      "trans_id=459271343, trans_date=2020-05-01 05:36:27, card_num=57288241277221496801, oper_type=Снятие, amt=48256.14, oper_result=Отказ, terminal=ATM39555\n",
      "trans_id=459271344, trans_date=2020-05-01 05:39:03, card_num=44344929846954773993, oper_type=Оплата, amt=31259.89, oper_result=Отказ, terminal=ATM75799\n",
      "trans_id=459271345, trans_date=2020-05-01 05:39:50, card_num=54469657629057492976, oper_type=Снятие, amt=13490.11, oper_result=Успешно, terminal=ATM75799\n",
      "trans_id=459271346, trans_date=2020-05-01 05:40:30, card_num=52970834595869618950, oper_type=Снятие, amt=70213.11, oper_result=Успешно, terminal=POS27110\n",
      "trans_id=459271347, trans_date=2020-05-01 05:42:00, card_num=52606004767791060534, oper_type=Оплата, amt=56408.0, oper_result=Успешно, terminal=POS91355\n",
      "trans_id=459271348, trans_date=2020-05-01 05:42:38, card_num=43676997736973095154, oper_type=Снятие, amt=6433.97, oper_result=Отказ, terminal=POS11310\n",
      "trans_id=459271349, trans_date=2020-05-01 05:44:37, card_num=49608727317941534265, oper_type=Пополнение, amt=83724.53, oper_result=Успешно, terminal=ATM41625\n",
      "trans_id=459271350, trans_date=2020-05-01 05:45:47, card_num=55176626678971945835, oper_type=Оплата, amt=78638.85, oper_result=Успешно, terminal=POS41732\n",
      "trans_id=459271351, trans_date=2020-05-01 05:47:09, card_num=55616307007543768707, oper_type=Оплата, amt=36004.51, oper_result=Отказ, terminal=ATM72885\n",
      "trans_id=459271352, trans_date=2020-05-01 05:48:36, card_num=45281067261154828739, oper_type=Снятие, amt=36770.09, oper_result=Успешно, terminal=POS23811\n",
      "trans_id=459271353, trans_date=2020-05-01 05:51:33, card_num=58758618557055202529, oper_type=Пополнение, amt=84395.01, oper_result=Отказ, terminal=POS13190\n",
      "trans_id=459271354, trans_date=2020-05-01 05:53:25, card_num=44697360941049581903, oper_type=Пополнение, amt=38870.18, oper_result=Отказ, terminal=POS55762\n",
      "trans_id=459271355, trans_date=2020-05-01 05:54:37, card_num=54540887885114137546, oper_type=Оплата, amt=76458.57, oper_result=Отказ, terminal=ATM54168\n",
      "trans_id=459271356, trans_date=2020-05-01 05:55:23, card_num=59819364093006526696, oper_type=Пополнение, amt=23592.46, oper_result=Успешно, terminal=POS89498\n",
      "trans_id=459271357, trans_date=2020-05-01 05:56:09, card_num=59237020631047398653, oper_type=Снятие, amt=72650.66, oper_result=Отказ, terminal=POS89498\n",
      "trans_id=459271358, trans_date=2020-05-01 05:58:33, card_num=59147847094154612390, oper_type=Оплата, amt=69660.77, oper_result=Успешно, terminal=POS85298\n",
      "trans_id=459271359, trans_date=2020-05-01 05:59:40, card_num=55483359191226447189, oper_type=Оплата, amt=19090.51, oper_result=Успешно, terminal=ATM27913\n",
      "trans_id=459271360, trans_date=2020-05-01 06:01:48, card_num=57683563812688418140, oper_type=Оплата, amt=36761.73, oper_result=Успешно, terminal=POS45568\n",
      "trans_id=459271361, trans_date=2020-05-01 06:02:54, card_num=52912878286765775451, oper_type=Снятие, amt=51403.42, oper_result=Отказ, terminal=ATM90761\n",
      "trans_id=459271362, trans_date=2020-05-01 06:05:12, card_num=42062784542342127578, oper_type=Пополнение, amt=88884.72, oper_result=Успешно, terminal=POS53745\n",
      "trans_id=459271363, trans_date=2020-05-01 06:06:52, card_num=44685051793521741531, oper_type=Оплата, amt=25038.97, oper_result=Успешно, terminal=ATM91784\n",
      "trans_id=459271364, trans_date=2020-05-01 06:07:37, card_num=48874956643667669592, oper_type=Оплата, amt=71324.84, oper_result=Отказ, terminal=POS11310\n",
      "trans_id=459271365, trans_date=2020-05-01 06:10:18, card_num=47820498613401158227, oper_type=Снятие, amt=27962.05, oper_result=Успешно, terminal=POS85298\n",
      "trans_id=459271366, trans_date=2020-05-01 06:12:26, card_num=53007624688892422309, oper_type=Снятие, amt=13500.76, oper_result=Успешно, terminal=ATM50766\n",
      "trans_id=459271367, trans_date=2020-05-01 06:14:09, card_num=41116651957884355428, oper_type=Оплата, amt=71293.96, oper_result=Отказ, terminal=POS25442\n",
      "trans_id=459271368, trans_date=2020-05-01 06:17:03, card_num=48874956643667669592, oper_type=Оплата, amt=68078.75, oper_result=Успешно, terminal=POS11310\n",
      "повторная карта 48874956643667669592\n",
      "trans_id=459271369, trans_date=2020-05-01 06:19:26, card_num=45772432181186612537, oper_type=Оплата, amt=95353.97, oper_result=Успешно, terminal=POS70407\n",
      "trans_id=459271370, trans_date=2020-05-01 06:22:19, card_num=45034595299381732343, oper_type=Снятие, amt=1139.89, oper_result=Отказ, terminal=ATM42887\n",
      "trans_id=459271371, trans_date=2020-05-01 06:24:02, card_num=52454917963244171650, oper_type=Снятие, amt=41065.47, oper_result=Отказ, terminal=POS53745\n",
      "trans_id=459271372, trans_date=2020-05-01 06:25:25, card_num=56624112344511203053, oper_type=Пополнение, amt=81918.73, oper_result=Отказ, terminal=POS76281\n",
      "trans_id=459271373, trans_date=2020-05-01 06:27:33, card_num=41953993586613602565, oper_type=Снятие, amt=18988.07, oper_result=Успешно, terminal=ATM45335\n",
      "trans_id=459271374, trans_date=2020-05-01 06:29:59, card_num=52054905425573079466, oper_type=Пополнение, amt=99740.69, oper_result=Отказ, terminal=ATM61912\n",
      "trans_id=459271375, trans_date=2020-05-01 06:30:31, card_num=55383030012061754146, oper_type=Оплата, amt=31488.01, oper_result=Успешно, terminal=ATM80373\n",
      "trans_id=459271376, trans_date=2020-05-01 06:32:44, card_num=59024548055294777098, oper_type=Пополнение, amt=21538.12, oper_result=Отказ, terminal=ATM39555\n",
      "trans_id=459271377, trans_date=2020-05-01 06:33:25, card_num=58296936092638492357, oper_type=Оплата, amt=57420.74, oper_result=Успешно, terminal=POS63386\n",
      "trans_id=459271378, trans_date=2020-05-01 06:35:16, card_num=56214494877940931857, oper_type=Пополнение, amt=72577.94, oper_result=Отказ, terminal=ATM48088\n",
      "trans_id=459271379, trans_date=2020-05-01 06:37:07, card_num=56936808658269721641, oper_type=Снятие, amt=97881.36, oper_result=Успешно, terminal=ATM47348\n",
      "trans_id=459271380, trans_date=2020-05-01 06:39:27, card_num=41477190107057935832, oper_type=Снятие, amt=24300.29, oper_result=Успешно, terminal=POS66062\n",
      "trans_id=459271381, trans_date=2020-05-01 06:41:12, card_num=58092040799065814655, oper_type=Пополнение, amt=66093.74, oper_result=Успешно, terminal=ATM21750\n",
      "trans_id=459271382, trans_date=2020-05-01 06:42:17, card_num=43049265066676459490, oper_type=Снятие, amt=42593.23, oper_result=Отказ, terminal=POS76281\n",
      "trans_id=459271383, trans_date=2020-05-01 06:43:17, card_num=56764658867262380180, oper_type=Пополнение, amt=39713.95, oper_result=Отказ, terminal=ATM93692\n",
      "trans_id=459271384, trans_date=2020-05-01 06:46:16, card_num=42297631882269859086, oper_type=Оплата, amt=27572.12, oper_result=Успешно, terminal=POS28311\n",
      "trans_id=459271385, trans_date=2020-05-01 06:47:09, card_num=55514606469217413264, oper_type=Пополнение, amt=48402.73, oper_result=Успешно, terminal=POS41732\n",
      "trans_id=459271386, trans_date=2020-05-01 06:48:38, card_num=59662340561299233982, oper_type=Пополнение, amt=70341.89, oper_result=Отказ, terminal=ATM82015\n",
      "trans_id=459271387, trans_date=2020-05-01 06:49:27, card_num=43234094302783519733, oper_type=Снятие, amt=51168.23, oper_result=Успешно, terminal=POS82543\n",
      "trans_id=459271388, trans_date=2020-05-01 06:50:06, card_num=53936874637054954161, oper_type=Оплата, amt=13225.32, oper_result=Отказ, terminal=POS91355\n",
      "trans_id=459271389, trans_date=2020-05-01 06:51:10, card_num=51503901692679664294, oper_type=Оплата, amt=36264.49, oper_result=Успешно, terminal=ATM72885\n",
      "trans_id=459271390, trans_date=2020-05-01 06:51:59, card_num=45635069278380774068, oper_type=Снятие, amt=84404.95, oper_result=Успешно, terminal=POS43792\n",
      "trans_id=459271391, trans_date=2020-05-01 06:52:41, card_num=58784142952576975951, oper_type=Снятие, amt=40486.98, oper_result=Успешно, terminal=ATM29949\n",
      "trans_id=459271392, trans_date=2020-05-01 06:53:29, card_num=54223118209655834774, oper_type=Оплата, amt=78298.48, oper_result=Успешно, terminal=POS59542\n",
      "trans_id=459271393, trans_date=2020-05-01 06:55:35, card_num=43400405084036013367, oper_type=Пополнение, amt=24997.23, oper_result=Успешно, terminal=POS48933\n",
      "trans_id=459271394, trans_date=2020-05-01 06:56:15, card_num=53163834178092769354, oper_type=Пополнение, amt=53764.09, oper_result=Успешно, terminal=ATM95603\n",
      "trans_id=459271395, trans_date=2020-05-01 06:58:09, card_num=43856526908749707693, oper_type=Оплата, amt=90642.58, oper_result=Успешно, terminal=ATM63726\n",
      "trans_id=459271396, trans_date=2020-05-01 07:00:08, card_num=46511983894536715484, oper_type=Пополнение, amt=33468.46, oper_result=Успешно, terminal=POS16910\n",
      "trans_id=459271397, trans_date=2020-05-01 07:01:50, card_num=59800583351898176445, oper_type=Пополнение, amt=16660.2, oper_result=Успешно, terminal=POS76241\n",
      "trans_id=459271398, trans_date=2020-05-01 07:03:27, card_num=43806286697949628896, oper_type=Оплата, amt=87263.93, oper_result=Успешно, terminal=ATM88065\n",
      "trans_id=459271399, trans_date=2020-05-01 07:04:18, card_num=43771691447379202173, oper_type=Пополнение, amt=73227.92, oper_result=Успешно, terminal=ATM89221\n",
      "trans_id=459271400, trans_date=2020-05-01 07:05:57, card_num=58209370203792217401, oper_type=Снятие, amt=3219.83, oper_result=Отказ, terminal=POS20630\n",
      "trans_id=459271401, trans_date=2020-05-01 07:08:02, card_num=51929363624368103622, oper_type=Оплата, amt=96709.33, oper_result=Отказ, terminal=ATM94002\n",
      "trans_id=459271402, trans_date=2020-05-01 07:09:42, card_num=53181647395924017272, oper_type=Снятие, amt=51751.54, oper_result=Успешно, terminal=ATM98530\n",
      "trans_id=459271403, trans_date=2020-05-01 07:12:08, card_num=55952003981231429927, oper_type=Пополнение, amt=41020.76, oper_result=Успешно, terminal=POS85298\n",
      "trans_id=459271404, trans_date=2020-05-01 07:14:45, card_num=44560487856220031823, oper_type=Пополнение, amt=13585.74, oper_result=Успешно, terminal=POS60036\n",
      "trans_id=459271405, trans_date=2020-05-01 07:15:43, card_num=57969088921851099379, oper_type=Пополнение, amt=46889.01, oper_result=Отказ, terminal=ATM90761\n",
      "trans_id=459271406, trans_date=2020-05-01 07:17:20, card_num=51441662534987149885, oper_type=Пополнение, amt=19555.57, oper_result=Успешно, terminal=POS76281\n",
      "trans_id=459271407, trans_date=2020-05-01 07:18:20, card_num=41059096222603313899, oper_type=Пополнение, amt=43684.42, oper_result=Успешно, terminal=ATM82416\n",
      "trans_id=459271408, trans_date=2020-05-01 07:20:05, card_num=54212240286171252204, oper_type=Пополнение, amt=43319.87, oper_result=Успешно, terminal=POS65199\n",
      "trans_id=459271409, trans_date=2020-05-01 07:22:40, card_num=55304030763800301768, oper_type=Пополнение, amt=87074.74, oper_result=Успешно, terminal=ATM72885\n",
      "trans_id=459271410, trans_date=2020-05-01 07:23:27, card_num=55048182549999499391, oper_type=Снятие, amt=29975.31, oper_result=Успешно, terminal=POS13190\n",
      "trans_id=459271411, trans_date=2020-05-01 07:25:09, card_num=52133179253408410262, oper_type=Оплата, amt=33024.1, oper_result=Успешно, terminal=POS67659\n",
      "trans_id=459271412, trans_date=2020-05-01 07:27:45, card_num=53388275548600861538, oper_type=Оплата, amt=35856.64, oper_result=Отказ, terminal=POS35099\n",
      "trans_id=459271413, trans_date=2020-05-01 07:29:49, card_num=56880903338294703608, oper_type=Пополнение, amt=5114.96, oper_result=Успешно, terminal=POS60036\n",
      "trans_id=459271414, trans_date=2020-05-01 07:31:46, card_num=57693310254902074337, oper_type=Оплата, amt=58190.54, oper_result=Успешно, terminal=ATM84286\n",
      "trans_id=459271415, trans_date=2020-05-01 07:33:55, card_num=42476455964882410882, oper_type=Пополнение, amt=93660.6, oper_result=Успешно, terminal=ATM90761\n",
      "trans_id=459271416, trans_date=2020-05-01 07:36:02, card_num=54185955609831765396, oper_type=Оплата, amt=40659.2, oper_result=Успешно, terminal=ATM27913\n",
      "trans_id=459271417, trans_date=2020-05-01 07:38:26, card_num=48892664507632095475, oper_type=Оплата, amt=63320.21, oper_result=Отказ, terminal=POS55762\n",
      "trans_id=459271418, trans_date=2020-05-01 07:40:07, card_num=47670153402315779484, oper_type=Снятие, amt=63827.4, oper_result=Успешно, terminal=POS31141\n",
      "trans_id=459271419, trans_date=2020-05-01 07:40:49, card_num=58850931684291972642, oper_type=Оплата, amt=45898.58, oper_result=Успешно, terminal=POS63386\n",
      "trans_id=459271420, trans_date=2020-05-01 07:42:54, card_num=47269642029161285333, oper_type=Оплата, amt=34180.94, oper_result=Успешно, terminal=ATM19940\n",
      "trans_id=459271421, trans_date=2020-05-01 07:44:29, card_num=54422770758228700199, oper_type=Оплата, amt=77762.96, oper_result=Успешно, terminal=POS33945\n",
      "trans_id=459271422, trans_date=2020-05-01 07:46:15, card_num=42275288614502719679, oper_type=Снятие, amt=76978.98, oper_result=Успешно, terminal=ATM61912\n",
      "trans_id=459271423, trans_date=2020-05-01 07:48:36, card_num=42116266423370027644, oper_type=Пополнение, amt=60572.03, oper_result=Отказ, terminal=POS73362\n",
      "trans_id=459271424, trans_date=2020-05-01 07:49:13, card_num=56311091575218275361, oper_type=Пополнение, amt=64665.47, oper_result=Успешно, terminal=POS55762\n",
      "trans_id=459271425, trans_date=2020-05-01 07:49:47, card_num=53383505018710851178, oper_type=Оплата, amt=7630.41, oper_result=Отказ, terminal=POS66772\n",
      "trans_id=459271426, trans_date=2020-05-01 07:51:44, card_num=58653859193504298560, oper_type=Снятие, amt=66148.23, oper_result=Успешно, terminal=POS73362\n",
      "trans_id=459271427, trans_date=2020-05-01 07:54:38, card_num=52729201123513894791, oper_type=Оплата, amt=88563.76, oper_result=Отказ, terminal=ATM75799\n",
      "trans_id=459271428, trans_date=2020-05-01 07:57:15, card_num=51783708125174503209, oper_type=Снятие, amt=84564.16, oper_result=Отказ, terminal=POS20630\n",
      "trans_id=459271429, trans_date=2020-05-01 07:57:59, card_num=53610503186085127387, oper_type=Пополнение, amt=37551.62, oper_result=Успешно, terminal=ATM17215\n",
      "trans_id=459271430, trans_date=2020-05-01 07:59:43, card_num=43450470725013257936, oper_type=Снятие, amt=64622.3, oper_result=Успешно, terminal=POS20630\n",
      "trans_id=459271431, trans_date=2020-05-01 08:01:36, card_num=54275866843006514606, oper_type=Оплата, amt=18562.83, oper_result=Успешно, terminal=POS94350\n",
      "trans_id=459271432, trans_date=2020-05-01 08:03:00, card_num=54407068506894166880, oper_type=Оплата, amt=78513.31, oper_result=Успешно, terminal=ATM94002\n",
      "trans_id=459271433, trans_date=2020-05-01 08:03:48, card_num=56021893601015601055, oper_type=Оплата, amt=29879.8, oper_result=Успешно, terminal=ATM54168\n",
      "trans_id=459271434, trans_date=2020-05-01 08:04:24, card_num=43716005186963391195, oper_type=Пополнение, amt=89405.83, oper_result=Успешно, terminal=ATM88065\n",
      "trans_id=459271435, trans_date=2020-05-01 08:06:29, card_num=44111847637379890551, oper_type=Снятие, amt=57058.17, oper_result=Отказ, terminal=ATM29949\n",
      "trans_id=459271436, trans_date=2020-05-01 08:09:20, card_num=59526799459277893518, oper_type=Оплата, amt=6484.36, oper_result=Успешно, terminal=ATM61912\n",
      "trans_id=459271437, trans_date=2020-05-01 08:11:54, card_num=42539035717880519682, oper_type=Оплата, amt=40877.92, oper_result=Успешно, terminal=ATM42463\n",
      "trans_id=459271438, trans_date=2020-05-01 08:12:56, card_num=52077443563348938670, oper_type=Пополнение, amt=40701.48, oper_result=Успешно, terminal=ATM19940\n",
      "trans_id=459271439, trans_date=2020-05-01 08:14:06, card_num=46179674748388597392, oper_type=Снятие, amt=74170.54, oper_result=Успешно, terminal=POS37441\n",
      "trans_id=459271440, trans_date=2020-05-01 08:16:57, card_num=54423294184480893041, oper_type=Пополнение, amt=64212.22, oper_result=Успешно, terminal=ATM94006\n",
      "trans_id=459271441, trans_date=2020-05-01 08:18:57, card_num=48993824085894920238, oper_type=Оплата, amt=46024.87, oper_result=Успешно, terminal=POS82543\n",
      "trans_id=459271442, trans_date=2020-05-01 08:21:05, card_num=48521007079890721902, oper_type=Пополнение, amt=8605.86, oper_result=Отказ, terminal=POS76281\n",
      "trans_id=459271443, trans_date=2020-05-01 08:22:31, card_num=49430720137797845598, oper_type=Оплата, amt=93146.92, oper_result=Успешно, terminal=POS11310\n",
      "trans_id=459271444, trans_date=2020-05-01 08:25:09, card_num=42912592182838590729, oper_type=Оплата, amt=6891.35, oper_result=Отказ, terminal=ATM88065\n",
      "trans_id=459271445, trans_date=2020-05-01 08:27:59, card_num=55983132804547935094, oper_type=Оплата, amt=84353.12, oper_result=Отказ, terminal=POS85298\n",
      "trans_id=459271446, trans_date=2020-05-01 08:30:27, card_num=56957340413043271770, oper_type=Пополнение, amt=41220.5, oper_result=Успешно, terminal=ATM94006\n",
      "trans_id=459271447, trans_date=2020-05-01 08:32:33, card_num=54590137153693323458, oper_type=Снятие, amt=56288.03, oper_result=Успешно, terminal=POS70407\n",
      "trans_id=459271448, trans_date=2020-05-01 08:35:08, card_num=42997557587720762824, oper_type=Пополнение, amt=89030.51, oper_result=Успешно, terminal=ATM82416\n",
      "trans_id=459271449, trans_date=2020-05-01 08:37:21, card_num=59770295469717911624, oper_type=Оплата, amt=14708.54, oper_result=Отказ, terminal=ATM21750\n",
      "trans_id=459271450, trans_date=2020-05-01 08:40:01, card_num=47174825439832798831, oper_type=Оплата, amt=51001.11, oper_result=Отказ, terminal=POS43792\n",
      "trans_id=459271451, trans_date=2020-05-01 08:41:51, card_num=43348859719343075388, oper_type=Оплата, amt=91818.65, oper_result=Отказ, terminal=POS60036\n",
      "trans_id=459271452, trans_date=2020-05-01 08:42:24, card_num=59583584282730982284, oper_type=Снятие, amt=78589.6, oper_result=Успешно, terminal=ATM69537\n",
      "trans_id=459271453, trans_date=2020-05-01 08:45:23, card_num=48711249119931467956, oper_type=Снятие, amt=22095.67, oper_result=Успешно, terminal=ATM40216\n",
      "trans_id=459271454, trans_date=2020-05-01 08:48:03, card_num=58813695956753336343, oper_type=Пополнение, amt=48658.91, oper_result=Успешно, terminal=POS66772\n",
      "trans_id=459271455, trans_date=2020-05-01 08:50:54, card_num=49016063571833310433, oper_type=Снятие, amt=66193.27, oper_result=Успешно, terminal=POS27110\n",
      "trans_id=459271456, trans_date=2020-05-01 08:52:19, card_num=41103229149058791448, oper_type=Оплата, amt=68916.28, oper_result=Успешно, terminal=POS73362\n",
      "trans_id=459271457, trans_date=2020-05-01 08:52:54, card_num=44437693855950413819, oper_type=Пополнение, amt=92060.71, oper_result=Успешно, terminal=ATM98530\n",
      "trans_id=459271458, trans_date=2020-05-01 08:55:45, card_num=51563987979431153975, oper_type=Пополнение, amt=23889.91, oper_result=Отказ, terminal=ATM48311\n",
      "trans_id=459271459, trans_date=2020-05-01 08:58:25, card_num=49413300659119569909, oper_type=Оплата, amt=82718.85, oper_result=Успешно, terminal=POS11310\n",
      "trans_id=459271460, trans_date=2020-05-01 08:59:05, card_num=53675277198708320902, oper_type=Оплата, amt=93146.47, oper_result=Успешно, terminal=POS20630\n",
      "trans_id=459271461, trans_date=2020-05-01 09:01:10, card_num=49528595406873903224, oper_type=Пополнение, amt=72732.2, oper_result=Отказ, terminal=POS45875\n",
      "trans_id=459271462, trans_date=2020-05-01 09:02:42, card_num=59161712986426259760, oper_type=Снятие, amt=64150.57, oper_result=Успешно, terminal=ATM39718\n",
      "trans_id=459271463, trans_date=2020-05-01 09:05:18, card_num=45398642535895103236, oper_type=Оплата, amt=65308.87, oper_result=Успешно, terminal=ATM80373\n",
      "trans_id=459271464, trans_date=2020-05-01 09:05:48, card_num=51288019503147646125, oper_type=Снятие, amt=11963.15, oper_result=Отказ, terminal=POS75616\n",
      "trans_id=459271465, trans_date=2020-05-01 09:07:47, card_num=52143356029579430492, oper_type=Оплата, amt=50473.91, oper_result=Успешно, terminal=POS26342\n",
      "trans_id=459271466, trans_date=2020-05-01 09:10:27, card_num=46812537213587127465, oper_type=Снятие, amt=31884.66, oper_result=Успешно, terminal=ATM90761\n",
      "trans_id=459271467, trans_date=2020-05-01 09:12:16, card_num=43556343298317807553, oper_type=Снятие, amt=92722.6, oper_result=Отказ, terminal=POS37441\n",
      "trans_id=459271468, trans_date=2020-05-01 09:13:29, card_num=46126702429198495624, oper_type=Снятие, amt=98463.49, oper_result=Отказ, terminal=ATM56696\n",
      "trans_id=459271469, trans_date=2020-05-01 09:16:29, card_num=43900298399912693944, oper_type=Пополнение, amt=9643.8, oper_result=Отказ, terminal=POS60871\n",
      "trans_id=459271470, trans_date=2020-05-01 09:17:29, card_num=53445433548820636964, oper_type=Пополнение, amt=72012.8, oper_result=Успешно, terminal=POS45568\n",
      "trans_id=459271471, trans_date=2020-05-01 09:19:23, card_num=59526799459277893518, oper_type=Снятие, amt=51985.4, oper_result=Успешно, terminal=ATM69537\n",
      "повторная карта 59526799459277893518\n",
      "trans_id=459271472, trans_date=2020-05-01 09:20:04, card_num=59013329772997435516, oper_type=Пополнение, amt=26609.02, oper_result=Отказ, terminal=POS66772\n",
      "trans_id=459271473, trans_date=2020-05-01 09:20:43, card_num=52755216328784302682, oper_type=Снятие, amt=22976.2, oper_result=Отказ, terminal=POS25442\n",
      "trans_id=459271474, trans_date=2020-05-01 09:23:35, card_num=53927435902229955224, oper_type=Оплата, amt=65172.4, oper_result=Успешно, terminal=POS70407\n",
      "trans_id=459271475, trans_date=2020-05-01 09:25:13, card_num=53947360644834838155, oper_type=Снятие, amt=6148.4, oper_result=Успешно, terminal=POS55335\n",
      "trans_id=459271476, trans_date=2020-05-01 09:28:06, card_num=43886874726831764747, oper_type=Оплата, amt=36016.4, oper_result=Успешно, terminal=ATM93692\n",
      "trans_id=459271477, trans_date=2020-05-01 09:29:49, card_num=59496909736529698033, oper_type=Оплата, amt=14141.64, oper_result=Успешно, terminal=ATM88065\n",
      "trans_id=459271478, trans_date=2020-05-01 09:31:37, card_num=59496245193624767619, oper_type=Оплата, amt=70700.95, oper_result=Успешно, terminal=POS85298\n",
      "trans_id=459271479, trans_date=2020-05-01 09:33:35, card_num=58052437254133919522, oper_type=Пополнение, amt=94800.51, oper_result=Успешно, terminal=ATM39555\n",
      "trans_id=459271480, trans_date=2020-05-01 09:34:06, card_num=57017518967143434285, oper_type=Снятие, amt=67305.92, oper_result=Успешно, terminal=ATM82015\n",
      "trans_id=459271481, trans_date=2020-05-01 09:34:59, card_num=55839143875004528311, oper_type=Оплата, amt=61474.19, oper_result=Отказ, terminal=ATM94006\n",
      "trans_id=459271482, trans_date=2020-05-01 09:37:34, card_num=47622792373967367164, oper_type=Оплата, amt=75552.09, oper_result=Успешно, terminal=POS63386\n",
      "trans_id=459271483, trans_date=2020-05-01 09:39:19, card_num=53320564448502330122, oper_type=Снятие, amt=21997.42, oper_result=Отказ, terminal=POS93205\n",
      "trans_id=459271484, trans_date=2020-05-01 09:39:54, card_num=43723326532962812561, oper_type=Снятие, amt=61802.9, oper_result=Успешно, terminal=ATM87646\n",
      "trans_id=459271485, trans_date=2020-05-01 09:41:32, card_num=55606030321378683759, oper_type=Оплата, amt=2427.82, oper_result=Успешно, terminal=POS55335\n",
      "trans_id=459271486, trans_date=2020-05-01 09:42:36, card_num=56715752296700345948, oper_type=Снятие, amt=45947.05, oper_result=Успешно, terminal=POS76281\n",
      "trans_id=459271487, trans_date=2020-05-01 09:43:37, card_num=51571948123625174024, oper_type=Пополнение, amt=79347.26, oper_result=Успешно, terminal=ATM61912\n",
      "trans_id=459271488, trans_date=2020-05-01 09:46:19, card_num=59656440873841289528, oper_type=Снятие, amt=25223.04, oper_result=Успешно, terminal=ATM93692\n",
      "trans_id=459271489, trans_date=2020-05-01 09:48:35, card_num=57323003181625714208, oper_type=Пополнение, amt=24158.9, oper_result=Успешно, terminal=POS20393\n",
      "trans_id=459271490, trans_date=2020-05-01 09:49:57, card_num=49412185365340304161, oper_type=Оплата, amt=57899.76, oper_result=Успешно, terminal=POS76281\n",
      "trans_id=459271491, trans_date=2020-05-01 09:51:37, card_num=53496138602907440798, oper_type=Снятие, amt=98867.92, oper_result=Отказ, terminal=POS67659\n",
      "trans_id=459271492, trans_date=2020-05-01 09:53:34, card_num=52303100539911852470, oper_type=Оплата, amt=89556.35, oper_result=Успешно, terminal=POS76281\n",
      "trans_id=459271493, trans_date=2020-05-01 09:54:11, card_num=44805094397780733386, oper_type=Пополнение, amt=99563.02, oper_result=Отказ, terminal=POS75616\n",
      "trans_id=459271494, trans_date=2020-05-01 09:56:51, card_num=53206691949333219967, oper_type=Оплата, amt=40445.47, oper_result=Успешно, terminal=POS26573\n",
      "trans_id=459271495, trans_date=2020-05-01 09:59:23, card_num=48313568042566885345, oper_type=Снятие, amt=75058.2, oper_result=Успешно, terminal=POS71096\n",
      "trans_id=459271496, trans_date=2020-05-01 10:02:22, card_num=52027565735489701507, oper_type=Оплата, amt=49804.16, oper_result=Успешно, terminal=ATM26332\n",
      "trans_id=459271497, trans_date=2020-05-01 10:03:03, card_num=54564160051217272105, oper_type=Снятие, amt=77151.08, oper_result=Успешно, terminal=POS76241\n",
      "trans_id=459271498, trans_date=2020-05-01 10:05:34, card_num=57454819082319460942, oper_type=Оплата, amt=13010.15, oper_result=Отказ, terminal=ATM40216\n",
      "trans_id=459271499, trans_date=2020-05-01 10:06:23, card_num=41907128284657348244, oper_type=Снятие, amt=78028.31, oper_result=Успешно, terminal=ATM41209\n",
      "trans_id=459271500, trans_date=2020-05-01 10:08:59, card_num=48117545288657027056, oper_type=Оплата, amt=94315.23, oper_result=Успешно, terminal=POS60871\n",
      "trans_id=459271501, trans_date=2020-05-01 10:11:57, card_num=46197003414992380916, oper_type=Оплата, amt=24718.14, oper_result=Успешно, terminal=POS13190\n",
      "trans_id=459271502, trans_date=2020-05-01 10:12:33, card_num=47055740891305161625, oper_type=Пополнение, amt=15976.0, oper_result=Успешно, terminal=ATM42887\n",
      "trans_id=459271503, trans_date=2020-05-01 10:15:02, card_num=44907257662599719047, oper_type=Снятие, amt=27237.83, oper_result=Успешно, terminal=ATM39718\n",
      "повторная карта 44907257662599719047\n",
      "trans_id=459271504, trans_date=2020-05-01 10:15:39, card_num=52723730841183212274, oper_type=Оплата, amt=181.3, oper_result=Отказ, terminal=POS33945\n",
      "trans_id=459271505, trans_date=2020-05-01 10:17:17, card_num=49800342041128853795, oper_type=Снятие, amt=76418.95, oper_result=Успешно, terminal=ATM94002\n",
      "trans_id=459271506, trans_date=2020-05-01 10:20:01, card_num=52972952661383187041, oper_type=Оплата, amt=20919.12, oper_result=Успешно, terminal=ATM72885\n",
      "trans_id=459271507, trans_date=2020-05-01 10:22:54, card_num=44726438354473110108, oper_type=Снятие, amt=54478.17, oper_result=Успешно, terminal=ATM41209\n",
      "trans_id=459271508, trans_date=2020-05-01 10:24:51, card_num=59543629807536849739, oper_type=Снятие, amt=95138.25, oper_result=Успешно, terminal=ATM41209\n",
      "trans_id=459271509, trans_date=2020-05-01 10:26:42, card_num=45774990613622166494, oper_type=Пополнение, amt=49635.31, oper_result=Успешно, terminal=ATM62930\n",
      "trans_id=459271510, trans_date=2020-05-01 10:27:56, card_num=55022637888424658469, oper_type=Оплата, amt=76248.53, oper_result=Успешно, terminal=ATM40216\n",
      "trans_id=459271511, trans_date=2020-05-01 10:29:57, card_num=54004169903706599671, oper_type=Пополнение, amt=58335.99, oper_result=Успешно, terminal=POS94907\n",
      "trans_id=459271512, trans_date=2020-05-01 10:31:24, card_num=52365537226718800367, oper_type=Оплата, amt=55555.99, oper_result=Отказ, terminal=ATM91784\n",
      "повторная карта 52365537226718800367\n",
      "trans_id=459271513, trans_date=2020-05-01 10:33:39, card_num=48154383532866938162, oper_type=Пополнение, amt=58357.42, oper_result=Успешно, terminal=ATM82416\n",
      "trans_id=459271514, trans_date=2020-05-01 10:36:29, card_num=58826100426577982955, oper_type=Пополнение, amt=35588.15, oper_result=Отказ, terminal=ATM95603\n",
      "trans_id=459271515, trans_date=2020-05-01 10:38:22, card_num=42262406394989698311, oper_type=Оплата, amt=75890.14, oper_result=Отказ, terminal=POS41732\n",
      "trans_id=459271516, trans_date=2020-05-01 10:41:20, card_num=42248178296892558288, oper_type=Снятие, amt=98863.65, oper_result=Успешно, terminal=ATM91784\n",
      "trans_id=459271517, trans_date=2020-05-01 10:43:26, card_num=58071767927557616936, oper_type=Пополнение, amt=84388.37, oper_result=Успешно, terminal=POS66216\n",
      "trans_id=459271518, trans_date=2020-05-01 10:45:50, card_num=52673516746077916949, oper_type=Снятие, amt=95548.28, oper_result=Успешно, terminal=POS98042\n",
      "trans_id=459271519, trans_date=2020-05-01 10:47:25, card_num=47580902891940076218, oper_type=Оплата, amt=8213.34, oper_result=Успешно, terminal=ATM21750\n",
      "trans_id=459271520, trans_date=2020-05-01 10:48:51, card_num=45582452539000607130, oper_type=Снятие, amt=97812.15, oper_result=Успешно, terminal=POS85234\n",
      "trans_id=459271521, trans_date=2020-05-01 10:50:26, card_num=59782252802268287278, oper_type=Оплата, amt=31250.7, oper_result=Успешно, terminal=ATM16730\n",
      "trans_id=459271522, trans_date=2020-05-01 10:51:12, card_num=48164977133320936284, oper_type=Оплата, amt=98412.62, oper_result=Успешно, terminal=ATM88065\n",
      "trans_id=459271523, trans_date=2020-05-01 10:52:20, card_num=56252696684984549995, oper_type=Снятие, amt=43319.26, oper_result=Отказ, terminal=ATM89221\n",
      "trans_id=459271524, trans_date=2020-05-01 10:54:57, card_num=52994336543132232102, oper_type=Оплата, amt=14833.72, oper_result=Отказ, terminal=ATM48088\n",
      "trans_id=459271525, trans_date=2020-05-01 10:57:11, card_num=55117601276842307669, oper_type=Снятие, amt=30932.2, oper_result=Успешно, terminal=ATM11901\n",
      "trans_id=459271526, trans_date=2020-05-01 10:59:21, card_num=43870183729865788114, oper_type=Снятие, amt=36639.45, oper_result=Отказ, terminal=ATM41209\n",
      "trans_id=459271527, trans_date=2020-05-01 11:01:44, card_num=48532442687600752651, oper_type=Оплата, amt=21689.15, oper_result=Отказ, terminal=POS70407\n",
      "trans_id=459271528, trans_date=2020-05-01 11:03:58, card_num=41813710282829921238, oper_type=Пополнение, amt=43009.73, oper_result=Успешно, terminal=POS75616\n",
      "trans_id=459271529, trans_date=2020-05-01 11:06:48, card_num=51320557036867209811, oper_type=Снятие, amt=18816.5, oper_result=Отказ, terminal=ATM48088\n",
      "trans_id=459271530, trans_date=2020-05-01 11:08:39, card_num=53285640829804176622, oper_type=Снятие, amt=50985.37, oper_result=Отказ, terminal=ATM54168\n",
      "trans_id=459271531, trans_date=2020-05-01 11:09:16, card_num=41390037068690866708, oper_type=Пополнение, amt=46781.22, oper_result=Успешно, terminal=ATM80373\n",
      "trans_id=459271532, trans_date=2020-05-01 11:11:13, card_num=52427032562864072815, oper_type=Снятие, amt=48250.28, oper_result=Успешно, terminal=POS41732\n",
      "trans_id=459271533, trans_date=2020-05-01 11:13:05, card_num=54357884634898291980, oper_type=Оплата, amt=46742.25, oper_result=Успешно, terminal=POS37441\n",
      "trans_id=459271534, trans_date=2020-05-01 11:13:44, card_num=47234804997222809765, oper_type=Пополнение, amt=24201.55, oper_result=Отказ, terminal=POS65199\n",
      "trans_id=459271535, trans_date=2020-05-01 11:15:14, card_num=41523695016552267498, oper_type=Снятие, amt=40246.26, oper_result=Успешно, terminal=POS53745\n",
      "trans_id=459271536, trans_date=2020-05-01 11:15:55, card_num=47684911061262980464, oper_type=Снятие, amt=52870.23, oper_result=Отказ, terminal=POS89498\n",
      "trans_id=459271537, trans_date=2020-05-01 11:16:36, card_num=54686264343023369825, oper_type=Оплата, amt=85044.86, oper_result=Успешно, terminal=POS73362\n",
      "trans_id=459271538, trans_date=2020-05-01 11:17:25, card_num=54772564995678073251, oper_type=Оплата, amt=93485.02, oper_result=Успешно, terminal=POS11310\n",
      "trans_id=459271539, trans_date=2020-05-01 11:18:05, card_num=51480011501247008287, oper_type=Оплата, amt=35160.86, oper_result=Отказ, terminal=ATM87646\n",
      "trans_id=459271540, trans_date=2020-05-01 11:19:14, card_num=42709569502892864324, oper_type=Оплата, amt=84834.7, oper_result=Успешно, terminal=POS66062\n",
      "trans_id=459271541, trans_date=2020-05-01 11:20:33, card_num=42292599635243793980, oper_type=Снятие, amt=83902.37, oper_result=Успешно, terminal=ATM29949\n",
      "trans_id=459271542, trans_date=2020-05-01 11:22:54, card_num=43635473643390841832, oper_type=Снятие, amt=97661.89, oper_result=Успешно, terminal=ATM88406\n",
      "trans_id=459271543, trans_date=2020-05-01 11:24:12, card_num=58235449787979135237, oper_type=Пополнение, amt=39030.94, oper_result=Отказ, terminal=POS64475\n",
      "trans_id=459271544, trans_date=2020-05-01 11:25:49, card_num=44700367509489867743, oper_type=Пополнение, amt=66440.01, oper_result=Отказ, terminal=POS57136\n",
      "trans_id=459271545, trans_date=2020-05-01 11:27:24, card_num=54369092512558193072, oper_type=Оплата, amt=52184.98, oper_result=Отказ, terminal=POS33945\n",
      "trans_id=459271546, trans_date=2020-05-01 11:30:19, card_num=59473778313673073626, oper_type=Пополнение, amt=28856.97, oper_result=Успешно, terminal=POS66216\n",
      "trans_id=459271547, trans_date=2020-05-01 11:32:10, card_num=45042898281443991625, oper_type=Пополнение, amt=88924.34, oper_result=Успешно, terminal=POS76281\n",
      "trans_id=459271548, trans_date=2020-05-01 11:35:05, card_num=42396595186024374031, oper_type=Оплата, amt=90497.51, oper_result=Успешно, terminal=ATM95603\n",
      "trans_id=459271549, trans_date=2020-05-01 11:36:33, card_num=55896969315211641733, oper_type=Оплата, amt=43685.71, oper_result=Успешно, terminal=POS70407\n",
      "trans_id=459271550, trans_date=2020-05-01 11:38:22, card_num=52748805544580219456, oper_type=Пополнение, amt=70352.46, oper_result=Успешно, terminal=POS37441\n",
      "trans_id=459271551, trans_date=2020-05-01 11:40:18, card_num=49217457497256422439, oper_type=Пополнение, amt=82413.24, oper_result=Успешно, terminal=POS26342\n",
      "trans_id=459271552, trans_date=2020-05-01 11:42:40, card_num=41129681598593390215, oper_type=Пополнение, amt=72992.53, oper_result=Успешно, terminal=ATM21750\n",
      "trans_id=459271553, trans_date=2020-05-01 11:44:50, card_num=43257215347345387005, oper_type=Пополнение, amt=23713.33, oper_result=Успешно, terminal=POS76281\n",
      "trans_id=459271554, trans_date=2020-05-01 11:46:30, card_num=51620640756844394795, oper_type=Оплата, amt=81909.76, oper_result=Отказ, terminal=POS31141\n",
      "trans_id=459271555, trans_date=2020-05-01 11:48:27, card_num=54686264343023369825, oper_type=Снятие, amt=47673.18, oper_result=Успешно, terminal=ATM94002\n",
      "повторная карта 54686264343023369825\n",
      "trans_id=459271556, trans_date=2020-05-01 11:49:34, card_num=48666356887870377186, oper_type=Снятие, amt=47471.46, oper_result=Успешно, terminal=ATM88406\n",
      "trans_id=459271557, trans_date=2020-05-01 11:50:59, card_num=54628282177813973353, oper_type=Оплата, amt=52817.94, oper_result=Успешно, terminal=POS85298\n",
      "trans_id=459271558, trans_date=2020-05-01 11:51:43, card_num=41010294678692251578, oper_type=Оплата, amt=28397.59, oper_result=Успешно, terminal=ATM19940\n",
      "trans_id=459271559, trans_date=2020-05-01 11:54:31, card_num=55045310597957107403, oper_type=Пополнение, amt=32951.04, oper_result=Успешно, terminal=ATM16730\n",
      "trans_id=459271560, trans_date=2020-05-01 11:57:02, card_num=45473821128386466168, oper_type=Снятие, amt=12398.13, oper_result=Успешно, terminal=POS82543\n",
      "trans_id=459271561, trans_date=2020-05-01 11:59:52, card_num=44344743277790432718, oper_type=Оплата, amt=89227.52, oper_result=Успешно, terminal=POS66216\n",
      "trans_id=459271562, trans_date=2020-05-01 12:01:11, card_num=59812811138022612069, oper_type=Пополнение, amt=66410.87, oper_result=Успешно, terminal=POS27110\n",
      "trans_id=459271563, trans_date=2020-05-01 12:03:35, card_num=43100586305811088650, oper_type=Пополнение, amt=56795.09, oper_result=Отказ, terminal=ATM80373\n",
      "trans_id=459271564, trans_date=2020-05-01 12:04:25, card_num=57638305474403589008, oper_type=Оплата, amt=27001.78, oper_result=Успешно, terminal=POS41732\n",
      "trans_id=459271565, trans_date=2020-05-01 12:05:05, card_num=43388428029307412361, oper_type=Пополнение, amt=68251.07, oper_result=Успешно, terminal=ATM94006\n",
      "trans_id=459271566, trans_date=2020-05-01 12:06:41, card_num=56022774652169393106, oper_type=Снятие, amt=7311.67, oper_result=Отказ, terminal=ATM75799\n",
      "trans_id=459271567, trans_date=2020-05-01 12:08:46, card_num=59746320898087815215, oper_type=Пополнение, amt=51985.46, oper_result=Успешно, terminal=ATM29949\n",
      "trans_id=459271568, trans_date=2020-05-01 12:10:31, card_num=58472463206926072516, oper_type=Оплата, amt=90416.83, oper_result=Успешно, terminal=POS48933\n",
      "trans_id=459271569, trans_date=2020-05-01 12:12:39, card_num=58864129629735017523, oper_type=Оплата, amt=33560.1, oper_result=Успешно, terminal=ATM56696\n",
      "trans_id=459271570, trans_date=2020-05-01 12:14:17, card_num=44392621689028890198, oper_type=Пополнение, amt=27098.93, oper_result=Успешно, terminal=POS31141\n",
      "trans_id=459271571, trans_date=2020-05-01 12:17:01, card_num=55595484893721150800, oper_type=Пополнение, amt=24438.78, oper_result=Успешно, terminal=POS66216\n",
      "trans_id=459271572, trans_date=2020-05-01 12:19:48, card_num=43214813485540156030, oper_type=Снятие, amt=15999.06, oper_result=Успешно, terminal=POS91355\n",
      "trans_id=459271573, trans_date=2020-05-01 12:21:32, card_num=59239386691198496562, oper_type=Снятие, amt=17551.18, oper_result=Успешно, terminal=ATM82015\n",
      "повторная карта 59239386691198496562\n",
      "trans_id=459271574, trans_date=2020-05-01 12:22:49, card_num=58051432648367026578, oper_type=Снятие, amt=19242.02, oper_result=Успешно, terminal=ATM41625\n",
      "trans_id=459271575, trans_date=2020-05-01 12:24:38, card_num=45790033194751098585, oper_type=Оплата, amt=26032.76, oper_result=Успешно, terminal=POS94907\n",
      "trans_id=459271576, trans_date=2020-05-01 12:25:36, card_num=59004212417880330795, oper_type=Снятие, amt=91555.24, oper_result=Успешно, terminal=POS66216\n",
      "trans_id=459271577, trans_date=2020-05-01 12:27:04, card_num=52025330762068260460, oper_type=Оплата, amt=88983.6, oper_result=Успешно, terminal=ATM42887\n",
      "trans_id=459271578, trans_date=2020-05-01 12:28:53, card_num=49370993437972314870, oper_type=Снятие, amt=92183.05, oper_result=Отказ, terminal=POS33945\n",
      "trans_id=459271579, trans_date=2020-05-01 12:30:01, card_num=57624010743159840768, oper_type=Снятие, amt=21201.42, oper_result=Успешно, terminal=ATM54985\n",
      "trans_id=459271580, trans_date=2020-05-01 12:31:13, card_num=46575984504005593207, oper_type=Пополнение, amt=71436.96, oper_result=Успешно, terminal=POS60871\n",
      "trans_id=459271581, trans_date=2020-05-01 12:32:28, card_num=59338280554361346330, oper_type=Оплата, amt=14967.91, oper_result=Успешно, terminal=ATM88406\n",
      "trans_id=459271582, trans_date=2020-05-01 12:35:22, card_num=51376902254327182341, oper_type=Снятие, amt=35393.33, oper_result=Успешно, terminal=ATM82416\n",
      "trans_id=459271583, trans_date=2020-05-01 12:37:08, card_num=43776835981366067968, oper_type=Пополнение, amt=96335.3, oper_result=Успешно, terminal=POS73362\n",
      "trans_id=459271584, trans_date=2020-05-01 12:38:48, card_num=56960105799754465475, oper_type=Оплата, amt=85842.54, oper_result=Успешно, terminal=ATM88406\n",
      "trans_id=459271585, trans_date=2020-05-01 12:40:05, card_num=54315818308697754473, oper_type=Снятие, amt=8897.8, oper_result=Успешно, terminal=ATM72885\n",
      "trans_id=459271586, trans_date=2020-05-01 12:41:44, card_num=49541707226776541548, oper_type=Оплата, amt=49252.42, oper_result=Отказ, terminal=ATM88406\n",
      "trans_id=459271587, trans_date=2020-05-01 12:44:03, card_num=57254964675620514602, oper_type=Пополнение, amt=88783.85, oper_result=Успешно, terminal=ATM50766\n",
      "trans_id=459271588, trans_date=2020-05-01 12:45:39, card_num=46336499691082539151, oper_type=Снятие, amt=93802.94, oper_result=Отказ, terminal=ATM82015\n",
      "trans_id=459271589, trans_date=2020-05-01 12:47:24, card_num=43139646532245284351, oper_type=Пополнение, amt=94779.58, oper_result=Успешно, terminal=POS63386\n",
      "trans_id=459271590, trans_date=2020-05-01 12:47:55, card_num=41061119556279998071, oper_type=Пополнение, amt=34418.25, oper_result=Успешно, terminal=POS48933\n",
      "trans_id=459271591, trans_date=2020-05-01 12:48:43, card_num=51870409523872905928, oper_type=Снятие, amt=14193.94, oper_result=Отказ, terminal=POS60036\n",
      "trans_id=459271592, trans_date=2020-05-01 12:51:13, card_num=57346788001492846016, oper_type=Снятие, amt=47325.03, oper_result=Успешно, terminal=POS81772\n",
      "trans_id=459271593, trans_date=2020-05-01 12:53:09, card_num=43587632404498646867, oper_type=Оплата, amt=19594.6, oper_result=Успешно, terminal=POS60871\n",
      "trans_id=459271594, trans_date=2020-05-01 12:55:07, card_num=55371543946011052180, oper_type=Снятие, amt=43839.84, oper_result=Успешно, terminal=POS73362\n",
      "trans_id=459271595, trans_date=2020-05-01 12:57:26, card_num=59023491404598316263, oper_type=Оплата, amt=34074.15, oper_result=Отказ, terminal=ATM11901\n",
      "trans_id=459271596, trans_date=2020-05-01 12:59:48, card_num=46401618607288116243, oper_type=Пополнение, amt=95377.7, oper_result=Успешно, terminal=ATM11901\n",
      "trans_id=459271597, trans_date=2020-05-01 13:00:30, card_num=47003722341720202550, oper_type=Снятие, amt=31982.47, oper_result=Успешно, terminal=ATM69537\n",
      "trans_id=459271598, trans_date=2020-05-01 13:01:16, card_num=46815242126614144911, oper_type=Пополнение, amt=45746.57, oper_result=Успешно, terminal=ATM48311\n",
      "trans_id=459271599, trans_date=2020-05-01 13:03:22, card_num=55906982209276519533, oper_type=Пополнение, amt=78514.83, oper_result=Успешно, terminal=ATM19940\n",
      "trans_id=459271600, trans_date=2020-05-01 13:06:17, card_num=53237058719013934807, oper_type=Снятие, amt=6141.04, oper_result=Отказ, terminal=POS85234\n",
      "trans_id=459271601, trans_date=2020-05-01 13:08:25, card_num=57387267299011865835, oper_type=Оплата, amt=21047.12, oper_result=Успешно, terminal=ATM93692\n",
      "trans_id=459271602, trans_date=2020-05-01 13:09:47, card_num=47877247475565996937, oper_type=Пополнение, amt=42618.8, oper_result=Отказ, terminal=ATM72885\n",
      "trans_id=459271603, trans_date=2020-05-01 13:11:32, card_num=58747636027510497946, oper_type=Пополнение, amt=65724.79, oper_result=Отказ, terminal=POS45875\n",
      "trans_id=459271604, trans_date=2020-05-01 13:13:24, card_num=54732484068935106670, oper_type=Снятие, amt=24640.09, oper_result=Успешно, terminal=ATM62930\n",
      "trans_id=459271605, trans_date=2020-05-01 13:14:03, card_num=56999142927130520532, oper_type=Пополнение, amt=43340.44, oper_result=Успешно, terminal=POS93826\n",
      "trans_id=459271606, trans_date=2020-05-01 13:16:06, card_num=54836387586251457614, oper_type=Оплата, amt=64189.43, oper_result=Успешно, terminal=ATM48088\n",
      "trans_id=459271607, trans_date=2020-05-01 13:18:32, card_num=59450417951188592977, oper_type=Оплата, amt=51920.69, oper_result=Успешно, terminal=POS93826\n",
      "trans_id=459271608, trans_date=2020-05-01 13:19:53, card_num=56601703339069408967, oper_type=Пополнение, amt=33975.99, oper_result=Успешно, terminal=POS67659\n",
      "trans_id=459271609, trans_date=2020-05-01 13:21:13, card_num=48796840948300245216, oper_type=Снятие, amt=29060.8, oper_result=Успешно, terminal=ATM42887\n",
      "trans_id=459271610, trans_date=2020-05-01 13:23:36, card_num=53650032444392126982, oper_type=Снятие, amt=66987.6, oper_result=Успешно, terminal=ATM54168\n",
      "trans_id=459271611, trans_date=2020-05-01 13:24:32, card_num=57107908073888765580, oper_type=Пополнение, amt=45595.75, oper_result=Отказ, terminal=ATM11901\n",
      "trans_id=459271612, trans_date=2020-05-01 13:27:22, card_num=58151217648131668100, oper_type=Снятие, amt=16254.84, oper_result=Отказ, terminal=POS71096\n",
      "trans_id=459271613, trans_date=2020-05-01 13:30:21, card_num=57252687333168663851, oper_type=Пополнение, amt=28599.85, oper_result=Успешно, terminal=ATM87646\n",
      "trans_id=459271614, trans_date=2020-05-01 13:33:14, card_num=53006007443292224278, oper_type=Снятие, amt=55021.68, oper_result=Успешно, terminal=POS28311\n",
      "trans_id=459271615, trans_date=2020-05-01 13:36:07, card_num=56306549298647046533, oper_type=Снятие, amt=63815.06, oper_result=Успешно, terminal=ATM19940\n",
      "trans_id=459271616, trans_date=2020-05-01 13:37:06, card_num=47490261842045004669, oper_type=Пополнение, amt=45676.52, oper_result=Успешно, terminal=ATM48336\n",
      "trans_id=459271617, trans_date=2020-05-01 13:38:04, card_num=45850914332694488633, oper_type=Снятие, amt=49521.71, oper_result=Успешно, terminal=ATM95603\n",
      "trans_id=459271618, trans_date=2020-05-01 13:39:09, card_num=56479924584264486555, oper_type=Оплата, amt=38250.12, oper_result=Отказ, terminal=ATM82015\n",
      "trans_id=459271619, trans_date=2020-05-01 13:41:32, card_num=52600249351655101813, oper_type=Оплата, amt=54528.26, oper_result=Отказ, terminal=ATM56696\n",
      "trans_id=459271620, trans_date=2020-05-01 13:42:27, card_num=57434903762955350306, oper_type=Пополнение, amt=88685.24, oper_result=Отказ, terminal=POS11310\n",
      "trans_id=459271621, trans_date=2020-05-01 13:44:54, card_num=44023763644894416203, oper_type=Снятие, amt=45221.19, oper_result=Успешно, terminal=POS91355\n",
      "trans_id=459271622, trans_date=2020-05-01 13:46:14, card_num=52217212363756814606, oper_type=Пополнение, amt=74107.74, oper_result=Успешно, terminal=POS81772\n",
      "trans_id=459271623, trans_date=2020-05-01 13:48:44, card_num=41635106991445932833, oper_type=Оплата, amt=49230.35, oper_result=Успешно, terminal=ATM40216\n",
      "trans_id=459271624, trans_date=2020-05-01 13:50:09, card_num=57820141152116903153, oper_type=Снятие, amt=68868.14, oper_result=Успешно, terminal=POS66772\n",
      "trans_id=459271625, trans_date=2020-05-01 13:50:53, card_num=53533022808553449695, oper_type=Пополнение, amt=76164.47, oper_result=Отказ, terminal=POS43792\n",
      "trans_id=459271626, trans_date=2020-05-01 13:52:06, card_num=52467819764951066367, oper_type=Пополнение, amt=30756.64, oper_result=Отказ, terminal=ATM54985\n",
      "trans_id=459271627, trans_date=2020-05-01 13:53:56, card_num=55219784801492078340, oper_type=Пополнение, amt=54241.98, oper_result=Успешно, terminal=POS71096\n",
      "trans_id=459271628, trans_date=2020-05-01 13:56:15, card_num=58542872469318712118, oper_type=Снятие, amt=54957.13, oper_result=Успешно, terminal=ATM92212\n",
      "trans_id=459271629, trans_date=2020-05-01 13:58:45, card_num=47124644929768319467, oper_type=Пополнение, amt=88395.63, oper_result=Отказ, terminal=ATM48336\n",
      "trans_id=459271630, trans_date=2020-05-01 13:59:52, card_num=45174082177484225209, oper_type=Оплата, amt=84921.29, oper_result=Успешно, terminal=POS43792\n",
      "trans_id=459271631, trans_date=2020-05-01 14:02:27, card_num=43645649176301613099, oper_type=Оплата, amt=21063.56, oper_result=Успешно, terminal=ATM90761\n",
      "trans_id=459271632, trans_date=2020-05-01 14:03:50, card_num=43271138965235310303, oper_type=Пополнение, amt=76856.02, oper_result=Успешно, terminal=POS94907\n",
      "trans_id=459271633, trans_date=2020-05-01 14:06:30, card_num=46129680653344225315, oper_type=Пополнение, amt=78051.64, oper_result=Успешно, terminal=ATM89221\n",
      "trans_id=459271634, trans_date=2020-05-01 14:09:01, card_num=46345921334429680241, oper_type=Оплата, amt=76877.37, oper_result=Успешно, terminal=ATM48336\n",
      "trans_id=459271635, trans_date=2020-05-01 14:10:04, card_num=56220553553329617570, oper_type=Снятие, amt=99755.6, oper_result=Успешно, terminal=ATM50766\n",
      "trans_id=459271636, trans_date=2020-05-01 14:12:51, card_num=59575269059718698358, oper_type=Снятие, amt=37492.55, oper_result=Успешно, terminal=ATM42463\n",
      "trans_id=459271637, trans_date=2020-05-01 14:13:37, card_num=54360726918803453748, oper_type=Пополнение, amt=16028.76, oper_result=Успешно, terminal=POS71096\n",
      "trans_id=459271638, trans_date=2020-05-01 14:15:51, card_num=57699214071398392805, oper_type=Оплата, amt=66140.55, oper_result=Успешно, terminal=POS81772\n",
      "trans_id=459271639, trans_date=2020-05-01 14:17:33, card_num=44394094634383303534, oper_type=Пополнение, amt=76489.68, oper_result=Успешно, terminal=ATM29949\n",
      "trans_id=459271640, trans_date=2020-05-01 14:18:08, card_num=41837741504237931733, oper_type=Оплата, amt=21500.14, oper_result=Успешно, terminal=ATM27913\n",
      "trans_id=459271641, trans_date=2020-05-01 14:19:29, card_num=42519594672233128248, oper_type=Снятие, amt=26040.39, oper_result=Успешно, terminal=POS93826\n",
      "trans_id=459271642, trans_date=2020-05-01 14:20:50, card_num=56403204638828642967, oper_type=Оплата, amt=79972.68, oper_result=Успешно, terminal=ATM62930\n",
      "trans_id=459271643, trans_date=2020-05-01 14:21:42, card_num=41022468725646847312, oper_type=Оплата, amt=84505.2, oper_result=Успешно, terminal=ATM75799\n",
      "trans_id=459271644, trans_date=2020-05-01 14:23:34, card_num=42830525942034260524, oper_type=Пополнение, amt=38874.1, oper_result=Успешно, terminal=POS93826\n",
      "trans_id=459271645, trans_date=2020-05-01 14:24:57, card_num=57458703864353065369, oper_type=Пополнение, amt=80880.24, oper_result=Успешно, terminal=ATM88065\n",
      "trans_id=459271646, trans_date=2020-05-01 14:26:43, card_num=46082917228825124942, oper_type=Пополнение, amt=81053.17, oper_result=Успешно, terminal=POS20393\n",
      "trans_id=459271647, trans_date=2020-05-01 14:29:11, card_num=55011294236550882607, oper_type=Снятие, amt=92559.53, oper_result=Успешно, terminal=ATM93692\n",
      "trans_id=459271648, trans_date=2020-05-01 14:31:30, card_num=58776289463409774140, oper_type=Снятие, amt=5536.33, oper_result=Успешно, terminal=ATM61912\n",
      "trans_id=459271649, trans_date=2020-05-01 14:32:56, card_num=41024504473804395989, oper_type=Снятие, amt=69084.1, oper_result=Успешно, terminal=POS76281\n",
      "trans_id=459271650, trans_date=2020-05-01 14:35:54, card_num=58487209333016886357, oper_type=Снятие, amt=66990.08, oper_result=Успешно, terminal=POS48933\n",
      "trans_id=459271651, trans_date=2020-05-01 14:36:50, card_num=48619795826972672067, oper_type=Снятие, amt=41934.19, oper_result=Успешно, terminal=POS55762\n",
      "trans_id=459271652, trans_date=2020-05-01 14:38:44, card_num=44123785227335055098, oper_type=Снятие, amt=97953.24, oper_result=Успешно, terminal=POS37441\n",
      "повторная карта 44123785227335055098\n",
      "trans_id=459271653, trans_date=2020-05-01 14:40:01, card_num=41955762639734262770, oper_type=Пополнение, amt=5562.47, oper_result=Успешно, terminal=POS89498\n",
      "trans_id=459271654, trans_date=2020-05-01 14:40:41, card_num=58865879865850079548, oper_type=Снятие, amt=41327.31, oper_result=Успешно, terminal=ATM29484\n",
      "trans_id=459271655, trans_date=2020-05-01 14:41:18, card_num=47555272813092597985, oper_type=Снятие, amt=12994.14, oper_result=Успешно, terminal=ATM82015\n",
      "trans_id=459271656, trans_date=2020-05-01 14:42:18, card_num=41073090229595531060, oper_type=Снятие, amt=12126.85, oper_result=Успешно, terminal=POS73362\n",
      "trans_id=459271657, trans_date=2020-05-01 14:45:07, card_num=54793630611167938276, oper_type=Снятие, amt=78938.79, oper_result=Успешно, terminal=POS43792\n",
      "trans_id=459271658, trans_date=2020-05-01 14:47:19, card_num=52034103128923537892, oper_type=Пополнение, amt=7484.99, oper_result=Успешно, terminal=ATM69537\n",
      "trans_id=459271659, trans_date=2020-05-01 14:48:19, card_num=45617145923121985944, oper_type=Оплата, amt=59602.75, oper_result=Успешно, terminal=ATM88406\n",
      "trans_id=459271660, trans_date=2020-05-01 14:49:06, card_num=48470170577212147669, oper_type=Оплата, amt=41914.53, oper_result=Успешно, terminal=ATM41209\n",
      "trans_id=459271661, trans_date=2020-05-01 14:51:20, card_num=44196902722501464583, oper_type=Пополнение, amt=39141.34, oper_result=Успешно, terminal=POS43792\n",
      "trans_id=459271662, trans_date=2020-05-01 14:53:36, card_num=58745444639459957831, oper_type=Пополнение, amt=59314.58, oper_result=Успешно, terminal=ATM45335\n",
      "trans_id=459271663, trans_date=2020-05-01 14:56:01, card_num=46681797961282828291, oper_type=Оплата, amt=10820.19, oper_result=Успешно, terminal=POS43792\n",
      "trans_id=459271664, trans_date=2020-05-01 14:57:18, card_num=47419027414027682155, oper_type=Пополнение, amt=98472.97, oper_result=Успешно, terminal=ATM11901\n",
      "trans_id=459271665, trans_date=2020-05-01 14:59:12, card_num=59965309583751246734, oper_type=Пополнение, amt=13255.64, oper_result=Отказ, terminal=POS66062\n",
      "trans_id=459271666, trans_date=2020-05-01 15:01:54, card_num=41816436117540528930, oper_type=Оплата, amt=23638.1, oper_result=Отказ, terminal=POS85298\n",
      "trans_id=459271667, trans_date=2020-05-01 15:04:37, card_num=53930737912447879368, oper_type=Пополнение, amt=8051.0, oper_result=Успешно, terminal=POS20393\n",
      "trans_id=459271668, trans_date=2020-05-01 15:07:06, card_num=52706705417270100705, oper_type=Оплата, amt=72476.1, oper_result=Отказ, terminal=ATM54985\n",
      "trans_id=459271669, trans_date=2020-05-01 15:10:02, card_num=48152498901835482409, oper_type=Снятие, amt=50038.7, oper_result=Отказ, terminal=ATM11901\n",
      "trans_id=459271670, trans_date=2020-05-01 15:12:48, card_num=45955953192904081750, oper_type=Пополнение, amt=77348.11, oper_result=Успешно, terminal=ATM88406\n",
      "trans_id=459271671, trans_date=2020-05-01 15:13:48, card_num=43864796811751248000, oper_type=Оплата, amt=64062.97, oper_result=Успешно, terminal=ATM98530\n",
      "trans_id=459271672, trans_date=2020-05-01 15:15:13, card_num=44120857116499239848, oper_type=Оплата, amt=19254.77, oper_result=Успешно, terminal=POS26573\n",
      "trans_id=459271673, trans_date=2020-05-01 15:15:55, card_num=41977260368039774193, oper_type=Снятие, amt=76697.38, oper_result=Успешно, terminal=ATM39555\n",
      "trans_id=459271674, trans_date=2020-05-01 15:18:40, card_num=44993524063487400827, oper_type=Пополнение, amt=77378.79, oper_result=Отказ, terminal=ATM88406\n",
      "trans_id=459271675, trans_date=2020-05-01 15:20:24, card_num=51776137567848926020, oper_type=Пополнение, amt=40420.21, oper_result=Отказ, terminal=ATM39555\n",
      "trans_id=459271676, trans_date=2020-05-01 15:22:27, card_num=46780805916028472555, oper_type=Оплата, amt=1834.3, oper_result=Успешно, terminal=POS60871\n",
      "trans_id=459271677, trans_date=2020-05-01 15:24:49, card_num=51749566412942737949, oper_type=Оплата, amt=24493.22, oper_result=Отказ, terminal=POS76281\n",
      "trans_id=459271678, trans_date=2020-05-01 15:26:28, card_num=52168741052165270478, oper_type=Оплата, amt=36999.07, oper_result=Успешно, terminal=POS75616\n",
      "trans_id=459271679, trans_date=2020-05-01 15:28:07, card_num=42788642477897342284, oper_type=Снятие, amt=19288.17, oper_result=Успешно, terminal=ATM39555\n",
      "trans_id=459271680, trans_date=2020-05-01 15:29:25, card_num=51894760473829092516, oper_type=Оплата, amt=54245.09, oper_result=Успешно, terminal=POS48933\n",
      "trans_id=459271681, trans_date=2020-05-01 15:32:15, card_num=57368546795258709732, oper_type=Оплата, amt=28315.23, oper_result=Успешно, terminal=ATM54985\n",
      "trans_id=459271682, trans_date=2020-05-01 15:33:25, card_num=43278712842913253691, oper_type=Пополнение, amt=26580.94, oper_result=Отказ, terminal=POS48933\n",
      "trans_id=459271683, trans_date=2020-05-01 15:36:08, card_num=42374021857848131297, oper_type=Пополнение, amt=75770.53, oper_result=Отказ, terminal=POS60871\n",
      "trans_id=459271684, trans_date=2020-05-01 15:38:49, card_num=55446280185085850481, oper_type=Пополнение, amt=17964.69, oper_result=Отказ, terminal=ATM29949\n",
      "trans_id=459271685, trans_date=2020-05-01 15:41:35, card_num=43558708932884738417, oper_type=Снятие, amt=82402.92, oper_result=Успешно, terminal=ATM40216\n",
      "trans_id=459271686, trans_date=2020-05-01 15:42:39, card_num=42311656855205568665, oper_type=Снятие, amt=8878.0, oper_result=Успешно, terminal=POS76241\n",
      "trans_id=459271687, trans_date=2020-05-01 15:44:30, card_num=44455252012201789819, oper_type=Пополнение, amt=54297.87, oper_result=Успешно, terminal=ATM16730\n",
      "trans_id=459271688, trans_date=2020-05-01 15:46:33, card_num=55114838013819227510, oper_type=Снятие, amt=9828.5, oper_result=Отказ, terminal=ATM21750\n",
      "trans_id=459271689, trans_date=2020-05-01 15:47:11, card_num=43728005875872826550, oper_type=Оплата, amt=47560.69, oper_result=Успешно, terminal=ATM48336\n",
      "повторная карта 43728005875872826550\n",
      "trans_id=459271690, trans_date=2020-05-01 15:48:45, card_num=46227967087841707197, oper_type=Оплата, amt=56739.62, oper_result=Успешно, terminal=ATM47348\n",
      "trans_id=459271691, trans_date=2020-05-01 15:50:29, card_num=41979598889408065871, oper_type=Оплата, amt=59282.39, oper_result=Отказ, terminal=POS73362\n",
      "trans_id=459271692, trans_date=2020-05-01 15:51:06, card_num=45814267397715259733, oper_type=Пополнение, amt=80375.25, oper_result=Успешно, terminal=POS66216\n",
      "trans_id=459271693, trans_date=2020-05-01 15:53:03, card_num=55283891351845317052, oper_type=Снятие, amt=99788.63, oper_result=Успешно, terminal=POS66216\n",
      "trans_id=459271694, trans_date=2020-05-01 15:55:01, card_num=47523793319737746328, oper_type=Оплата, amt=4922.09, oper_result=Отказ, terminal=POS66216\n",
      "trans_id=459271695, trans_date=2020-05-01 15:57:59, card_num=54669174139197249730, oper_type=Снятие, amt=23892.67, oper_result=Отказ, terminal=ATM45335\n",
      "trans_id=459271696, trans_date=2020-05-01 15:59:18, card_num=42832003542803517381, oper_type=Пополнение, amt=85377.54, oper_result=Успешно, terminal=POS45875\n",
      "trans_id=459271697, trans_date=2020-05-01 16:00:46, card_num=42381358193662905143, oper_type=Пополнение, amt=71058.01, oper_result=Отказ, terminal=POS35099\n",
      "trans_id=459271698, trans_date=2020-05-01 16:02:56, card_num=55638670118997564419, oper_type=Оплата, amt=54579.79, oper_result=Успешно, terminal=ATM69537\n",
      "trans_id=459271699, trans_date=2020-05-01 16:03:57, card_num=53376197376919991899, oper_type=Пополнение, amt=32215.88, oper_result=Успешно, terminal=POS94350\n",
      "trans_id=459271700, trans_date=2020-05-01 16:05:03, card_num=41368764638448479830, oper_type=Пополнение, amt=45219.31, oper_result=Отказ, terminal=POS67659\n",
      "trans_id=459271701, trans_date=2020-05-01 16:06:37, card_num=58433125703662319608, oper_type=Оплата, amt=89451.32, oper_result=Успешно, terminal=ATM42463\n",
      "trans_id=459271702, trans_date=2020-05-01 16:08:05, card_num=54851665737164783475, oper_type=Снятие, amt=9021.54, oper_result=Успешно, terminal=ATM87646\n",
      "trans_id=459271703, trans_date=2020-05-01 16:09:25, card_num=59806919346395963870, oper_type=Пополнение, amt=43918.7, oper_result=Успешно, terminal=POS28311\n",
      "trans_id=459271704, trans_date=2020-05-01 16:10:06, card_num=55660068048133717097, oper_type=Снятие, amt=85691.61, oper_result=Отказ, terminal=POS64475\n",
      "повторная карта 55660068048133717097\n",
      "trans_id=459271705, trans_date=2020-05-01 16:12:04, card_num=58916566501839794071, oper_type=Пополнение, amt=32437.86, oper_result=Отказ, terminal=POS89498\n",
      "trans_id=459271706, trans_date=2020-05-01 16:14:00, card_num=56958440116037599611, oper_type=Снятие, amt=25996.62, oper_result=Отказ, terminal=POS98042\n",
      "trans_id=459271707, trans_date=2020-05-01 16:16:06, card_num=56323318867570566329, oper_type=Снятие, amt=60218.31, oper_result=Успешно, terminal=POS26573\n",
      "trans_id=459271708, trans_date=2020-05-01 16:17:18, card_num=51717752289914303026, oper_type=Пополнение, amt=59573.36, oper_result=Успешно, terminal=POS94907\n",
      "trans_id=459271709, trans_date=2020-05-01 16:19:19, card_num=55391823884984690036, oper_type=Пополнение, amt=23570.12, oper_result=Отказ, terminal=ATM88406\n",
      "trans_id=459271710, trans_date=2020-05-01 16:21:58, card_num=52036924262741469072, oper_type=Снятие, amt=40847.75, oper_result=Успешно, terminal=ATM48336\n",
      "trans_id=459271711, trans_date=2020-05-01 16:22:50, card_num=51034698174067697814, oper_type=Снятие, amt=29636.46, oper_result=Успешно, terminal=POS31141\n",
      "trans_id=459271712, trans_date=2020-05-01 16:25:07, card_num=53143041659835027131, oper_type=Снятие, amt=8646.38, oper_result=Отказ, terminal=ATM29949\n",
      "trans_id=459271713, trans_date=2020-05-01 16:25:50, card_num=48286782337423326267, oper_type=Пополнение, amt=3392.4, oper_result=Отказ, terminal=ATM69445\n",
      "trans_id=459271714, trans_date=2020-05-01 16:27:39, card_num=44596901477658945128, oper_type=Оплата, amt=26833.26, oper_result=Успешно, terminal=ATM41625\n",
      "trans_id=459271715, trans_date=2020-05-01 16:30:21, card_num=58267344079651244312, oper_type=Снятие, amt=61571.02, oper_result=Успешно, terminal=POS89498\n",
      "trans_id=459271716, trans_date=2020-05-01 16:32:54, card_num=43546092886691993129, oper_type=Снятие, amt=74151.19, oper_result=Успешно, terminal=POS37441\n",
      "trans_id=459271717, trans_date=2020-05-01 16:34:40, card_num=51318698894361326189, oper_type=Снятие, amt=92984.45, oper_result=Успешно, terminal=POS85234\n",
      "trans_id=459271718, trans_date=2020-05-01 16:35:59, card_num=59966098536925479751, oper_type=Оплата, amt=76160.46, oper_result=Успешно, terminal=POS26342\n",
      "trans_id=459271719, trans_date=2020-05-01 16:36:43, card_num=54702052158196794692, oper_type=Пополнение, amt=47907.11, oper_result=Успешно, terminal=POS11310\n",
      "trans_id=459271720, trans_date=2020-05-01 16:38:33, card_num=48762488128685323067, oper_type=Оплата, amt=83275.41, oper_result=Отказ, terminal=POS67659\n",
      "trans_id=459271721, trans_date=2020-05-01 16:41:16, card_num=49401590382079876517, oper_type=Оплата, amt=99541.04, oper_result=Успешно, terminal=ATM91784\n",
      "trans_id=459271722, trans_date=2020-05-01 16:42:57, card_num=48154303789442793813, oper_type=Снятие, amt=9624.78, oper_result=Успешно, terminal=POS60036\n",
      "trans_id=459271723, trans_date=2020-05-01 16:44:10, card_num=49119821541963121269, oper_type=Снятие, amt=20196.12, oper_result=Отказ, terminal=ATM21750\n",
      "trans_id=459271724, trans_date=2020-05-01 16:45:29, card_num=49917774089068877222, oper_type=Пополнение, amt=55319.21, oper_result=Отказ, terminal=ATM91784\n",
      "trans_id=459271725, trans_date=2020-05-01 16:47:57, card_num=51463896647038834855, oper_type=Оплата, amt=72298.83, oper_result=Успешно, terminal=POS60036\n",
      "trans_id=459271726, trans_date=2020-05-01 16:50:50, card_num=51540194522860325315, oper_type=Пополнение, amt=67351.97, oper_result=Отказ, terminal=POS26573\n",
      "trans_id=459271727, trans_date=2020-05-01 16:52:48, card_num=53852661304214640280, oper_type=Оплата, amt=91162.29, oper_result=Успешно, terminal=ATM39718\n",
      "trans_id=459271728, trans_date=2020-05-01 16:55:10, card_num=51614337049500308934, oper_type=Пополнение, amt=3147.09, oper_result=Успешно, terminal=ATM29484\n",
      "trans_id=459271729, trans_date=2020-05-01 16:56:45, card_num=44894414563414402228, oper_type=Оплата, amt=15977.63, oper_result=Успешно, terminal=POS63386\n",
      "trans_id=459271730, trans_date=2020-05-01 16:57:27, card_num=47593048526262733354, oper_type=Пополнение, amt=33123.01, oper_result=Успешно, terminal=ATM89221\n",
      "trans_id=459271731, trans_date=2020-05-01 16:59:22, card_num=44007590119992200868, oper_type=Пополнение, amt=80482.4, oper_result=Отказ, terminal=ATM56696\n",
      "trans_id=459271732, trans_date=2020-05-01 17:02:01, card_num=57487804645362733196, oper_type=Оплата, amt=2379.8, oper_result=Успешно, terminal=POS26573\n",
      "trans_id=459271733, trans_date=2020-05-01 17:03:20, card_num=57528615135970618544, oper_type=Снятие, amt=9487.64, oper_result=Отказ, terminal=POS94350\n",
      "trans_id=459271734, trans_date=2020-05-01 17:04:11, card_num=42113261906897584884, oper_type=Пополнение, amt=98085.28, oper_result=Успешно, terminal=ATM40216\n",
      "trans_id=459271735, trans_date=2020-05-01 17:06:26, card_num=58069126429497303824, oper_type=Оплата, amt=36349.09, oper_result=Успешно, terminal=POS20393\n",
      "trans_id=459271736, trans_date=2020-05-01 17:07:49, card_num=42098007307649203266, oper_type=Снятие, amt=80239.69, oper_result=Успешно, terminal=ATM88406\n",
      "trans_id=459271737, trans_date=2020-05-01 17:08:58, card_num=59410158666218364859, oper_type=Пополнение, amt=51666.76, oper_result=Успешно, terminal=ATM94002\n",
      "trans_id=459271738, trans_date=2020-05-01 17:10:54, card_num=41195258516379162212, oper_type=Оплата, amt=11841.69, oper_result=Успешно, terminal=POS13190\n",
      "trans_id=459271739, trans_date=2020-05-01 17:13:22, card_num=44347633632738626268, oper_type=Снятие, amt=27813.92, oper_result=Успешно, terminal=ATM26332\n",
      "trans_id=459271740, trans_date=2020-05-01 17:15:05, card_num=55519095988551875365, oper_type=Снятие, amt=27168.87, oper_result=Успешно, terminal=ATM91784\n",
      "trans_id=459271741, trans_date=2020-05-01 17:15:40, card_num=58506028777690863029, oper_type=Оплата, amt=10975.25, oper_result=Отказ, terminal=ATM82416\n",
      "trans_id=459271742, trans_date=2020-05-01 17:17:14, card_num=55513544723768758868, oper_type=Оплата, amt=3965.6, oper_result=Успешно, terminal=POS53745\n",
      "trans_id=459271743, trans_date=2020-05-01 17:19:24, card_num=54853586163052890745, oper_type=Снятие, amt=8478.13, oper_result=Успешно, terminal=POS53745\n",
      "trans_id=459271744, trans_date=2020-05-01 17:21:37, card_num=43234898574376265733, oper_type=Оплата, amt=53524.03, oper_result=Успешно, terminal=POS85234\n",
      "trans_id=459271745, trans_date=2020-05-01 17:23:10, card_num=46874341384612037665, oper_type=Пополнение, amt=68796.35, oper_result=Успешно, terminal=POS85234\n",
      "trans_id=459271746, trans_date=2020-05-01 17:25:22, card_num=55409421174143863252, oper_type=Пополнение, amt=9115.17, oper_result=Отказ, terminal=POS13643\n",
      "trans_id=459271747, trans_date=2020-05-01 17:27:40, card_num=48951589755141568352, oper_type=Оплата, amt=50044.21, oper_result=Успешно, terminal=POS67659\n",
      "trans_id=459271748, trans_date=2020-05-01 17:30:05, card_num=43872163552080290587, oper_type=Снятие, amt=97785.49, oper_result=Успешно, terminal=POS31141\n",
      "trans_id=459271749, trans_date=2020-05-01 17:31:13, card_num=45817708917852845676, oper_type=Пополнение, amt=27297.38, oper_result=Отказ, terminal=POS31141\n",
      "trans_id=459271750, trans_date=2020-05-01 17:32:58, card_num=49704397289750449384, oper_type=Снятие, amt=60335.83, oper_result=Отказ, terminal=ATM72885\n",
      "trans_id=459271751, trans_date=2020-05-01 17:33:30, card_num=54427127414731819947, oper_type=Пополнение, amt=18512.32, oper_result=Успешно, terminal=POS85234\n",
      "trans_id=459271752, trans_date=2020-05-01 17:34:37, card_num=53206691949333219967, oper_type=Оплата, amt=6548.0, oper_result=Успешно, terminal=POS89498\n",
      "повторная карта 53206691949333219967\n",
      "trans_id=459271753, trans_date=2020-05-01 17:35:27, card_num=51264005665026887961, oper_type=Снятие, amt=82717.65, oper_result=Отказ, terminal=POS60871\n",
      "trans_id=459271754, trans_date=2020-05-01 17:37:00, card_num=46044260101411717698, oper_type=Снятие, amt=66907.53, oper_result=Успешно, terminal=ATM21750\n",
      "trans_id=459271755, trans_date=2020-05-01 17:38:53, card_num=56170608827359423504, oper_type=Снятие, amt=30447.91, oper_result=Успешно, terminal=ATM41625\n",
      "trans_id=459271756, trans_date=2020-05-01 17:39:29, card_num=42530876479994335929, oper_type=Снятие, amt=56593.15, oper_result=Успешно, terminal=POS31141\n",
      "trans_id=459271757, trans_date=2020-05-01 17:40:19, card_num=44289169012463647733, oper_type=Оплата, amt=2260.25, oper_result=Отказ, terminal=ATM72885\n",
      "trans_id=459271758, trans_date=2020-05-01 17:42:30, card_num=55819913078599621135, oper_type=Снятие, amt=62800.56, oper_result=Успешно, terminal=ATM17215\n",
      "trans_id=459271759, trans_date=2020-05-01 17:45:16, card_num=46442213548833839185, oper_type=Снятие, amt=87590.08, oper_result=Отказ, terminal=POS45568\n",
      "trans_id=459271760, trans_date=2020-05-01 17:47:29, card_num=59702385785673618894, oper_type=Снятие, amt=95961.92, oper_result=Успешно, terminal=POS13643\n",
      "trans_id=459271761, trans_date=2020-05-01 17:48:06, card_num=56858748506104137691, oper_type=Пополнение, amt=19196.35, oper_result=Успешно, terminal=ATM42463\n",
      "trans_id=459271762, trans_date=2020-05-01 17:49:15, card_num=45727938257158001084, oper_type=Оплата, amt=78493.24, oper_result=Отказ, terminal=ATM42463\n",
      "trans_id=459271763, trans_date=2020-05-01 17:51:03, card_num=47114757003216802710, oper_type=Пополнение, amt=77931.06, oper_result=Отказ, terminal=POS85298\n",
      "trans_id=459271764, trans_date=2020-05-01 17:53:10, card_num=52042468763163617124, oper_type=Пополнение, amt=66612.84, oper_result=Успешно, terminal=POS64475\n",
      "trans_id=459271765, trans_date=2020-05-01 17:54:32, card_num=42046901384106688930, oper_type=Пополнение, amt=72349.86, oper_result=Отказ, terminal=POS82543\n",
      "trans_id=459271766, trans_date=2020-05-01 17:55:07, card_num=56299531332525300448, oper_type=Оплата, amt=62503.11, oper_result=Успешно, terminal=ATM47348\n",
      "trans_id=459271767, trans_date=2020-05-01 17:57:12, card_num=57839498579736775235, oper_type=Оплата, amt=67167.25, oper_result=Отказ, terminal=POS76281\n",
      "trans_id=459271768, trans_date=2020-05-01 17:58:01, card_num=49191884365664940528, oper_type=Пополнение, amt=7980.23, oper_result=Успешно, terminal=POS93205\n",
      "trans_id=459271769, trans_date=2020-05-01 17:58:39, card_num=48487711905307175625, oper_type=Пополнение, amt=31685.34, oper_result=Успешно, terminal=ATM21750\n",
      "trans_id=459271770, trans_date=2020-05-01 18:01:12, card_num=44986452148710573963, oper_type=Пополнение, amt=88653.12, oper_result=Успешно, terminal=POS26342\n",
      "trans_id=459271771, trans_date=2020-05-01 18:03:09, card_num=47269642029161285333, oper_type=Снятие, amt=83585.42, oper_result=Отказ, terminal=POS76281\n",
      "повторная карта 47269642029161285333\n",
      "trans_id=459271772, trans_date=2020-05-01 18:05:25, card_num=51737841242760658693, oper_type=Оплата, amt=9378.87, oper_result=Успешно, terminal=ATM39718\n",
      "trans_id=459271773, trans_date=2020-05-01 18:08:12, card_num=45398023781083004837, oper_type=Снятие, amt=75804.67, oper_result=Успешно, terminal=ATM50766\n",
      "trans_id=459271774, trans_date=2020-05-01 18:10:22, card_num=51477044431250436906, oper_type=Оплата, amt=69126.98, oper_result=Отказ, terminal=ATM48311\n",
      "trans_id=459271775, trans_date=2020-05-01 18:11:56, card_num=55458266014666294662, oper_type=Пополнение, amt=57890.73, oper_result=Отказ, terminal=POS75616\n",
      "trans_id=459271776, trans_date=2020-05-01 18:13:44, card_num=46989766299482153161, oper_type=Оплата, amt=27681.3, oper_result=Успешно, terminal=ATM82416\n",
      "trans_id=459271777, trans_date=2020-05-01 18:15:45, card_num=43697330785123371591, oper_type=Пополнение, amt=49882.66, oper_result=Отказ, terminal=POS45875\n",
      "trans_id=459271778, trans_date=2020-05-01 18:18:20, card_num=49568663466958342247, oper_type=Снятие, amt=46576.56, oper_result=Отказ, terminal=ATM75799\n",
      "trans_id=459271779, trans_date=2020-05-01 18:20:40, card_num=58341418056619948743, oper_type=Оплата, amt=63353.98, oper_result=Успешно, terminal=POS60871\n",
      "trans_id=459271780, trans_date=2020-05-01 18:23:10, card_num=56603661616789549334, oper_type=Оплата, amt=59976.5, oper_result=Успешно, terminal=ATM61912\n",
      "trans_id=459271781, trans_date=2020-05-01 18:24:41, card_num=41295853094725764287, oper_type=Снятие, amt=71259.9, oper_result=Успешно, terminal=POS11310\n",
      "trans_id=459271782, trans_date=2020-05-01 18:26:33, card_num=51916633591849025503, oper_type=Пополнение, amt=88785.83, oper_result=Отказ, terminal=POS93205\n",
      "trans_id=459271783, trans_date=2020-05-01 18:27:41, card_num=55369052817875456125, oper_type=Снятие, amt=41343.66, oper_result=Успешно, terminal=ATM41209\n",
      "trans_id=459271784, trans_date=2020-05-01 18:28:39, card_num=42639609596441328674, oper_type=Пополнение, amt=44764.97, oper_result=Успешно, terminal=ATM61912\n",
      "trans_id=459271785, trans_date=2020-05-01 18:29:57, card_num=44298407158997493259, oper_type=Пополнение, amt=61128.54, oper_result=Отказ, terminal=ATM19940\n",
      "trans_id=459271786, trans_date=2020-05-01 18:31:41, card_num=59962556349532609376, oper_type=Оплата, amt=58428.51, oper_result=Отказ, terminal=ATM91784\n",
      "повторная карта 59962556349532609376\n",
      "trans_id=459271787, trans_date=2020-05-01 18:34:27, card_num=49620689955680236547, oper_type=Оплата, amt=29995.44, oper_result=Успешно, terminal=POS23811\n",
      "trans_id=459271788, trans_date=2020-05-01 18:35:46, card_num=53281836266612272936, oper_type=Оплата, amt=63408.83, oper_result=Успешно, terminal=POS20630\n",
      "trans_id=459271789, trans_date=2020-05-01 18:38:35, card_num=57575068212574218355, oper_type=Снятие, amt=33199.78, oper_result=Отказ, terminal=ATM29484\n",
      "trans_id=459271790, trans_date=2020-05-01 18:41:35, card_num=56256298291924687335, oper_type=Снятие, amt=24846.02, oper_result=Отказ, terminal=ATM95603\n",
      "trans_id=459271791, trans_date=2020-05-01 18:43:22, card_num=42048750679731839898, oper_type=Пополнение, amt=79205.64, oper_result=Успешно, terminal=ATM88065\n",
      "trans_id=459271792, trans_date=2020-05-01 18:45:13, card_num=41602963219912724134, oper_type=Снятие, amt=89654.16, oper_result=Успешно, terminal=ATM29484\n",
      "trans_id=459271793, trans_date=2020-05-01 18:46:03, card_num=51555705306135515832, oper_type=Снятие, amt=93292.18, oper_result=Успешно, terminal=POS20393\n",
      "trans_id=459271794, trans_date=2020-05-01 18:48:28, card_num=51781228455143120789, oper_type=Оплата, amt=70849.88, oper_result=Успешно, terminal=POS70407\n",
      "trans_id=459271795, trans_date=2020-05-01 18:51:09, card_num=56877241486708098143, oper_type=Снятие, amt=83210.03, oper_result=Успешно, terminal=POS43792\n",
      "trans_id=459271796, trans_date=2020-05-01 18:52:40, card_num=42449114648491761417, oper_type=Пополнение, amt=24519.95, oper_result=Успешно, terminal=ATM69445\n",
      "trans_id=459271797, trans_date=2020-05-01 18:54:09, card_num=48730319232842842208, oper_type=Пополнение, amt=62244.56, oper_result=Успешно, terminal=ATM29949\n",
      "trans_id=459271798, trans_date=2020-05-01 18:57:05, card_num=47870494914184008587, oper_type=Снятие, amt=21392.82, oper_result=Успешно, terminal=POS33945\n",
      "trans_id=459271799, trans_date=2020-05-01 18:59:04, card_num=51066964692349819075, oper_type=Снятие, amt=90850.74, oper_result=Успешно, terminal=POS70407\n",
      "trans_id=459271800, trans_date=2020-05-01 19:00:46, card_num=54739245592455153084, oper_type=Оплата, amt=31975.13, oper_result=Успешно, terminal=ATM82416\n",
      "trans_id=459271801, trans_date=2020-05-01 19:02:59, card_num=51512804382213030037, oper_type=Снятие, amt=97490.47, oper_result=Успешно, terminal=ATM21750\n",
      "trans_id=459271802, trans_date=2020-05-01 19:04:37, card_num=42062671238949021490, oper_type=Снятие, amt=82887.69, oper_result=Успешно, terminal=ATM61912\n",
      "trans_id=459271803, trans_date=2020-05-01 19:06:45, card_num=49768897125909442964, oper_type=Снятие, amt=67914.88, oper_result=Отказ, terminal=POS45568\n",
      "trans_id=459271804, trans_date=2020-05-01 19:08:02, card_num=44468208607294129649, oper_type=Пополнение, amt=36382.18, oper_result=Успешно, terminal=POS76281\n",
      "trans_id=459271805, trans_date=2020-05-01 19:09:16, card_num=54261597284911616080, oper_type=Пополнение, amt=22819.53, oper_result=Успешно, terminal=ATM48088\n",
      "trans_id=459271806, trans_date=2020-05-01 19:10:06, card_num=57971107641490222901, oper_type=Оплата, amt=91669.14, oper_result=Отказ, terminal=POS93205\n",
      "trans_id=459271807, trans_date=2020-05-01 19:11:09, card_num=52504438674595113475, oper_type=Пополнение, amt=80496.51, oper_result=Отказ, terminal=POS11310\n",
      "trans_id=459271808, trans_date=2020-05-01 19:12:05, card_num=55245075503528281971, oper_type=Снятие, amt=16204.08, oper_result=Отказ, terminal=POS41732\n",
      "trans_id=459271809, trans_date=2020-05-01 19:14:25, card_num=57466286232913750304, oper_type=Оплата, amt=95704.25, oper_result=Отказ, terminal=ATM40216\n",
      "trans_id=459271810, trans_date=2020-05-01 19:15:40, card_num=51868996163320566617, oper_type=Пополнение, amt=53370.65, oper_result=Отказ, terminal=POS67659\n",
      "trans_id=459271811, trans_date=2020-05-01 19:16:17, card_num=49530289642367705469, oper_type=Снятие, amt=28311.85, oper_result=Успешно, terminal=ATM42887\n",
      "trans_id=459271812, trans_date=2020-05-01 19:18:12, card_num=57797619496562945643, oper_type=Пополнение, amt=35332.72, oper_result=Успешно, terminal=POS59542\n",
      "trans_id=459271813, trans_date=2020-05-01 19:18:55, card_num=59847044043102686239, oper_type=Оплата, amt=96538.08, oper_result=Успешно, terminal=POS55335\n",
      "trans_id=459271814, trans_date=2020-05-01 19:19:31, card_num=48732735173866750927, oper_type=Пополнение, amt=52813.34, oper_result=Успешно, terminal=ATM27913\n",
      "trans_id=459271815, trans_date=2020-05-01 19:20:46, card_num=57035023085478074991, oper_type=Снятие, amt=91949.33, oper_result=Успешно, terminal=ATM27913\n",
      "trans_id=459271816, trans_date=2020-05-01 19:23:27, card_num=42710251205006978921, oper_type=Пополнение, amt=88301.71, oper_result=Успешно, terminal=POS33945\n",
      "trans_id=459271817, trans_date=2020-05-01 19:25:52, card_num=49414421247128443536, oper_type=Пополнение, amt=88096.88, oper_result=Отказ, terminal=ATM40216\n",
      "trans_id=459271818, trans_date=2020-05-01 19:27:25, card_num=42003751681177312963, oper_type=Пополнение, amt=95696.66, oper_result=Успешно, terminal=POS35099\n",
      "trans_id=459271819, trans_date=2020-05-01 19:29:26, card_num=57908503932527973188, oper_type=Снятие, amt=55895.9, oper_result=Успешно, terminal=POS55335\n",
      "trans_id=459271820, trans_date=2020-05-01 19:31:26, card_num=41694968698301259756, oper_type=Оплата, amt=73496.19, oper_result=Успешно, terminal=POS48933\n",
      "trans_id=459271821, trans_date=2020-05-01 19:33:03, card_num=41862541385619589291, oper_type=Снятие, amt=50349.37, oper_result=Отказ, terminal=POS33945\n",
      "trans_id=459271822, trans_date=2020-05-01 19:33:33, card_num=45343553563358062367, oper_type=Снятие, amt=37968.29, oper_result=Отказ, terminal=POS66062\n",
      "trans_id=459271823, trans_date=2020-05-01 19:36:26, card_num=56392630687331825282, oper_type=Пополнение, amt=62164.56, oper_result=Успешно, terminal=POS70407\n",
      "trans_id=459271824, trans_date=2020-05-01 19:39:12, card_num=42800478052041611056, oper_type=Пополнение, amt=7829.1, oper_result=Успешно, terminal=ATM27913\n",
      "trans_id=459271825, trans_date=2020-05-01 19:42:01, card_num=43896667926222199483, oper_type=Оплата, amt=12338.86, oper_result=Успешно, terminal=POS37441\n",
      "trans_id=459271826, trans_date=2020-05-01 19:44:45, card_num=46622317045213462672, oper_type=Снятие, amt=88168.52, oper_result=Успешно, terminal=ATM47348\n",
      "trans_id=459271827, trans_date=2020-05-01 19:45:58, card_num=55181986855109870996, oper_type=Оплата, amt=37662.5, oper_result=Успешно, terminal=POS75616\n",
      "trans_id=459271828, trans_date=2020-05-01 19:48:00, card_num=52598559076077521856, oper_type=Снятие, amt=58853.84, oper_result=Успешно, terminal=POS31141\n",
      "trans_id=459271829, trans_date=2020-05-01 19:50:35, card_num=47024625507259073649, oper_type=Оплата, amt=6360.57, oper_result=Успешно, terminal=POS71096\n",
      "trans_id=459271830, trans_date=2020-05-01 19:53:30, card_num=49550157758606428398, oper_type=Пополнение, amt=55106.84, oper_result=Успешно, terminal=ATM84286\n",
      "trans_id=459271831, trans_date=2020-05-01 19:56:23, card_num=43640213308467272485, oper_type=Оплата, amt=5083.75, oper_result=Отказ, terminal=ATM54985\n",
      "trans_id=459271832, trans_date=2020-05-01 19:59:18, card_num=41787199307708169931, oper_type=Снятие, amt=49728.35, oper_result=Успешно, terminal=POS94907\n",
      "trans_id=459271833, trans_date=2020-05-01 20:00:02, card_num=57991964065237177325, oper_type=Снятие, amt=54668.93, oper_result=Отказ, terminal=ATM29949\n",
      "trans_id=459271834, trans_date=2020-05-01 20:01:28, card_num=59713542837187994480, oper_type=Пополнение, amt=2433.35, oper_result=Успешно, terminal=ATM91784\n",
      "trans_id=459271835, trans_date=2020-05-01 20:02:18, card_num=45670739608135844685, oper_type=Оплата, amt=93331.1, oper_result=Успешно, terminal=POS16910\n",
      "trans_id=459271836, trans_date=2020-05-01 20:04:33, card_num=56312814791553583437, oper_type=Снятие, amt=44440.18, oper_result=Успешно, terminal=ATM50766\n",
      "trans_id=459271837, trans_date=2020-05-01 20:06:06, card_num=44718749845837690214, oper_type=Пополнение, amt=59161.15, oper_result=Успешно, terminal=POS64475\n",
      "trans_id=459271838, trans_date=2020-05-01 20:08:53, card_num=44578733844930599624, oper_type=Пополнение, amt=85735.28, oper_result=Успешно, terminal=POS37441\n",
      "trans_id=459271839, trans_date=2020-05-01 20:10:00, card_num=48055397287334772152, oper_type=Оплата, amt=86140.12, oper_result=Успешно, terminal=ATM39718\n",
      "trans_id=459271840, trans_date=2020-05-01 20:12:58, card_num=45212158915019588952, oper_type=Оплата, amt=45256.44, oper_result=Успешно, terminal=ATM82015\n",
      "trans_id=459271841, trans_date=2020-05-01 20:14:20, card_num=53768738689301020389, oper_type=Пополнение, amt=89088.54, oper_result=Отказ, terminal=ATM95603\n",
      "trans_id=459271842, trans_date=2020-05-01 20:15:09, card_num=51388492411446799506, oper_type=Снятие, amt=11795.61, oper_result=Успешно, terminal=ATM48336\n",
      "trans_id=459271843, trans_date=2020-05-01 20:16:43, card_num=46500850903692659644, oper_type=Пополнение, amt=77809.32, oper_result=Успешно, terminal=POS43792\n",
      "trans_id=459271844, trans_date=2020-05-01 20:17:31, card_num=56294627338130070952, oper_type=Снятие, amt=14357.8, oper_result=Успешно, terminal=ATM54168\n",
      "trans_id=459271845, trans_date=2020-05-01 20:19:00, card_num=53770152389901989111, oper_type=Пополнение, amt=39552.55, oper_result=Отказ, terminal=POS60871\n",
      "trans_id=459271846, trans_date=2020-05-01 20:21:49, card_num=58114301449160812652, oper_type=Оплата, amt=63348.58, oper_result=Успешно, terminal=ATM88406\n",
      "trans_id=459271847, trans_date=2020-05-01 20:22:30, card_num=48287646823991100317, oper_type=Пополнение, amt=19916.4, oper_result=Успешно, terminal=ATM26332\n",
      "trans_id=459271848, trans_date=2020-05-01 20:25:02, card_num=42625038841120167418, oper_type=Снятие, amt=66838.78, oper_result=Успешно, terminal=POS66772\n",
      "trans_id=459271849, trans_date=2020-05-01 20:26:43, card_num=44603564331899071557, oper_type=Оплата, amt=89215.34, oper_result=Успешно, terminal=POS45875\n",
      "trans_id=459271850, trans_date=2020-05-01 20:29:06, card_num=56775176113683916287, oper_type=Снятие, amt=92000.07, oper_result=Отказ, terminal=POS53745\n",
      "trans_id=459271851, trans_date=2020-05-01 20:31:05, card_num=43395125059422049634, oper_type=Снятие, amt=39931.99, oper_result=Отказ, terminal=POS20393\n",
      "trans_id=459271852, trans_date=2020-05-01 20:32:50, card_num=45189441961807206248, oper_type=Пополнение, amt=47552.73, oper_result=Успешно, terminal=POS66062\n",
      "trans_id=459271853, trans_date=2020-05-01 20:34:51, card_num=44392621689028890198, oper_type=Пополнение, amt=27854.79, oper_result=Успешно, terminal=POS67659\n",
      "повторная карта 44392621689028890198\n",
      "trans_id=459271854, trans_date=2020-05-01 20:36:36, card_num=52092161103266613766, oper_type=Пополнение, amt=61943.08, oper_result=Успешно, terminal=ATM47348\n",
      "trans_id=459271855, trans_date=2020-05-01 20:38:56, card_num=57114805309113781840, oper_type=Снятие, amt=12476.95, oper_result=Успешно, terminal=POS63386\n",
      "trans_id=459271856, trans_date=2020-05-01 20:40:40, card_num=59037808847414561373, oper_type=Пополнение, amt=21538.89, oper_result=Успешно, terminal=POS20393\n",
      "trans_id=459271857, trans_date=2020-05-01 20:41:16, card_num=54809763911595224298, oper_type=Пополнение, amt=50552.62, oper_result=Отказ, terminal=ATM29949\n",
      "trans_id=459271858, trans_date=2020-05-01 20:42:43, card_num=41266346508928571046, oper_type=Оплата, amt=25038.99, oper_result=Успешно, terminal=ATM41209\n",
      "trans_id=459271859, trans_date=2020-05-01 20:45:26, card_num=49718118169221272262, oper_type=Оплата, amt=18607.52, oper_result=Успешно, terminal=ATM47348\n",
      "trans_id=459271860, trans_date=2020-05-01 20:47:08, card_num=48325472439408159295, oper_type=Снятие, amt=38653.33, oper_result=Успешно, terminal=POS82543\n",
      "trans_id=459271861, trans_date=2020-05-01 20:47:38, card_num=57256405232646687177, oper_type=Пополнение, amt=40803.5, oper_result=Успешно, terminal=ATM75799\n",
      "trans_id=459271862, trans_date=2020-05-01 20:49:14, card_num=54194320734252548082, oper_type=Снятие, amt=70784.09, oper_result=Отказ, terminal=POS45568\n",
      "trans_id=459271863, trans_date=2020-05-01 20:51:16, card_num=48580903751579120700, oper_type=Пополнение, amt=79638.65, oper_result=Успешно, terminal=POS43792\n",
      "trans_id=459271864, trans_date=2020-05-01 20:53:05, card_num=45340319809898073287, oper_type=Снятие, amt=69007.86, oper_result=Успешно, terminal=ATM45335\n",
      "trans_id=459271865, trans_date=2020-05-01 20:55:00, card_num=47387861912049626251, oper_type=Оплата, amt=57853.81, oper_result=Успешно, terminal=POS26573\n",
      "trans_id=459271866, trans_date=2020-05-01 20:55:53, card_num=48168893636683511004, oper_type=Пополнение, amt=21979.21, oper_result=Успешно, terminal=ATM39718\n",
      "trans_id=459271867, trans_date=2020-05-01 20:58:33, card_num=52073443418584387906, oper_type=Пополнение, amt=86667.81, oper_result=Отказ, terminal=POS23811\n",
      "trans_id=459271868, trans_date=2020-05-01 21:00:21, card_num=47363291259013321568, oper_type=Оплата, amt=60349.93, oper_result=Успешно, terminal=POS93826\n",
      "trans_id=459271869, trans_date=2020-05-01 21:02:12, card_num=55389299953242789230, oper_type=Снятие, amt=48198.37, oper_result=Отказ, terminal=ATM26332\n",
      "trans_id=459271870, trans_date=2020-05-01 21:04:53, card_num=51922622557101342862, oper_type=Пополнение, amt=56274.37, oper_result=Успешно, terminal=ATM56696\n",
      "trans_id=459271871, trans_date=2020-05-01 21:07:50, card_num=42389622815789772263, oper_type=Снятие, amt=12885.26, oper_result=Успешно, terminal=POS20630\n",
      "trans_id=459271872, trans_date=2020-05-01 21:09:41, card_num=53443580347129089186, oper_type=Оплата, amt=69907.44, oper_result=Успешно, terminal=POS25442\n",
      "trans_id=459271873, trans_date=2020-05-01 21:11:53, card_num=51337010612954797881, oper_type=Пополнение, amt=80962.88, oper_result=Успешно, terminal=POS73362\n",
      "trans_id=459271874, trans_date=2020-05-01 21:12:51, card_num=44203366146691500988, oper_type=Оплата, amt=36973.88, oper_result=Успешно, terminal=ATM84286\n",
      "trans_id=459271875, trans_date=2020-05-01 21:15:10, card_num=42001400706102726880, oper_type=Оплата, amt=69107.19, oper_result=Успешно, terminal=ATM88406\n",
      "trans_id=459271876, trans_date=2020-05-01 21:16:16, card_num=54741534476275892360, oper_type=Пополнение, amt=62470.8, oper_result=Успешно, terminal=ATM69537\n",
      "trans_id=459271877, trans_date=2020-05-01 21:18:14, card_num=41868723076390632532, oper_type=Снятие, amt=65962.04, oper_result=Успешно, terminal=POS23811\n",
      "trans_id=459271878, trans_date=2020-05-01 21:21:02, card_num=48854373296448940924, oper_type=Снятие, amt=4996.58, oper_result=Успешно, terminal=ATM80373\n",
      "trans_id=459271879, trans_date=2020-05-01 21:21:59, card_num=44746242064612408269, oper_type=Пополнение, amt=78566.97, oper_result=Успешно, terminal=ATM69537\n",
      "trans_id=459271880, trans_date=2020-05-01 21:24:30, card_num=52209420239986536524, oper_type=Пополнение, amt=5030.31, oper_result=Отказ, terminal=POS93826\n",
      "trans_id=459271881, trans_date=2020-05-01 21:26:43, card_num=57653913834613441228, oper_type=Оплата, amt=72200.76, oper_result=Успешно, terminal=ATM54985\n",
      "trans_id=459271882, trans_date=2020-05-01 21:28:36, card_num=42960101656809660853, oper_type=Снятие, amt=85447.05, oper_result=Отказ, terminal=ATM41209\n",
      "trans_id=459271883, trans_date=2020-05-01 21:29:14, card_num=56134338023480080668, oper_type=Оплата, amt=59648.01, oper_result=Успешно, terminal=POS13190\n",
      "trans_id=459271884, trans_date=2020-05-01 21:31:42, card_num=46490606113282788739, oper_type=Пополнение, amt=47564.42, oper_result=Успешно, terminal=ATM98530\n",
      "trans_id=459271885, trans_date=2020-05-01 21:34:01, card_num=43895559994890244675, oper_type=Оплата, amt=34413.14, oper_result=Успешно, terminal=POS82543\n",
      "trans_id=459271886, trans_date=2020-05-01 21:36:43, card_num=49202214883688796297, oper_type=Оплата, amt=2316.05, oper_result=Успешно, terminal=ATM47348\n",
      "trans_id=459271887, trans_date=2020-05-01 21:38:44, card_num=52215642582695366747, oper_type=Оплата, amt=82120.71, oper_result=Успешно, terminal=POS85298\n",
      "trans_id=459271888, trans_date=2020-05-01 21:41:30, card_num=47657269915038906771, oper_type=Пополнение, amt=62209.5, oper_result=Успешно, terminal=POS60871\n",
      "trans_id=459271889, trans_date=2020-05-01 21:44:21, card_num=41601818242658340115, oper_type=Пополнение, amt=60056.33, oper_result=Успешно, terminal=ATM93692\n",
      "trans_id=459271890, trans_date=2020-05-01 21:46:53, card_num=58155442986478026637, oper_type=Снятие, amt=31922.34, oper_result=Отказ, terminal=POS45568\n",
      "trans_id=459271891, trans_date=2020-05-01 21:47:58, card_num=58406857666310222001, oper_type=Оплата, amt=95587.23, oper_result=Успешно, terminal=ATM50766\n",
      "trans_id=459271892, trans_date=2020-05-01 21:49:57, card_num=46403033934201654656, oper_type=Снятие, amt=15300.64, oper_result=Отказ, terminal=POS71096\n",
      "trans_id=459271893, trans_date=2020-05-01 21:52:14, card_num=56170608827359423504, oper_type=Снятие, amt=87527.43, oper_result=Отказ, terminal=ATM62930\n",
      "повторная карта 56170608827359423504\n",
      "trans_id=459271894, trans_date=2020-05-01 21:54:11, card_num=55736982798221875957, oper_type=Пополнение, amt=46659.13, oper_result=Успешно, terminal=ATM94006\n",
      "trans_id=459271895, trans_date=2020-05-01 21:55:16, card_num=52654871473596721086, oper_type=Оплата, amt=10937.5, oper_result=Успешно, terminal=ATM45335\n",
      "trans_id=459271896, trans_date=2020-05-01 21:56:00, card_num=54781599282134922711, oper_type=Снятие, amt=81928.71, oper_result=Успешно, terminal=ATM98530\n",
      "trans_id=459271897, trans_date=2020-05-01 21:57:44, card_num=41798488119829700196, oper_type=Пополнение, amt=93407.46, oper_result=Успешно, terminal=ATM88065\n",
      "trans_id=459271898, trans_date=2020-05-01 22:00:29, card_num=53168238121969156937, oper_type=Пополнение, amt=70996.85, oper_result=Отказ, terminal=ATM19940\n",
      "trans_id=459271899, trans_date=2020-05-01 22:01:11, card_num=41424218329229454023, oper_type=Снятие, amt=13285.42, oper_result=Успешно, terminal=POS94907\n",
      "trans_id=459271900, trans_date=2020-05-01 22:04:04, card_num=54202986922833971475, oper_type=Снятие, amt=90866.81, oper_result=Успешно, terminal=POS60036\n",
      "trans_id=459271901, trans_date=2020-05-01 22:06:17, card_num=49604237245642204922, oper_type=Снятие, amt=48117.73, oper_result=Успешно, terminal=POS16910\n",
      "trans_id=459271902, trans_date=2020-05-01 22:08:58, card_num=59830871093447385137, oper_type=Оплата, amt=25800.21, oper_result=Успешно, terminal=ATM84286\n",
      "trans_id=459271903, trans_date=2020-05-01 22:11:40, card_num=59408988584007531330, oper_type=Оплата, amt=3808.57, oper_result=Успешно, terminal=ATM84286\n",
      "trans_id=459271904, trans_date=2020-05-01 22:14:16, card_num=48596331991602757685, oper_type=Оплата, amt=50442.65, oper_result=Отказ, terminal=POS66062\n",
      "trans_id=459271905, trans_date=2020-05-01 22:14:53, card_num=46503971581168522838, oper_type=Пополнение, amt=58599.36, oper_result=Успешно, terminal=ATM89221\n",
      "trans_id=459271906, trans_date=2020-05-01 22:17:33, card_num=48640880864110933597, oper_type=Пополнение, amt=73425.93, oper_result=Успешно, terminal=POS66062\n",
      "trans_id=459271907, trans_date=2020-05-01 22:19:51, card_num=52399411644465474539, oper_type=Снятие, amt=66952.66, oper_result=Успешно, terminal=ATM41209\n",
      "trans_id=459271908, trans_date=2020-05-01 22:20:29, card_num=49136226482477241912, oper_type=Оплата, amt=55182.18, oper_result=Успешно, terminal=ATM94002\n",
      "trans_id=459271909, trans_date=2020-05-01 22:22:28, card_num=46715331851974869886, oper_type=Оплата, amt=5820.28, oper_result=Успешно, terminal=POS45875\n",
      "trans_id=459271910, trans_date=2020-05-01 22:24:12, card_num=56068967008400842346, oper_type=Пополнение, amt=82955.5, oper_result=Отказ, terminal=ATM17215\n",
      "повторная карта 56068967008400842346\n",
      "trans_id=459271911, trans_date=2020-05-01 22:24:46, card_num=44971105569193721434, oper_type=Снятие, amt=87768.29, oper_result=Успешно, terminal=POS73362\n",
      "trans_id=459271912, trans_date=2020-05-01 22:25:23, card_num=47561620011436811818, oper_type=Оплата, amt=39217.83, oper_result=Успешно, terminal=POS85234\n",
      "trans_id=459271913, trans_date=2020-05-01 22:26:51, card_num=57986589801978082993, oper_type=Оплата, amt=97235.44, oper_result=Успешно, terminal=ATM93692\n",
      "trans_id=459271914, trans_date=2020-05-01 22:27:37, card_num=52754174787986183399, oper_type=Снятие, amt=94124.79, oper_result=Успешно, terminal=ATM21750\n",
      "trans_id=459271915, trans_date=2020-05-01 22:28:48, card_num=44218463771196247164, oper_type=Пополнение, amt=93233.11, oper_result=Отказ, terminal=POS48933\n",
      "trans_id=459271916, trans_date=2020-05-01 22:30:55, card_num=52158175417516983774, oper_type=Пополнение, amt=5235.98, oper_result=Отказ, terminal=POS16910\n",
      "trans_id=459271917, trans_date=2020-05-01 22:32:13, card_num=57562356369798513976, oper_type=Оплата, amt=54169.19, oper_result=Успешно, terminal=ATM45335\n",
      "trans_id=459271918, trans_date=2020-05-01 22:34:25, card_num=58498408746617154614, oper_type=Оплата, amt=18102.01, oper_result=Успешно, terminal=POS85234\n",
      "trans_id=459271919, trans_date=2020-05-01 22:36:42, card_num=45390808584423215715, oper_type=Пополнение, amt=39814.74, oper_result=Успешно, terminal=POS64475\n",
      "trans_id=459271920, trans_date=2020-05-01 22:39:19, card_num=44241777674607999340, oper_type=Пополнение, amt=30474.56, oper_result=Успешно, terminal=POS48933\n",
      "trans_id=459271921, trans_date=2020-05-01 22:40:14, card_num=46757323397253716615, oper_type=Оплата, amt=20595.35, oper_result=Успешно, terminal=ATM87646\n",
      "trans_id=459271922, trans_date=2020-05-01 22:42:57, card_num=57098304044295512605, oper_type=Оплата, amt=99273.15, oper_result=Отказ, terminal=POS57136\n",
      "trans_id=459271923, trans_date=2020-05-01 22:43:50, card_num=51526260445031974496, oper_type=Пополнение, amt=37108.35, oper_result=Успешно, terminal=POS93205\n",
      "trans_id=459271924, trans_date=2020-05-01 22:45:41, card_num=49897015611596502156, oper_type=Снятие, amt=66732.86, oper_result=Успешно, terminal=ATM93692\n",
      "trans_id=459271925, trans_date=2020-05-01 22:48:10, card_num=55119674497431449092, oper_type=Оплата, amt=48207.13, oper_result=Успешно, terminal=POS26342\n",
      "trans_id=459271926, trans_date=2020-05-01 22:51:03, card_num=41490454704036785983, oper_type=Оплата, amt=25602.49, oper_result=Успешно, terminal=POS98042\n",
      "trans_id=459271927, trans_date=2020-05-01 22:53:26, card_num=53635405253164592459, oper_type=Оплата, amt=17473.66, oper_result=Успешно, terminal=ATM94002\n",
      "trans_id=459271928, trans_date=2020-05-01 22:54:37, card_num=48074213262868237835, oper_type=Снятие, amt=67044.6, oper_result=Успешно, terminal=POS85298\n",
      "trans_id=459271929, trans_date=2020-05-01 22:55:28, card_num=44812791083827690517, oper_type=Снятие, amt=81467.12, oper_result=Успешно, terminal=POS41732\n",
      "trans_id=459271930, trans_date=2020-05-01 22:57:58, card_num=45049958637874746979, oper_type=Оплата, amt=15955.14, oper_result=Отказ, terminal=ATM21750\n",
      "trans_id=459271931, trans_date=2020-05-01 23:00:53, card_num=44413787954396383009, oper_type=Оплата, amt=41649.01, oper_result=Успешно, terminal=POS71096\n",
      "trans_id=459271932, trans_date=2020-05-01 23:02:52, card_num=52346430804122071477, oper_type=Снятие, amt=63705.8, oper_result=Отказ, terminal=ATM69445\n",
      "trans_id=459271933, trans_date=2020-05-01 23:03:25, card_num=54686568978799281621, oper_type=Оплата, amt=36516.53, oper_result=Успешно, terminal=POS65199\n",
      "trans_id=459271934, trans_date=2020-05-01 23:06:00, card_num=49428762839493753674, oper_type=Снятие, amt=26346.91, oper_result=Успешно, terminal=POS98042\n",
      "trans_id=459271935, trans_date=2020-05-01 23:07:21, card_num=48108520115835237355, oper_type=Оплата, amt=80941.68, oper_result=Успешно, terminal=POS73362\n",
      "trans_id=459271936, trans_date=2020-05-01 23:09:46, card_num=47778573627586540863, oper_type=Пополнение, amt=47794.12, oper_result=Успешно, terminal=ATM69445\n",
      "trans_id=459271937, trans_date=2020-05-01 23:11:29, card_num=45524440271240420499, oper_type=Пополнение, amt=6924.09, oper_result=Успешно, terminal=ATM45335\n",
      "trans_id=459271938, trans_date=2020-05-01 23:12:15, card_num=54579801174388023238, oper_type=Оплата, amt=18946.9, oper_result=Успешно, terminal=ATM72885\n",
      "trans_id=459271939, trans_date=2020-05-01 23:14:04, card_num=57552324452244746919, oper_type=Пополнение, amt=68053.27, oper_result=Отказ, terminal=POS26342\n",
      "trans_id=459271940, trans_date=2020-05-01 23:16:21, card_num=43480130371654733587, oper_type=Снятие, amt=31932.67, oper_result=Успешно, terminal=POS94350\n",
      "trans_id=459271941, trans_date=2020-05-01 23:18:44, card_num=43882130493883267361, oper_type=Пополнение, amt=55570.78, oper_result=Успешно, terminal=ATM47348\n",
      "trans_id=459271942, trans_date=2020-05-01 23:19:34, card_num=45123660097855903452, oper_type=Снятие, amt=53825.85, oper_result=Отказ, terminal=ATM69445\n",
      "trans_id=459271943, trans_date=2020-05-01 23:21:12, card_num=47930309294088832108, oper_type=Пополнение, amt=14861.25, oper_result=Успешно, terminal=POS98042\n",
      "trans_id=459271944, trans_date=2020-05-01 23:22:40, card_num=52441243369737596798, oper_type=Снятие, amt=74139.53, oper_result=Успешно, terminal=ATM41209\n",
      "trans_id=459271945, trans_date=2020-05-01 23:23:14, card_num=49791799403031343168, oper_type=Оплата, amt=79037.84, oper_result=Успешно, terminal=ATM48088\n",
      "trans_id=459271946, trans_date=2020-05-01 23:25:50, card_num=56407951631155359375, oper_type=Снятие, amt=72407.87, oper_result=Успешно, terminal=POS76281\n",
      "trans_id=459271947, trans_date=2020-05-01 23:27:19, card_num=47510083545615404858, oper_type=Пополнение, amt=60615.36, oper_result=Успешно, terminal=POS55335\n",
      "trans_id=459271948, trans_date=2020-05-01 23:30:01, card_num=44375555817820257057, oper_type=Оплата, amt=46375.44, oper_result=Успешно, terminal=ATM21750\n",
      "trans_id=459271949, trans_date=2020-05-01 23:32:42, card_num=44246817876076779001, oper_type=Пополнение, amt=79605.26, oper_result=Успешно, terminal=POS35099\n",
      "trans_id=459271950, trans_date=2020-05-01 23:33:32, card_num=43778166604198951800, oper_type=Пополнение, amt=60083.66, oper_result=Успешно, terminal=POS26573\n",
      "trans_id=459271951, trans_date=2020-05-01 23:35:06, card_num=51070464108704324339, oper_type=Пополнение, amt=61553.21, oper_result=Успешно, terminal=POS33945\n",
      "trans_id=459271952, trans_date=2020-05-01 23:37:19, card_num=49336947838464826501, oper_type=Снятие, amt=26458.5, oper_result=Отказ, terminal=ATM69445\n",
      "trans_id=459271953, trans_date=2020-05-01 23:39:37, card_num=51073574193964969350, oper_type=Пополнение, amt=81242.51, oper_result=Успешно, terminal=ATM72885\n",
      "trans_id=459271954, trans_date=2020-05-01 23:40:45, card_num=48563553558829993838, oper_type=Оплата, amt=69413.89, oper_result=Отказ, terminal=ATM47348\n",
      "trans_id=459271955, trans_date=2020-05-01 23:43:08, card_num=59954824871713725805, oper_type=Снятие, amt=91672.76, oper_result=Успешно, terminal=ATM48336\n",
      "trans_id=459271956, trans_date=2020-05-01 23:45:07, card_num=41966747844436219198, oper_type=Снятие, amt=60771.75, oper_result=Успешно, terminal=POS13643\n",
      "trans_id=459271957, trans_date=2020-05-01 23:47:19, card_num=57657590075878777105, oper_type=Снятие, amt=78793.94, oper_result=Отказ, terminal=POS93205\n",
      "trans_id=459271958, trans_date=2020-05-01 23:49:41, card_num=56576381765210343330, oper_type=Пополнение, amt=52207.88, oper_result=Успешно, terminal=ATM50766\n",
      "trans_id=459271959, trans_date=2020-05-01 23:51:13, card_num=41386988069213236445, oper_type=Оплата, amt=64831.65, oper_result=Успешно, terminal=ATM27913\n",
      "trans_id=459271960, trans_date=2020-05-01 23:53:40, card_num=43647149504849907260, oper_type=Снятие, amt=11174.19, oper_result=Успешно, terminal=ATM17215\n",
      "trans_id=459271961, trans_date=2020-05-01 23:54:41, card_num=47711109293248987223, oper_type=Пополнение, amt=21891.67, oper_result=Успешно, terminal=ATM61912\n",
      "trans_id=459271962, trans_date=2020-05-01 23:56:42, card_num=58287969048597193522, oper_type=Оплата, amt=80297.34, oper_result=Отказ, terminal=ATM48088\n",
      "trans_id=459271963, trans_date=2020-05-01 23:58:55, card_num=46371830837060927776, oper_type=Оплата, amt=72366.93, oper_result=Успешно, terminal=POS66062\n"
     ]
    }
   ],
   "source": [
    "counter = 0\n",
    "for i in range(len(stage)):\n",
    "    # вероятнее всего надо сделать проверку, что stage.date > meta.date\n",
    "    \n",
    "    #вносим транзакцию\n",
    "    transaction = fill_transaction(stage, i)\n",
    "    print(transaction)\n",
    "    #если дата транакции <= даты обновления мета-информации, то такую траназкцию пропускаем\n",
    "    if (transaction.trans_date <= meta_instance.last_update_date):\n",
    "        continue\n",
    "    c.execute(transaction.insert(transaction.trans_date))\n",
    "    \n",
    "    \n",
    "#   вносим терминал\n",
    "    terminal = fill_terminal(stage, i)\n",
    "    c.execute(f\"select count(*) from {TERMINALS} where terminal='{terminal.terminal_id}'\")\n",
    "    for row in c:\n",
    "        counter = row[0]\n",
    "        \n",
    "    if (counter == 0):\n",
    "        c.execute(terminal.insert(transaction.trans_date))\n",
    "    else :\n",
    "        c.execute(f\"select * from {TERMINALS} WHERE terminal='{terminal.terminal_id}' and end_dt is null\")\n",
    "        #тут будет одна сктрока - для которой отсутвует end_dt\n",
    "        for row in c:\n",
    "#             print(row)\n",
    "            \n",
    "            terminal_from_sql = class_terminals(row[0], row[1], row[2], row[3])\n",
    "            if(terminal_from_sql != terminal):\n",
    "                print(\"not equal\")\n",
    "                v.execute(f\"\"\"update {TERMINALS} set end_dt = strftime('%Y-%m-%d %H:%M:%S', '{transaction.trans_date}')\n",
    "                          where terminal='{terminal.terminal_id}' and end_dt is null\"\"\")\n",
    "                v.execute(terminal.insert(transaction.trans_date))\n",
    "            \n",
    "    #вносим карты\n",
    "    card = fill_card(stage, i)\n",
    "    c.execute(f\"select count(*) from {CARDS} where card_num='{card.card_num}'\")\n",
    "    for row in c:\n",
    "        counter = row[0]\n",
    "    #сделал аналогично транзакциям\n",
    "    if (counter == 0):\n",
    "        c.execute(card.insert(transaction.trans_date))\n",
    "    else :\n",
    "        print(f\"повторная карта {card.card_num}\")\n",
    "        c.execute(f\"select * from {CARDS} WHERE card_num='{card.card_num}' AND end_dt is null\")\n",
    "        for row in c:\n",
    "            card_from_sql = class_cards(row[0], row[1])\n",
    "            if(card_from_sql != card):\n",
    "                v.execute(f\"\"\"update {CARDS} set end_dt = strftime('%Y-%m-%d %H:%M:%S', '{transaction.trans_date}')\n",
    "                          where card_num='{card.card_num}' and end_dt is null\"\"\")\n",
    "                v.execute(card.insert(transaction.trans_date))\n",
    "        \n",
    "    #вносим аккаунты\n",
    "    account = fill_account(stage, i)\n",
    "    c.execute(f\"select count(*) from {ACCOUNTS} where account_num='{account.account_num}'\")\n",
    "    for row in c:\n",
    "        counter = row[0]\n",
    "    if (counter == 0):\n",
    "        c.execute(account.insert(transaction.trans_date))\n",
    "    else :\n",
    "        c.execute(f\"select * from {ACCOUNTS} WHERE account_num='{account.account_num}' AND end_dt is null\")\n",
    "#         #тут будет одна сктрока - для которой отсутвует end_dt\n",
    "        for row in c:\n",
    "            account_from_sql = class_accounts(row[0], row[1], row[2])\n",
    "            if(account_from_sql != account):\n",
    "#                 print(account.account_num)\n",
    "                v.execute(f\"\"\"update {ACCOUNTS} set end_dt = strftime('%Y-%m-%d %H:%M:%S', '{transaction.trans_date}')\n",
    "                          where account_num='{account.account_num}' and end_dt is null\"\"\")\n",
    "                v.execute(account.insert(transaction.trans_date))\n",
    "\n",
    "    #вносим клиентов\n",
    "    client = fill_client(stage, i)\n",
    "    c.execute(f\"select count(*) from {CLIENTS} where client_id='{client.client_id}'\")\n",
    "    for row in c:\n",
    "        counter = row[0]\n",
    "    if (counter == 0):\n",
    "        c.execute(client.insert(transaction.trans_date))\n",
    "    else:\n",
    "        c.execute(f\"select * from {CLIENTS} WHERE client_id='{client.client_id}' AND end_dt is null\")\n",
    "        for row in c:\n",
    "            client_from_sql = class_clients(row[0],row[1],row[2],row[3],row[4],row[5],row[6],row[7])\n",
    "            if(client_from_sql != client):\n",
    "                v.execute(f\"\"\"update {CLIENTS} set end_dt = strftime('%Y-%m-%d %H:%M:%S', '{transaction.trans_date}')\n",
    "                          where client_id='{client.client_id}' and end_dt is null\"\"\")\n",
    "                v.execute(client.insert(transaction.trans_date))\n",
    "                \n",
    "    c.execute(\"commit\")\n",
    "    # v.execute('commit')"
   ]
  },
  {
   "cell_type": "code",
   "execution_count": 61,
   "id": "7742c5c9",
   "metadata": {
    "pycharm": {
     "name": "#%%\n"
    }
   },
   "outputs": [],
   "source": [
    "meta_instance.last_update_date = stage['date'].max()"
   ]
  },
  {
   "cell_type": "markdown",
   "id": "9eec29a7",
   "metadata": {
    "pycharm": {
     "name": "#%% md\n"
    }
   },
   "source": [
    "# Построение отчета"
   ]
  },
  {
   "cell_type": "markdown",
   "id": "6f89040d",
   "metadata": {
    "pycharm": {
     "name": "#%% md\n"
    }
   },
   "source": [
    "## определяем вспомагательные функции\n",
    "\n",
    "Логика следующая:\n",
    "1) определяем две функции для корректной состыковки таблиц на основе start_dt и end_dt\n",
    "2) определяем функцию, которая красиво будет переписывать строку из sql-запросов в .txt файл"
   ]
  },
  {
   "cell_type": "code",
   "execution_count": 62,
   "id": "58030cd2",
   "metadata": {
    "pycharm": {
     "name": "#%%\n"
    }
   },
   "outputs": [],
   "source": [
    "def getter_cards_accounts_clients():\n",
    "    '''\n",
    "возвращает условие для корректного джоина\n",
    "    '''\n",
    "    return f\"\"\"\n",
    "CAST(strftime('%s', {TRANSACTION}.trans_date) as integer)  >= CAST(strftime('%s', {CARDS}.start_dt ) as integer)\n",
    "   and CAST(strftime('%s', {TRANSACTION}.trans_date) as integer) < CAST(strftime('%s', coalesce({CARDS}.end_dt, strftime('%Y-%m-%d %H:%M:%S', '9999-12-12 00:00:00'))) as integer)\n",
    "and\n",
    "CAST(strftime('%s', {TRANSACTION}.trans_date) as integer)  >= CAST(strftime('%s', {ACCOUNTS}.start_dt ) as integer)\n",
    "   and CAST(strftime('%s', {TRANSACTION}.trans_date) as integer) < CAST(strftime('%s', coalesce({ACCOUNTS}.end_dt, strftime('%Y-%m-%d %H:%M:%S', '9999-12-12 00:00:00'))) as integer)\n",
    "   and\n",
    "CAST(strftime('%s', {TRANSACTION}.trans_date) as integer)  >= CAST(strftime('%s', {CLIENTS}.start_dt ) as integer)\n",
    "   and CAST(strftime('%s', {TRANSACTION}.trans_date) as integer) < CAST(strftime('%s', coalesce({CLIENTS}.end_dt, strftime('%Y-%m-%d %H:%M:%S', '9999-12-12 00:00:00'))) as integer)\n",
    "    \"\"\""
   ]
  },
  {
   "cell_type": "code",
   "execution_count": 63,
   "id": "194c5f0e",
   "metadata": {
    "pycharm": {
     "name": "#%%\n"
    }
   },
   "outputs": [],
   "source": [
    "def getter_cards_accounts_clients_terminals():\n",
    "    '''\n",
    "возвращает условие для корректного джоина\n",
    "    '''\n",
    "    return f\"\"\"\n",
    "CAST(strftime('%s', {TRANSACTION}.trans_date) as integer)  >= CAST(strftime('%s', {CARDS}.start_dt ) as integer)\n",
    "   and CAST(strftime('%s', {TRANSACTION}.trans_date) as integer) < CAST(strftime('%s', coalesce({CARDS}.end_dt, strftime('%Y-%m-%d %H:%M:%S', '9999-12-12 00:00:00'))) as integer)\n",
    "and\n",
    "CAST(strftime('%s', {TRANSACTION}.trans_date) as integer)  >= CAST(strftime('%s', {ACCOUNTS}.start_dt ) as integer)\n",
    "   and CAST(strftime('%s', {TRANSACTION}.trans_date) as integer) < CAST(strftime('%s', coalesce({ACCOUNTS}.end_dt, strftime('%Y-%m-%d %H:%M:%S', '9999-12-12 00:00:00'))) as integer)\n",
    "and\n",
    "CAST(strftime('%s', {TRANSACTION}.trans_date) as integer)  >= CAST(strftime('%s', {CLIENTS}.start_dt ) as integer)\n",
    "   and CAST(strftime('%s', {TRANSACTION}.trans_date) as integer) < CAST(strftime('%s', coalesce({CLIENTS}.end_dt, strftime('%Y-%m-%d %H:%M:%S', '9999-12-12 00:00:00'))) as integer)\n",
    "and\n",
    "CAST(strftime('%s', {TRANSACTION}.trans_date) as integer)  >= CAST(strftime('%s', {TERMINALS}.start_dt ) as integer)\n",
    "   and CAST(strftime('%s', {TRANSACTION}.trans_date) as integer) < CAST(strftime('%s', coalesce({TERMINALS}.end_dt, strftime('%Y-%m-%d %H:%M:%S', '9999-12-12 00:00:00'))) as integer)\n",
    "    \"\"\""
   ]
  },
  {
   "cell_type": "code",
   "execution_count": 64,
   "id": "26577b8f",
   "metadata": {
    "pycharm": {
     "name": "#%%\n"
    }
   },
   "outputs": [],
   "source": [
    "def row_to_fraud_str(row):\n",
    "    \"\"\"преобразуем полученную строку в строку для отчета\"\"\"\n",
    "    return (f\"дата транзакции '{row[0]}'\" +\n",
    "            f\", номер паспорта клиента '{row[1]}'\" +\n",
    "            f\", ФИО клиента '{row[2]} {row[3]} {row[4]}'\" +\n",
    "            f\", номер телефона '{row[5]}'\" +\n",
    "            f\", описание типа предпалагаемого мошеничества '{row[6]}'\" +\n",
    "            f\", время построения отчета '{row[7]}'\" +\n",
    "            \"\\n\")"
   ]
  },
  {
   "cell_type": "code",
   "execution_count": 65,
   "id": "f7d96064",
   "metadata": {
    "pycharm": {
     "name": "#%%\n"
    }
   },
   "outputs": [],
   "source": [
    "import os.path\n",
    "if os.path.exists('report.csv'):\n",
    "    reportDf = pd.read_csv('report.csv')\n",
    "else:\n",
    "    reportDf = pd.DataFrame(columns=['fraud_dt', 'passport', 'last_name', 'first_name', 'patronymic', 'phone', 'fraud_type', 'report_dt'])"
   ]
  },
  {
   "cell_type": "markdown",
   "id": "574ed1c4",
   "metadata": {
    "pycharm": {
     "name": "#%% md\n"
    }
   },
   "source": [
    "## Выполняем поиск нарушений\n",
    "\n",
    "Логика следующая:\n",
    "1) выполняем select-запрос, который находит все нарушения по типу\n",
    "\n",
    "2) записываем полученные результаты в .txt файл и выводим в output (для наглядности)\n",
    "\n",
    "3) обновляем мета-информацию:\n",
    "\n",
    "Для нарушений по паспорту и договору meta информация содержит максимальную дату из stage.\n",
    "\n",
    "Для разных городов и подбора сумм логика обновления соответсвующей meta-информации немножного другая. Тк нам необходимо учитывать для функции LAG данные с прошлого дня. Поэтому в meta информацию мы кладем 23:40 или 23:00. Старые данные не будут учитываться дважды, тк в конечном select мы делаем условие вывода данные только с новой даты с помощью функции get_date(meta_insatnce.last_update_date) - она вернет полночь наступившей даты, тк мета информация уже была обновлена."
   ]
  },
  {
   "cell_type": "markdown",
   "id": "45a69e3e",
   "metadata": {
    "pycharm": {
     "name": "#%% md\n"
    }
   },
   "source": [
    "### просроченный паспорт"
   ]
  },
  {
   "cell_type": "code",
   "execution_count": 66,
   "outputs": [
    {
     "data": {
      "text/plain": "Empty DataFrame\nColumns: [fraud_dt, passport, last_name, first_name, patronymic, phone, fraud_type, report_dt]\nIndex: []",
      "text/html": "<div>\n<style scoped>\n    .dataframe tbody tr th:only-of-type {\n        vertical-align: middle;\n    }\n\n    .dataframe tbody tr th {\n        vertical-align: top;\n    }\n\n    .dataframe thead th {\n        text-align: right;\n    }\n</style>\n<table border=\"1\" class=\"dataframe\">\n  <thead>\n    <tr style=\"text-align: right;\">\n      <th></th>\n      <th>fraud_dt</th>\n      <th>passport</th>\n      <th>last_name</th>\n      <th>first_name</th>\n      <th>patronymic</th>\n      <th>phone</th>\n      <th>fraud_type</th>\n      <th>report_dt</th>\n    </tr>\n  </thead>\n  <tbody>\n  </tbody>\n</table>\n</div>"
     },
     "execution_count": 66,
     "metadata": {},
     "output_type": "execute_result"
    }
   ],
   "source": [
    "passportDf = pd.read_sql_query(f\"\"\"\n",
    "select\n",
    "    fraud_dt\n",
    "    , passport\n",
    "    , last_name\n",
    "    , first_name\n",
    "    , patronymic\n",
    "    , phone\n",
    "    , fraud_type\n",
    "    , report_dt\n",
    "from (\n",
    "    select\n",
    "    trans_date as fraud_dt,\n",
    "    passport_num as passport,\n",
    "    last_name\n",
    "    ,first_name,\n",
    "    patronymic,\n",
    "    phone,\n",
    "    'passport is outdated' as fraud_type,\n",
    "    strftime('%Y-%m-%d %H:%M:%S', 'now') as report_dt\n",
    "    , case\n",
    "        when CAST(strftime('%s', passport_valid_to, '+1 day') as integer) - CAST(strftime('%s', trans_date) as integer) > 0 then 0 --добавляем 1 день к дате паспорта\n",
    "        else 1\n",
    "    end as flag\n",
    "    from {TRANSACTION}\n",
    "        left join {CARDS} on {TRANSACTION}.card_num = {CARDS}.card_num\n",
    "        left join {ACCOUNTS} on {CARDS}.account_num = {ACCOUNTS}.account_num\n",
    "        left join {CLIENTS} on  {ACCOUNTS}.client = {CLIENTS}.client_id\n",
    "    where CAST(strftime('%s', trans_date) as integer)  > CAST(strftime('%s', strftime('%Y-%m-%d %H:%M:%S', '{meta_instance.passport_date}')) as integer)\n",
    "    and {getter_cards_accounts_clients()}\n",
    ")\n",
    "where flag = 1\n",
    "\"\"\", conn)\n",
    "passportDf"
   ],
   "metadata": {
    "collapsed": false,
    "pycharm": {
     "name": "#%%\n"
    }
   }
  },
  {
   "cell_type": "code",
   "execution_count": 67,
   "id": "581042b4",
   "metadata": {
    "pycharm": {
     "name": "#%%\n"
    }
   },
   "outputs": [],
   "source": [
    "reportDf = pd.concat([reportDf, passportDf], ignore_index=True)\n",
    "reportDf.to_csv('report.csv')"
   ]
  },
  {
   "cell_type": "code",
   "execution_count": 68,
   "id": "6fda0fac",
   "metadata": {
    "pycharm": {
     "name": "#%%\n"
    }
   },
   "outputs": [
    {
     "data": {
      "text/plain": "Timestamp('2020-05-01 23:58:55')"
     },
     "execution_count": 68,
     "metadata": {},
     "output_type": "execute_result"
    }
   ],
   "source": [
    "#обновляем информацию меты. В качестве максимальной даты берем время самого последнего запроса из stage.\n",
    "meta_instance.passport_date = meta_instance.last_update_date\n",
    "meta_instance.passport_date"
   ]
  },
  {
   "cell_type": "markdown",
   "id": "efe2f3b4",
   "metadata": {
    "pycharm": {
     "name": "#%% md\n"
    }
   },
   "source": [
    "### просроченный договор"
   ]
  },
  {
   "cell_type": "code",
   "execution_count": 69,
   "outputs": [
    {
     "data": {
      "text/plain": "              fraud_dt    passport  last_name first_name      patronymic  \\\n0  2020-05-01 02:45:05  5263317668  Петропуло    Евгений        Павлович   \n1  2020-05-01 04:54:37  8108438217    Антощук      Игорь    Владимирович   \n2  2020-05-01 05:10:50  9600352239    Гуляков     Михаил   Александрович   \n3  2020-05-01 12:37:08  5670092603   Поджарый      Роман  Константинович   \n4  2020-05-01 14:18:08  3904347595       Фель    Евгений       Никитович   \n5  2020-05-01 14:40:41  6403074379    Ачентов      Антон      Дмитриевич   \n\n         phone           fraud_type            report_dt  \n0  79714131751  account is outdated  2022-09-04 09:39:04  \n1  79451696230  account is outdated  2022-09-04 09:39:04  \n2  79529669124  account is outdated  2022-09-04 09:39:04  \n3  79410212254  account is outdated  2022-09-04 09:39:04  \n4  79692321575  account is outdated  2022-09-04 09:39:04  \n5  79458324907  account is outdated  2022-09-04 09:39:04  ",
      "text/html": "<div>\n<style scoped>\n    .dataframe tbody tr th:only-of-type {\n        vertical-align: middle;\n    }\n\n    .dataframe tbody tr th {\n        vertical-align: top;\n    }\n\n    .dataframe thead th {\n        text-align: right;\n    }\n</style>\n<table border=\"1\" class=\"dataframe\">\n  <thead>\n    <tr style=\"text-align: right;\">\n      <th></th>\n      <th>fraud_dt</th>\n      <th>passport</th>\n      <th>last_name</th>\n      <th>first_name</th>\n      <th>patronymic</th>\n      <th>phone</th>\n      <th>fraud_type</th>\n      <th>report_dt</th>\n    </tr>\n  </thead>\n  <tbody>\n    <tr>\n      <th>0</th>\n      <td>2020-05-01 02:45:05</td>\n      <td>5263317668</td>\n      <td>Петропуло</td>\n      <td>Евгений</td>\n      <td>Павлович</td>\n      <td>79714131751</td>\n      <td>account is outdated</td>\n      <td>2022-09-04 09:39:04</td>\n    </tr>\n    <tr>\n      <th>1</th>\n      <td>2020-05-01 04:54:37</td>\n      <td>8108438217</td>\n      <td>Антощук</td>\n      <td>Игорь</td>\n      <td>Владимирович</td>\n      <td>79451696230</td>\n      <td>account is outdated</td>\n      <td>2022-09-04 09:39:04</td>\n    </tr>\n    <tr>\n      <th>2</th>\n      <td>2020-05-01 05:10:50</td>\n      <td>9600352239</td>\n      <td>Гуляков</td>\n      <td>Михаил</td>\n      <td>Александрович</td>\n      <td>79529669124</td>\n      <td>account is outdated</td>\n      <td>2022-09-04 09:39:04</td>\n    </tr>\n    <tr>\n      <th>3</th>\n      <td>2020-05-01 12:37:08</td>\n      <td>5670092603</td>\n      <td>Поджарый</td>\n      <td>Роман</td>\n      <td>Константинович</td>\n      <td>79410212254</td>\n      <td>account is outdated</td>\n      <td>2022-09-04 09:39:04</td>\n    </tr>\n    <tr>\n      <th>4</th>\n      <td>2020-05-01 14:18:08</td>\n      <td>3904347595</td>\n      <td>Фель</td>\n      <td>Евгений</td>\n      <td>Никитович</td>\n      <td>79692321575</td>\n      <td>account is outdated</td>\n      <td>2022-09-04 09:39:04</td>\n    </tr>\n    <tr>\n      <th>5</th>\n      <td>2020-05-01 14:40:41</td>\n      <td>6403074379</td>\n      <td>Ачентов</td>\n      <td>Антон</td>\n      <td>Дмитриевич</td>\n      <td>79458324907</td>\n      <td>account is outdated</td>\n      <td>2022-09-04 09:39:04</td>\n    </tr>\n  </tbody>\n</table>\n</div>"
     },
     "execution_count": 69,
     "metadata": {},
     "output_type": "execute_result"
    }
   ],
   "source": [
    "accountDf = pd.read_sql_query(f\"\"\"\n",
    "select\n",
    "    fraud_dt\n",
    "    , passport\n",
    "    , last_name\n",
    "    , first_name\n",
    "    , patronymic\n",
    "    , phone\n",
    "    , fraud_type\n",
    "    , report_dt\n",
    "from (\n",
    "    select\n",
    "        trans_date as fraud_dt,\n",
    "        passport_num as passport,\n",
    "        last_name,\n",
    "        first_name,\n",
    "        patronymic,\n",
    "        phone,\n",
    "        'account is outdated' as fraud_type,\n",
    "        strftime('%Y-%m-%d %H:%M:%S', 'now') as report_dt,\n",
    "        trans_date\n",
    "        , passport_valid_to\n",
    "        , valid_to - trans_date\n",
    "        , case\n",
    "            when CAST(strftime('%s', valid_to, '+1 day') as integer) - CAST(strftime('%s', trans_date) as integer) > 0 then 0 --добавляем 1 день к дате паспорта\n",
    "            else 1\n",
    "        end as flag\n",
    "    from {TRANSACTION}\n",
    "    left join {CARDS} on {TRANSACTION}.card_num = {CARDS}.card_num\n",
    "    left join {ACCOUNTS} on {CARDS}.account_num = {ACCOUNTS}.account_num\n",
    "    left join {CLIENTS} on  {ACCOUNTS}.client = {CLIENTS}.client_id\n",
    "    where CAST(strftime('%s', trans_date) as integer)  > CAST(strftime('%s', strftime('%Y-%m-%d %H:%M:%S', '{meta_instance.account_date}')) as integer)\n",
    "    and {getter_cards_accounts_clients()}\n",
    ")\n",
    "where flag = 1\n",
    "\"\"\", conn)\n",
    "accountDf"
   ],
   "metadata": {
    "collapsed": false,
    "pycharm": {
     "name": "#%%\n"
    }
   }
  },
  {
   "cell_type": "code",
   "execution_count": 70,
   "id": "d585e006",
   "metadata": {
    "pycharm": {
     "name": "#%%\n"
    }
   },
   "outputs": [],
   "source": [
    "reportDf = pd.concat([reportDf, accountDf], ignore_index=True)\n",
    "reportDf.to_csv('report.csv')"
   ]
  },
  {
   "cell_type": "code",
   "execution_count": 71,
   "id": "bea5da04",
   "metadata": {
    "pycharm": {
     "name": "#%%\n"
    }
   },
   "outputs": [
    {
     "data": {
      "text/plain": "Timestamp('2020-05-01 23:58:55')"
     },
     "execution_count": 71,
     "metadata": {},
     "output_type": "execute_result"
    }
   ],
   "source": [
    "#обновляем информацию меты\n",
    "meta_instance.account_date = meta_instance.last_update_date\n",
    "meta_instance.account_date"
   ]
  },
  {
   "cell_type": "markdown",
   "id": "1f122b65",
   "metadata": {
    "pycharm": {
     "name": "#%% md\n"
    }
   },
   "source": [
    "### Разные города"
   ]
  },
  {
   "cell_type": "code",
   "execution_count": 72,
   "outputs": [
    {
     "data": {
      "text/plain": "Timestamp('1990-01-01 00:00:00')"
     },
     "execution_count": 72,
     "metadata": {},
     "output_type": "execute_result"
    }
   ],
   "source": [
    "meta_instance.city_date"
   ],
   "metadata": {
    "collapsed": false,
    "pycharm": {
     "name": "#%%\n"
    }
   }
  },
  {
   "cell_type": "code",
   "execution_count": 73,
   "outputs": [],
   "source": [
    "def get_date(q):\n",
    "    \"\"\"получаем полночь переданной даты\"\"\"\n",
    "    if len(str(q.month)) < 2:\n",
    "        MONTH = '0' + str(q.month)\n",
    "    else:\n",
    "        MONTH = str(q.month)\n",
    "\n",
    "    if len(str(q.day)) < 2:\n",
    "        DAY = '0' + str(q.day)\n",
    "    else:\n",
    "        DAY = str(q.day)\n",
    "    return pd.Timestamp(str(q.year) + '-' + MONTH + '-' + DAY + ' 00:00:00')"
   ],
   "metadata": {
    "collapsed": false,
    "pycharm": {
     "name": "#%%\n"
    }
   }
  },
  {
   "cell_type": "code",
   "execution_count": 74,
   "outputs": [
    {
     "data": {
      "text/plain": "                fraud_dt    passport  last_name  first_name  patronymic  \\\n0    2020-05-01 06:43:17  8611132511       Фель  Константин  Васильевич   \n1    2020-05-01 14:20:50  8611132511       Фель  Константин  Васильевич   \n2    2020-05-01 19:39:12  5142842911   Барецкий        Олег    Олегович   \n3    2020-05-01 22:14:53  5142842911   Барецкий        Олег    Олегович   \n4    2020-05-01 23:11:29  5142842911   Барецкий        Олег    Олегович   \n..                   ...         ...        ...         ...         ...   \n221  2020-05-01 09:10:27  5263317668  Петропуло     Евгений    Павлович   \n222  2020-05-01 09:31:37  5263317668  Петропуло     Евгений    Павлович   \n223  2020-05-01 11:59:52  5263317668  Петропуло     Евгений    Павлович   \n224  2020-05-01 12:41:44  5263317668  Петропуло     Евгений    Павлович   \n225  2020-05-01 17:32:58  5263317668  Петропуло     Евгений    Павлович   \n\n           phone  fraud_type            report_dt  \n0    79727028539  city fraud  2022-09-04 09:39:04  \n1    79727028539  city fraud  2022-09-04 09:39:04  \n2    79810391232  city fraud  2022-09-04 09:39:04  \n3    79810391232  city fraud  2022-09-04 09:39:04  \n4    79810391232  city fraud  2022-09-04 09:39:04  \n..           ...         ...                  ...  \n221  79714131751  city fraud  2022-09-04 09:39:04  \n222  79714131751  city fraud  2022-09-04 09:39:04  \n223  79714131751  city fraud  2022-09-04 09:39:04  \n224  79714131751  city fraud  2022-09-04 09:39:04  \n225  79714131751  city fraud  2022-09-04 09:39:04  \n\n[226 rows x 8 columns]",
      "text/html": "<div>\n<style scoped>\n    .dataframe tbody tr th:only-of-type {\n        vertical-align: middle;\n    }\n\n    .dataframe tbody tr th {\n        vertical-align: top;\n    }\n\n    .dataframe thead th {\n        text-align: right;\n    }\n</style>\n<table border=\"1\" class=\"dataframe\">\n  <thead>\n    <tr style=\"text-align: right;\">\n      <th></th>\n      <th>fraud_dt</th>\n      <th>passport</th>\n      <th>last_name</th>\n      <th>first_name</th>\n      <th>patronymic</th>\n      <th>phone</th>\n      <th>fraud_type</th>\n      <th>report_dt</th>\n    </tr>\n  </thead>\n  <tbody>\n    <tr>\n      <th>0</th>\n      <td>2020-05-01 06:43:17</td>\n      <td>8611132511</td>\n      <td>Фель</td>\n      <td>Константин</td>\n      <td>Васильевич</td>\n      <td>79727028539</td>\n      <td>city fraud</td>\n      <td>2022-09-04 09:39:04</td>\n    </tr>\n    <tr>\n      <th>1</th>\n      <td>2020-05-01 14:20:50</td>\n      <td>8611132511</td>\n      <td>Фель</td>\n      <td>Константин</td>\n      <td>Васильевич</td>\n      <td>79727028539</td>\n      <td>city fraud</td>\n      <td>2022-09-04 09:39:04</td>\n    </tr>\n    <tr>\n      <th>2</th>\n      <td>2020-05-01 19:39:12</td>\n      <td>5142842911</td>\n      <td>Барецкий</td>\n      <td>Олег</td>\n      <td>Олегович</td>\n      <td>79810391232</td>\n      <td>city fraud</td>\n      <td>2022-09-04 09:39:04</td>\n    </tr>\n    <tr>\n      <th>3</th>\n      <td>2020-05-01 22:14:53</td>\n      <td>5142842911</td>\n      <td>Барецкий</td>\n      <td>Олег</td>\n      <td>Олегович</td>\n      <td>79810391232</td>\n      <td>city fraud</td>\n      <td>2022-09-04 09:39:04</td>\n    </tr>\n    <tr>\n      <th>4</th>\n      <td>2020-05-01 23:11:29</td>\n      <td>5142842911</td>\n      <td>Барецкий</td>\n      <td>Олег</td>\n      <td>Олегович</td>\n      <td>79810391232</td>\n      <td>city fraud</td>\n      <td>2022-09-04 09:39:04</td>\n    </tr>\n    <tr>\n      <th>...</th>\n      <td>...</td>\n      <td>...</td>\n      <td>...</td>\n      <td>...</td>\n      <td>...</td>\n      <td>...</td>\n      <td>...</td>\n      <td>...</td>\n    </tr>\n    <tr>\n      <th>221</th>\n      <td>2020-05-01 09:10:27</td>\n      <td>5263317668</td>\n      <td>Петропуло</td>\n      <td>Евгений</td>\n      <td>Павлович</td>\n      <td>79714131751</td>\n      <td>city fraud</td>\n      <td>2022-09-04 09:39:04</td>\n    </tr>\n    <tr>\n      <th>222</th>\n      <td>2020-05-01 09:31:37</td>\n      <td>5263317668</td>\n      <td>Петропуло</td>\n      <td>Евгений</td>\n      <td>Павлович</td>\n      <td>79714131751</td>\n      <td>city fraud</td>\n      <td>2022-09-04 09:39:04</td>\n    </tr>\n    <tr>\n      <th>223</th>\n      <td>2020-05-01 11:59:52</td>\n      <td>5263317668</td>\n      <td>Петропуло</td>\n      <td>Евгений</td>\n      <td>Павлович</td>\n      <td>79714131751</td>\n      <td>city fraud</td>\n      <td>2022-09-04 09:39:04</td>\n    </tr>\n    <tr>\n      <th>224</th>\n      <td>2020-05-01 12:41:44</td>\n      <td>5263317668</td>\n      <td>Петропуло</td>\n      <td>Евгений</td>\n      <td>Павлович</td>\n      <td>79714131751</td>\n      <td>city fraud</td>\n      <td>2022-09-04 09:39:04</td>\n    </tr>\n    <tr>\n      <th>225</th>\n      <td>2020-05-01 17:32:58</td>\n      <td>5263317668</td>\n      <td>Петропуло</td>\n      <td>Евгений</td>\n      <td>Павлович</td>\n      <td>79714131751</td>\n      <td>city fraud</td>\n      <td>2022-09-04 09:39:04</td>\n    </tr>\n  </tbody>\n</table>\n<p>226 rows × 8 columns</p>\n</div>"
     },
     "execution_count": 74,
     "metadata": {},
     "output_type": "execute_result"
    }
   ],
   "source": [
    "cityDf = pd.read_sql_query(f\"\"\"\n",
    "select\n",
    "    fraud_dt,\n",
    "    passport,\n",
    "    last_name,\n",
    "    first_name,\n",
    "    patronymic,\n",
    "    phone,\n",
    "    'city fraud' as fraud_type,\n",
    "    strftime('%Y-%m-%d %H:%M:%S', 'now') as report_dt\n",
    "from\n",
    "(\n",
    "    select\n",
    "        t.*\n",
    "    from\n",
    "    (\n",
    "        select\n",
    "            trans_id,\n",
    "            trans_date\n",
    "            , {ACCOUNTS}.client as client\n",
    "            , trans_date as dt\n",
    "             , LAG (trans_date , 1 , strftime('%Y-%m-%d %H:%M:%S', '1900.01.01 10:10:10')) OVER (PARTITION by client order by trans_date)  as lag_dt\n",
    "             , CAST(strftime('%s', trans_date) as integer) - CAST(strftime('%s', LAG (trans_date , 1 , strftime('%Y-%m-%d %H:%M:%S', '1900.01.01 10:10:10')) OVER (PARTITION by client order by trans_date)) as integer) as diff --разница в секундах\n",
    "            , terminal_city\n",
    "            , LAG (terminal_city, 1, null) OVER (PARTITION by client order by trans_date) as city2\n",
    "            , trans_date as fraud_dt\n",
    "            , passport_num as passport\n",
    "            , last_name\n",
    "            , first_name\n",
    "            , patronymic\n",
    "            , phone\n",
    "        from {TRANSACTION}\n",
    "            left join {CARDS} on {TRANSACTION}.card_num = {CARDS}.card_num\n",
    "            left join {ACCOUNTS} on {CARDS}.account_num = {ACCOUNTS}.account_num\n",
    "            left join {CLIENTS} on  {ACCOUNTS}.client = {CLIENTS}.client_id\n",
    "            left join {TERMINALS} on {TERMINALS}.terminal = {TRANSACTION}.terminal\n",
    "        where trans_date > strftime('%Y-%m-%d %H:%M:%S', '{meta_instance.city_date}')\n",
    "        and {getter_cards_accounts_clients_terminals()}\n",
    "        order by client_id, trans_date\n",
    "    ) t\n",
    "    where diff <= 60 * 60\n",
    "        and terminal_city != city2\n",
    "        and trans_date > strftime('%Y-%m-%d %H:%M:%S', '{get_date(meta_instance.last_update_date)}')\n",
    ") ret\n",
    "\"\"\", conn)\n",
    "cityDf"
   ],
   "metadata": {
    "collapsed": false,
    "pycharm": {
     "name": "#%%\n"
    }
   }
  },
  {
   "cell_type": "code",
   "execution_count": 75,
   "id": "237545db",
   "metadata": {
    "pycharm": {
     "name": "#%%\n"
    }
   },
   "outputs": [],
   "source": [
    "reportDf = pd.concat([reportDf, cityDf], ignore_index=True)\n",
    "reportDf.to_csv('report.csv')"
   ]
  },
  {
   "cell_type": "code",
   "execution_count": 76,
   "outputs": [],
   "source": [
    "def date_minus_hour(q):\n",
    "    \"\"\"Получаем дататайм для даты и времени 23:00:00\"\"\"\n",
    "    return pd.Timestamp(str(q.year) + '-' + str(q.month) + '-' + str(q.day) + ' 23:00:00')"
   ],
   "metadata": {
    "collapsed": false,
    "pycharm": {
     "name": "#%%\n"
    }
   }
  },
  {
   "cell_type": "code",
   "execution_count": 77,
   "outputs": [],
   "source": [
    "#обновляем мета-информацию. В качестве максимальной даты берем время самого последнего запроса из stage.\n",
    "max_trans_date = pd.read_sql_query(f\"\"\"\n",
    "select max(trans_date) from {TRANSACTION}\n",
    "\"\"\", conn)\n",
    "max_trans_date['max(trans_date)'] = max_trans_date['max(trans_date)'].apply(lambda x: datetime.datetime.strptime(str(x).replace('.','-'), '%Y-%m-%d %H:%M:%S'))\n",
    "ts = max_trans_date['max(trans_date)'][0]\n",
    "meta_instance.city_date = date_minus_hour(ts)"
   ],
   "metadata": {
    "collapsed": false,
    "pycharm": {
     "name": "#%%\n"
    }
   }
  },
  {
   "cell_type": "markdown",
   "id": "18ca93f4",
   "metadata": {
    "pycharm": {
     "name": "#%% md\n"
    }
   },
   "source": [
    "### Попытка подбора сумм"
   ]
  },
  {
   "cell_type": "code",
   "execution_count": 78,
   "outputs": [
    {
     "data": {
      "text/plain": "Empty DataFrame\nColumns: [fraud_dt, passport, last_name, first_name, patronymic, phone, fraud_type, report_dt]\nIndex: []",
      "text/html": "<div>\n<style scoped>\n    .dataframe tbody tr th:only-of-type {\n        vertical-align: middle;\n    }\n\n    .dataframe tbody tr th {\n        vertical-align: top;\n    }\n\n    .dataframe thead th {\n        text-align: right;\n    }\n</style>\n<table border=\"1\" class=\"dataframe\">\n  <thead>\n    <tr style=\"text-align: right;\">\n      <th></th>\n      <th>fraud_dt</th>\n      <th>passport</th>\n      <th>last_name</th>\n      <th>first_name</th>\n      <th>patronymic</th>\n      <th>phone</th>\n      <th>fraud_type</th>\n      <th>report_dt</th>\n    </tr>\n  </thead>\n  <tbody>\n  </tbody>\n</table>\n</div>"
     },
     "execution_count": 78,
     "metadata": {},
     "output_type": "execute_result"
    }
   ],
   "source": [
    "sumDf = pd.read_sql_query(f\"\"\"\n",
    "select\n",
    "    trans_date as fraud_dt,\n",
    "    passport,\n",
    "    last_name,\n",
    "    first_name,\n",
    "    patronymic,\n",
    "    phone,\n",
    "    'summ fraud' as fraud_type,\n",
    "    strftime('%Y-%m-%d %H:%M:%S', 'now') as report_dt\n",
    "from (\n",
    "    select\n",
    "        trans_date,\n",
    "        oper_result,\n",
    "        trans_id,\n",
    "        clt,\n",
    "        amt1,\n",
    "        amt2,\n",
    "        amt3,\n",
    "        amt4,\n",
    "        CAST(strftime('%s', dt1) as integer) - CAST(strftime('%s', dt4) as integer) as diff_sec,\n",
    "        passport,\n",
    "        last_name,\n",
    "        first_name,\n",
    "        patronymic,\n",
    "        phone\n",
    "    from(\n",
    "        select\n",
    "            trans_date,\n",
    "            trans_id,\n",
    "            client_id as clt,\n",
    "            oper_result,\n",
    "            amt as amt1,\n",
    "            LAG(AMT, 1, null) OVER (PARTITION by client order by trans_date) as amt2,\n",
    "            LAG(AMT, 2, null) OVER (PARTITION by client order by trans_date) as amt3,\n",
    "            LAG(AMT, 3, null) OVER (PARTITION by client order by trans_date) as amt4,\n",
    "            trans_date as dt1,\n",
    "            LAG(trans_date, 1, null) OVER (PARTITION by client order by trans_date) as dt2,\n",
    "            LAG(trans_date, 2, null) OVER (PARTITION by client order by trans_date) as dt3,\n",
    "            LAG(trans_date, 3, null) OVER (PARTITION by client order by trans_date) as dt4,\n",
    "            client_id,\n",
    "            passport_num as passport,\n",
    "            last_name,\n",
    "            first_name,\n",
    "            patronymic,\n",
    "            phone\n",
    "        from\n",
    "        (\n",
    "            select\n",
    "                *\n",
    "            from {TRANSACTION}\n",
    "                left join {CARDS} on {TRANSACTION}.card_num = {CARDS}.card_num\n",
    "                left join {ACCOUNTS} on {CARDS}.account_num = {ACCOUNTS}.account_num\n",
    "                left join {CLIENTS} on {ACCOUNTS}.client = {CLIENTS}.client_id\n",
    "                left join {TERMINALS} on {TERMINALS}.terminal = {TRANSACTION}.terminal\n",
    "                where trans_date > strftime('%Y-%m-%d %H:%M:%S', '{meta_instance.sum_date}')\n",
    "                and {getter_cards_accounts_clients_terminals()}\n",
    "            order by client_id, trans_date\n",
    "        ) t\n",
    "    ) tmp\n",
    ") res\n",
    "where diff_sec <= 20 * 60\n",
    "    and amt1 < amt2\n",
    "    and amt2 < amt3\n",
    "    and amt3 < amt4\n",
    "    and oper_result='Успешно'\n",
    "    and CAST(strftime('%s', trans_date) as integer) > CAST(strftime('%s', '{get_date(meta_instance.last_update_date)}') as integer)\n",
    "\"\"\", conn)\n",
    "sumDf"
   ],
   "metadata": {
    "collapsed": false,
    "pycharm": {
     "name": "#%%\n"
    }
   }
  },
  {
   "cell_type": "code",
   "execution_count": 79,
   "outputs": [],
   "source": [
    "reportDf = pd.concat([reportDf, sumDf], ignore_index=True)\n",
    "reportDf.to_csv('report.csv')"
   ],
   "metadata": {
    "collapsed": false,
    "pycharm": {
     "name": "#%%\n"
    }
   }
  },
  {
   "cell_type": "code",
   "execution_count": 80,
   "id": "a7767b30",
   "metadata": {
    "pycharm": {
     "name": "#%%\n"
    }
   },
   "outputs": [],
   "source": [
    "def date_minus_20_minutes(q):\n",
    "    \"\"\"Получаем датадайм для даты и времени 23:40:00\"\"\"\n",
    "    if len(str(q.month)) < 2:\n",
    "        MONTH = '0' + str(q.month)\n",
    "    else:\n",
    "        MONTH = str(q.month)\n",
    "\n",
    "    if len(str(q.day)) < 2:\n",
    "        DAY = '0' + str(q.day)\n",
    "    else:\n",
    "        DAY = str(q.day)\n",
    "    return pd.Timestamp(str(q.year) + '-' + MONTH + '-' + DAY + ' 23:40:00')"
   ]
  },
  {
   "cell_type": "code",
   "execution_count": 81,
   "id": "176b3e12",
   "metadata": {
    "pycharm": {
     "name": "#%%\n"
    }
   },
   "outputs": [],
   "source": [
    "#обновляем мета-информацию. В качестве максимальной даты берем время самого последнего запроса из stage.\n",
    "max_trans_date = pd.read_sql_query(f\"\"\"\n",
    "select max(trans_date) from {TRANSACTION}\n",
    "\"\"\", conn)\n",
    "max_trans_date['max(trans_date)'] = max_trans_date['max(trans_date)'].apply(lambda x: datetime.datetime.strptime(str(x).replace('.','-'), '%Y-%m-%d %H:%M:%S'))\n",
    "ts = max_trans_date['max(trans_date)'][0]\n",
    "\n",
    "meta_instance.sum_date = date_minus_20_minutes(ts)"
   ]
  },
  {
   "cell_type": "markdown",
   "id": "30a3b67f",
   "metadata": {
    "pycharm": {
     "name": "#%% md\n"
    }
   },
   "source": [
    "# Вносим мету в бд"
   ]
  },
  {
   "cell_type": "code",
   "execution_count": 82,
   "id": "0a17e6b1",
   "metadata": {
    "pycharm": {
     "name": "#%%\n"
    }
   },
   "outputs": [
    {
     "data": {
      "text/plain": "<sqlite3.Cursor at 0x240ba71a490>"
     },
     "execution_count": 82,
     "metadata": {},
     "output_type": "execute_result"
    }
   ],
   "source": [
    "c.execute(f\"\"\"\n",
    "update {META}\n",
    "set end_dt = strftime('%Y-%m-%d %H:%M:%S', '{meta_instance.last_update_date}')\n",
    "where  end_dt is null\"\"\")"
   ]
  },
  {
   "cell_type": "code",
   "execution_count": 83,
   "id": "b9a2c8a2",
   "metadata": {
    "pycharm": {
     "name": "#%%\n"
    }
   },
   "outputs": [
    {
     "data": {
      "text/plain": "<sqlite3.Cursor at 0x240ba71a490>"
     },
     "execution_count": 83,
     "metadata": {},
     "output_type": "execute_result"
    }
   ],
   "source": [
    "c.execute(f\"\"\"\n",
    "insert into {META} (last_update_date, passport_date, account_date, city_date, sum_date, start_dt)\n",
    "values (\n",
    "    strftime('%Y-%m-%d %H:%M:%S', '{meta_instance.last_update_date}'),\n",
    "    strftime('%Y-%m-%d %H:%M:%S', '{meta_instance.passport_date}'),\n",
    "    strftime('%Y-%m-%d %H:%M:%S', '{meta_instance.account_date}'),\n",
    "    strftime('%Y-%m-%d %H:%M:%S', '{meta_instance.city_date}'),\n",
    "    strftime('%Y-%m-%d %H:%M:%S', '{meta_instance.sum_date}'),\n",
    "    strftime('%Y-%m-%d %H:%M:%S', '{meta_instance.last_update_date}')\n",
    ")\n",
    "\"\"\")"
   ]
  },
  {
   "cell_type": "code",
   "execution_count": 84,
   "id": "a6b62c31",
   "metadata": {
    "pycharm": {
     "name": "#%%\n"
    }
   },
   "outputs": [
    {
     "data": {
      "text/plain": "<sqlite3.Cursor at 0x240ba71a490>"
     },
     "execution_count": 84,
     "metadata": {},
     "output_type": "execute_result"
    }
   ],
   "source": [
    "c.execute('commit')"
   ]
  },
  {
   "cell_type": "markdown",
   "id": "67a0024c",
   "metadata": {
    "pycharm": {
     "name": "#%% md\n"
    }
   },
   "source": [
    "# Конец\n",
    "Закрываем все соединения"
   ]
  },
  {
   "cell_type": "code",
   "execution_count": 85,
   "outputs": [],
   "source": [
    "c.close()\n",
    "v.close()"
   ],
   "metadata": {
    "collapsed": false,
    "pycharm": {
     "name": "#%%\n"
    }
   }
  }
 ],
 "metadata": {
  "kernelspec": {
   "display_name": "Python 3 (ipykernel)",
   "language": "python",
   "name": "python3"
  },
  "language_info": {
   "codemirror_mode": {
    "name": "ipython",
    "version": 3
   },
   "file_extension": ".py",
   "mimetype": "text/x-python",
   "name": "python",
   "nbconvert_exporter": "python",
   "pygments_lexer": "ipython3",
   "version": "3.9.7"
  },
  "toc": {
   "base_numbering": 1,
   "nav_menu": {},
   "number_sections": true,
   "sideBar": true,
   "skip_h1_title": false,
   "title_cell": "Table of Contents",
   "title_sidebar": "Contents",
   "toc_cell": false,
   "toc_position": {
    "height": "calc(100% - 180px)",
    "left": "10px",
    "top": "150px",
    "width": "253.991px"
   },
   "toc_section_display": true,
   "toc_window_display": true
  },
  "varInspector": {
   "cols": {
    "lenName": 16,
    "lenType": 16,
    "lenVar": 40
   },
   "kernels_config": {
    "python": {
     "delete_cmd_postfix": "",
     "delete_cmd_prefix": "del ",
     "library": "var_list.py",
     "varRefreshCmd": "print(var_dic_list())"
    },
    "r": {
     "delete_cmd_postfix": ") ",
     "delete_cmd_prefix": "rm(",
     "library": "var_list.r",
     "varRefreshCmd": "cat(var_dic_list()) "
    }
   },
   "position": {
    "height": "420.812px",
    "left": "1547.94px",
    "right": "20px",
    "top": "121.953px",
    "width": "350px"
   },
   "types_to_exclude": [
    "module",
    "function",
    "builtin_function_or_method",
    "instance",
    "_Feature"
   ],
   "window_display": false
  }
 },
 "nbformat": 4,
 "nbformat_minor": 5
}